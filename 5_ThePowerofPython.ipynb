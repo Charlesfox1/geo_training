{
 "cells": [
  {
   "cell_type": "markdown",
   "metadata": {},
   "source": [
    "This is not meant as an introductory lecture - this notebook showcases some of the more high-end techniques available to advanced and experienced python users"
   ]
  },
  {
   "cell_type": "code",
   "execution_count": null,
   "metadata": {},
   "outputs": [],
   "source": [
    "# pip install rasterstats"
   ]
  },
  {
   "cell_type": "code",
   "execution_count": null,
   "metadata": {},
   "outputs": [],
   "source": [
    "# pip install rasterio"
   ]
  },
  {
   "cell_type": "code",
   "execution_count": null,
   "metadata": {},
   "outputs": [],
   "source": [
    "# pip install numpy_financial"
   ]
  },
  {
   "cell_type": "code",
   "execution_count": null,
   "metadata": {},
   "outputs": [],
   "source": [
    "# pip install loguru"
   ]
  },
  {
   "cell_type": "code",
   "execution_count": null,
   "metadata": {},
   "outputs": [],
   "source": [
    "# pip install scikit-learn"
   ]
  },
  {
   "cell_type": "code",
   "execution_count": null,
   "metadata": {},
   "outputs": [],
   "source": [
    "# pip install cvxpy"
   ]
  },
  {
   "cell_type": "code",
   "execution_count": null,
   "metadata": {},
   "outputs": [],
   "source": [
    "# !git clone https://github.com/Charlesfox1/geo_training"
   ]
  },
  {
   "cell_type": "code",
   "execution_count": 20,
   "metadata": {},
   "outputs": [],
   "source": [
    "# standard libs\n",
    "import time\n",
    "import numpy as np\n",
    "from loguru import logger\n",
    "from multiprocessing import Pool, cpu_count\n",
    "\n",
    "# financial libs\n",
    "import numpy_financial as npf\n",
    "\n",
    "# graphical libs\n",
    "import plotly.express as px\n",
    "import folium\n",
    "\n",
    "# geospatial libs\n",
    "from shapely.geometry import Point\n",
    "import pandas as pd\n",
    "pd.set_option('display.precision', 1)\n",
    "import geopandas as gpd\n",
    "from geo_training import geo_utils\n",
    "import rasterio\n",
    "import rasterstats\n",
    "\n",
    "# webscraping\n",
    "import requests\n",
    "from bs4 import BeautifulSoup"
   ]
  },
  {
   "cell_type": "markdown",
   "metadata": {},
   "source": [
    "### MonteCarlo Simulation\n",
    "- use python to construct much more advanced scenario simulations"
   ]
  },
  {
   "cell_type": "code",
   "execution_count": null,
   "metadata": {},
   "outputs": [],
   "source": [
    "def revenue_growth_pct():\n",
    "    # Draw from a normal distribution, shifted, mean of 5, s.d. of 1\n",
    "    return np.random.normal(loc=5, scale=1.0)\n",
    "\n",
    "def gross_profit_margin_pct():\n",
    "    # centre around 25%\n",
    "    return np.random.normal(loc=45, scale=1)\n",
    "\n",
    "def sg_and_a_growth_pct():\n",
    "    # Draw from a normal distribution, shifted, mean of 5, s.d. of 1\n",
    "    return np.random.normal(loc=3, scale=1.0)\n",
    "\n",
    "def capex_required():\n",
    "    # Draw from a beta distribution, shifted, mean of 5, s.d. of 1\n",
    "    x = np.random.beta(a=5, b=5)\n",
    "    if x > 0.65:\n",
    "        return True\n",
    "    else:\n",
    "        return False\n",
    "    \n",
    "def capex_spend():\n",
    "    # spend of at least 100... could be a lot more...\n",
    "    return min(np.random.pareto(a=1) * 5 + 100, 5000)\n",
    "\n",
    "def debt_cost_pct():\n",
    "    # normal distribution centred on 5%, .s.d 1%, minimum of 2%\n",
    "    return round(max(np.random.normal(loc=5, scale=1), 2), 1)\n",
    "\n",
    "\n",
    "def scenario(_input):\n",
    "    \n",
    "    V = _input[0]\n",
    "    years_to_model = _input[1]\n",
    "    \n",
    "    # Instantiate local variables\n",
    "    revenue = V['initial_revenue']\n",
    "    tax_rate_pct = V['tax_rate_pct']\n",
    "    debt = V['initial_debt']\n",
    "    sg_and_a = V['initial_sg_and_a']\n",
    "    depreciable_assets = V['initial_depreciable_assets']\n",
    "    depreciation_charge = depreciable_assets * (1 / V['depreciation_lifetime_years'])\n",
    "    \n",
    "    res = []\n",
    "    for year in range(0, years_to_model):\n",
    "        \n",
    "        # This year's revenue is last year's multiplied by some growth\n",
    "        revenue = revenue * ((100 + revenue_growth_pct()) / 100)\n",
    "        # Gross profit is some fraction of revenue\n",
    "        gross_margin = gross_profit_margin_pct() / 100\n",
    "        gross_profit = revenue * gross_margin\n",
    "        # COGS is the delta\n",
    "        cogs = revenue - gross_profit\n",
    "        # Grow SG&A\n",
    "        sg_and_a = sg_and_a * ((100 + sg_and_a_growth_pct()) / 100)\n",
    "        # EBITDA\n",
    "        ebitda = gross_profit - sg_and_a\n",
    "        # Depreciate assets - straightline (fixed annual charge)\n",
    "        depreciable_assets -= depreciation_charge\n",
    "        # EBIT\n",
    "        ebit = ebitda - depreciation_charge\n",
    "        # Interest\n",
    "        if year < V['years_until_refinance']:\n",
    "            interest_rate_pct = V['initial_interest_pct']\n",
    "        elif year == V['years_until_refinance']:\n",
    "            interest_rate_pct = debt_cost_pct()\n",
    "        interest_charge = debt * ((interest_rate_pct) / 100)\n",
    "        # Tax\n",
    "        ebt = ebit - interest_charge\n",
    "        tax = max(ebt * (tax_rate_pct / 100), 0)\n",
    "        # PAT\n",
    "        pat = ebt - tax\n",
    "        # CAPEX\n",
    "        if capex_required():\n",
    "            capex = capex_spend()\n",
    "        else:\n",
    "            capex = 0\n",
    "        # FCFE - Assume no change in Working Capital, Net Borrowing for simplicity\n",
    "        fcfe = ebitda - interest_charge - tax - capex\n",
    "        \n",
    "        # add financials to a list, store\n",
    "        res.append(\n",
    "            (year, revenue,cogs,gross_profit,sg_and_a,\n",
    "             ebitda,depreciation_charge,ebit,interest_rate_pct,\n",
    "             interest_charge,ebt,tax,pat,capex,fcfe\n",
    "            )\n",
    "        )\n",
    "    \n",
    "    # generate financials dataframe for this scenario\n",
    "    df = pd.DataFrame(res, columns = \n",
    "                     ['year','revenue','cogs',\n",
    "                      'gross_profit','sg_and_a','ebitda',\n",
    "                      'depreciation_charge','ebit','interest_rate',\n",
    "                      'interest_charge','ebt','tax','pat','capex','fcfe'])\n",
    "    \n",
    "    # Define cashflow stream for valuation\n",
    "    cashflows = [-V['business_purchase_cost']] + list(df['fcfe'])\n",
    "    \n",
    "    # Summary dictionary\n",
    "    summary = {'revenue_cagr': round(((revenue / V['initial_revenue']) ** (1/years_to_model)) - 1,4),\n",
    "            'avg_gross_margin': round(np.mean(df['gross_profit'] / df['revenue']),4),\n",
    "            'refinance_interest_rate':round(interest_rate_pct / 100,4),\n",
    "            'total_capex_as_pct_of_revenue':round(df['capex'].sum() / df['revenue'].sum(),4),\n",
    "            'sg_and_a_as_pct_of_revenue': round(df['sg_and_a'].sum() / df['revenue'].sum(),4),\n",
    "            'IRR': round(npf.irr(cashflows),3),\n",
    "            'NPV': round(npf.npv(V['discount_factor'], cashflows),1)\n",
    "           }\n",
    "    \n",
    "    return summary, df.T"
   ]
  },
  {
   "cell_type": "code",
   "execution_count": null,
   "metadata": {},
   "outputs": [],
   "source": [
    "# Set Common Start Variables\n",
    "V = {\n",
    "    'initial_revenue':650,\n",
    "    'tax_rate_pct':20,\n",
    "    'initial_debt':4000,\n",
    "    'initial_interest_pct':2,\n",
    "    'years_until_refinance':5,\n",
    "    'initial_sg_and_a':45,\n",
    "    'initial_depreciable_assets':550,\n",
    "    'depreciation_lifetime_years':10,\n",
    "    'business_purchase_cost':1000,\n",
    "    'discount_factor':0.07\n",
    "}\n",
    "\n",
    "_input = (V, 10)\n",
    "\n",
    "scenario(_input)[0]"
   ]
  },
  {
   "cell_type": "code",
   "execution_count": null,
   "metadata": {},
   "outputs": [],
   "source": [
    "scenario(_input)[1]"
   ]
  },
  {
   "cell_type": "code",
   "execution_count": null,
   "metadata": {},
   "outputs": [],
   "source": [
    "%%timeit\n",
    "_ = scenario(_input)[0]"
   ]
  },
  {
   "cell_type": "code",
   "execution_count": null,
   "metadata": {},
   "outputs": [],
   "source": [
    "_input = (V, 10)\n",
    "scenarios = []\n",
    "financial_dfs = {}\n",
    "# run 10,000 scenarios\n",
    "start_time = time.time()\n",
    "for i in range(10000):\n",
    "    output = scenario(_input)\n",
    "    results = output[0]\n",
    "    results['scenario_id'] = i\n",
    "    scenarios.append(results)\n",
    "    financial_dfs[i] = output[1]\n",
    "end_time = time.time()\n",
    "print(f'Time elapsed: {round(end_time - start_time, 2)}s')"
   ]
  },
  {
   "cell_type": "code",
   "execution_count": null,
   "metadata": {},
   "outputs": [],
   "source": [
    "# Visualise the results\n",
    "mdf = pd.DataFrame(scenarios)"
   ]
  },
  {
   "cell_type": "code",
   "execution_count": null,
   "metadata": {
    "scrolled": true
   },
   "outputs": [],
   "source": [
    "mdf"
   ]
  },
  {
   "cell_type": "markdown",
   "metadata": {},
   "source": [
    "### Options\n",
    "- Visualise scenarios by condition (e.g. count of scenarios by IRR)\n",
    "- Investigate this dataset with regression / PCA"
   ]
  },
  {
   "cell_type": "code",
   "execution_count": null,
   "metadata": {},
   "outputs": [],
   "source": [
    "# Example / Starter: Visualise scenarios by IRR, colour by different variables\n",
    "x = 'IRR'\n",
    "y = 'avg_gross_margin'\n",
    "fig = px.scatter(mdf, \n",
    "                 x=x, \n",
    "                 y=y,\n",
    "                 hover_data=['scenario_id'])\n",
    "fig.update_xaxes(range=[-0.1,0.2], title = x)\n",
    "fig.update_yaxes(title = y)\n",
    "fig.update_layout(height = 800, width = 1000)\n",
    "fig.show()"
   ]
  },
  {
   "cell_type": "markdown",
   "metadata": {},
   "source": [
    "#### Conclusion - not a huge relationship between IRR and gross margin - something else might be more important"
   ]
  },
  {
   "cell_type": "code",
   "execution_count": null,
   "metadata": {},
   "outputs": [],
   "source": [
    "# Example / Starter: Visualise scenarios by IRR, colour by different variables\n",
    "x = 'IRR'\n",
    "y = 'refinance_interest_rate'\n",
    "fig = px.scatter(mdf, \n",
    "                 x=x, \n",
    "                 y=y,\n",
    "                 hover_data=['scenario_id'])\n",
    "fig.update_xaxes(range=[-0.1,0.2], title = x)\n",
    "fig.update_yaxes(title = y)\n",
    "fig.update_layout(height = 800, width = 1000)\n",
    "fig.show()"
   ]
  },
  {
   "cell_type": "markdown",
   "metadata": {},
   "source": [
    "#### Conclusion - strong negative relationship between IRR and Refinance interest rate\n",
    "- more important to watch refinancing for this company than margin progression"
   ]
  },
  {
   "cell_type": "code",
   "execution_count": null,
   "metadata": {},
   "outputs": [],
   "source": [
    "# Example / Starter: Visualise scenarios by IRR, colour by different variables\n",
    "x = 'IRR'\n",
    "y = 'total_capex_as_pct_of_revenue'\n",
    "fig = px.scatter(mdf, \n",
    "                 x=x, \n",
    "                 y=y,\n",
    "                 hover_data=['scenario_id'])\n",
    "fig.update_xaxes(range=[-0.1,0.2], title = x)\n",
    "fig.update_yaxes(range=[0,0.1], title = y)\n",
    "fig.show()"
   ]
  },
  {
   "cell_type": "code",
   "execution_count": null,
   "metadata": {},
   "outputs": [],
   "source": [
    "# Example / Starter: Visualise scenarios by IRR, colour by different variables\n",
    "x = 'IRR'\n",
    "y = 'total_capex_as_pct_of_revenue'\n",
    "fig = px.scatter(mdf, \n",
    "                 x=x, \n",
    "                 y=y,\n",
    "                 color='refinance_interest_rate',\n",
    "                 hover_data=['scenario_id'])\n",
    "fig.update_xaxes(range=[-0.1,0.2], title = x)\n",
    "fig.update_yaxes(range=[0,0.1], title = y)\n",
    "fig.show()"
   ]
  },
  {
   "cell_type": "markdown",
   "metadata": {},
   "source": [
    "### Multithreading: Use the Whole Computer\n",
    "- Distribute independent tasks across available threads - e.g, montecarlo simulations!"
   ]
  },
  {
   "cell_type": "code",
   "execution_count": null,
   "metadata": {},
   "outputs": [],
   "source": [
    "# Find out what compute we have available\n",
    "cpus = cpu_count()\n",
    "logger.info(f\"Detected {cpus} cores on the machine\")\n",
    "\n",
    "def f(x):\n",
    "    # Simple work function\n",
    "    return x*x\n",
    "\n",
    "# Bundle of inputs\n",
    "number_of_scenarios = range(1000)\n",
    "\n",
    "# Ensure entry at master process level\n",
    "if __name__ == '__main__':\n",
    "    \n",
    "    # Create a CPU pool\n",
    "    with Pool(cpus) as p:\n",
    "        \n",
    "        results = p.map(f, number_of_scenarios)"
   ]
  },
  {
   "cell_type": "code",
   "execution_count": null,
   "metadata": {},
   "outputs": [],
   "source": [
    "print(len(results))"
   ]
  },
  {
   "cell_type": "code",
   "execution_count": null,
   "metadata": {},
   "outputs": [],
   "source": [
    "results[:5]"
   ]
  },
  {
   "cell_type": "markdown",
   "metadata": {},
   "source": [
    "- Now let's run our Montecarlo simulation, but multi-threaded"
   ]
  },
  {
   "cell_type": "code",
   "execution_count": null,
   "metadata": {
    "scrolled": true
   },
   "outputs": [],
   "source": [
    "# Find out what compute we have available\n",
    "cpus = cpu_count()\n",
    "logger.info(f\"Detected {cpus} cores on the machine\")\n",
    "\n",
    "# Bundle of inputs\n",
    "number_of_scenarios = 10000\n",
    "\n",
    "# Ensure entry at master process level\n",
    "if __name__ == '__main__':\n",
    "    \n",
    "    start_time = time.time()\n",
    "    \n",
    "    # Create a CPU pool\n",
    "    with Pool(cpus) as p:\n",
    "        \n",
    "        # map the work to the pool, gather the results\n",
    "        scenarios_pooled = p.map(scenario, [(V, 10)]*number_of_scenarios)\n",
    "    \n",
    "    end_time = time.time()\n",
    "    print(f'Time elapsed: {round(end_time - start_time, 2)}s when distributed across {cpus} CPUs')"
   ]
  },
  {
   "cell_type": "markdown",
   "metadata": {},
   "source": [
    "### Geospatial Data\n",
    "- Use geospatial data to sense-check company expansion plans, optimise real estate positioning, etc. \n",
    "- Schroders has expanded and has decided to launch a range of cheap Scandinanvian furniture (\"SchroKEA\"). they have identified 10 potential locations in London for their first store. Which location gives them the greatest addressable market in 20 minutes?"
   ]
  },
  {
   "cell_type": "code",
   "execution_count": null,
   "metadata": {
    "scrolled": false
   },
   "outputs": [],
   "source": [
    "# Import locations\n",
    "locations = gpd.read_file('geo_training/locations.geojson')\n",
    "locations = locations.set_index('id')\n",
    "\n",
    "# Use TravelTime API service to generate 20-minute isochrone\n",
    "\n",
    "creds = {'X-Application-Id':os.getenv('X_APPLICATION_ID'),\n",
    "         'X-Api-Key':os.getenv('X_API_KEY')}\n",
    "        \n",
    "travel_time_mins = 20\n",
    "isos = []\n",
    "for _id_, location in locations.iterrows():\n",
    "    \n",
    "    iso = geo_utils.tt_isochrone(location.geometry, \n",
    "                                 travel_time_mins = 20,\n",
    "                                 creds = creds, # I can't share these!\n",
    "                                 mode = 'public_transport',\n",
    "                                 _id_ = str(_id_)\n",
    "                                )\n",
    "    \n",
    "    isos.append(iso)\n",
    "    \n"
   ]
  },
  {
   "cell_type": "code",
   "execution_count": null,
   "metadata": {},
   "outputs": [],
   "source": [
    "iso_gdf = gpd.GeoDataFrame(pd.concat(isos), crs = 4326, geometry = 'geometry')\n",
    "iso_gdf.index = iso_gdf.index.astype(int)\n",
    "iso_gdf = iso_gdf.join(locations[['location']]).reset_index()\n",
    "iso_gdf.to_file('geo_training/isochrones.geojson')"
   ]
  },
  {
   "cell_type": "code",
   "execution_count": 21,
   "metadata": {},
   "outputs": [],
   "source": [
    "iso_gdf = gpd.read_file('geo_training/isochrones.geojson')"
   ]
  },
  {
   "cell_type": "code",
   "execution_count": 22,
   "metadata": {
    "scrolled": false
   },
   "outputs": [
    {
     "data": {
      "text/html": [
       "<div style=\"width:100%;\"><div style=\"position:relative;width:100%;height:0;padding-bottom:60%;\"><span style=\"color:#565656\">Make this Notebook Trusted to load map: File -> Trust Notebook</span><iframe srcdoc=\"&lt;!DOCTYPE html&gt;\n",
       "&lt;html&gt;\n",
       "&lt;head&gt;\n",
       "    \n",
       "    &lt;meta http-equiv=&quot;content-type&quot; content=&quot;text/html; charset=UTF-8&quot; /&gt;\n",
       "    \n",
       "        &lt;script&gt;\n",
       "            L_NO_TOUCH = false;\n",
       "            L_DISABLE_3D = false;\n",
       "        &lt;/script&gt;\n",
       "    \n",
       "    &lt;style&gt;html, body {width: 100%;height: 100%;margin: 0;padding: 0;}&lt;/style&gt;\n",
       "    &lt;style&gt;#map {position:absolute;top:0;bottom:0;right:0;left:0;}&lt;/style&gt;\n",
       "    &lt;script src=&quot;https://cdn.jsdelivr.net/npm/leaflet@1.9.3/dist/leaflet.js&quot;&gt;&lt;/script&gt;\n",
       "    &lt;script src=&quot;https://code.jquery.com/jquery-1.12.4.min.js&quot;&gt;&lt;/script&gt;\n",
       "    &lt;script src=&quot;https://cdn.jsdelivr.net/npm/bootstrap@5.2.2/dist/js/bootstrap.bundle.min.js&quot;&gt;&lt;/script&gt;\n",
       "    &lt;script src=&quot;https://cdnjs.cloudflare.com/ajax/libs/Leaflet.awesome-markers/2.0.2/leaflet.awesome-markers.js&quot;&gt;&lt;/script&gt;\n",
       "    &lt;link rel=&quot;stylesheet&quot; href=&quot;https://cdn.jsdelivr.net/npm/leaflet@1.9.3/dist/leaflet.css&quot;/&gt;\n",
       "    &lt;link rel=&quot;stylesheet&quot; href=&quot;https://cdn.jsdelivr.net/npm/bootstrap@5.2.2/dist/css/bootstrap.min.css&quot;/&gt;\n",
       "    &lt;link rel=&quot;stylesheet&quot; href=&quot;https://netdna.bootstrapcdn.com/bootstrap/3.0.0/css/bootstrap.min.css&quot;/&gt;\n",
       "    &lt;link rel=&quot;stylesheet&quot; href=&quot;https://cdn.jsdelivr.net/npm/@fortawesome/fontawesome-free@6.2.0/css/all.min.css&quot;/&gt;\n",
       "    &lt;link rel=&quot;stylesheet&quot; href=&quot;https://cdnjs.cloudflare.com/ajax/libs/Leaflet.awesome-markers/2.0.2/leaflet.awesome-markers.css&quot;/&gt;\n",
       "    &lt;link rel=&quot;stylesheet&quot; href=&quot;https://cdn.jsdelivr.net/gh/python-visualization/folium/folium/templates/leaflet.awesome.rotate.min.css&quot;/&gt;\n",
       "    \n",
       "            &lt;meta name=&quot;viewport&quot; content=&quot;width=device-width,\n",
       "                initial-scale=1.0, maximum-scale=1.0, user-scalable=no&quot; /&gt;\n",
       "            &lt;style&gt;\n",
       "                #map_69fa74e48f0eed3ded12b1a7ba247e19 {\n",
       "                    position: relative;\n",
       "                    width: 100.0%;\n",
       "                    height: 100.0%;\n",
       "                    left: 0.0%;\n",
       "                    top: 0.0%;\n",
       "                }\n",
       "                .leaflet-container { font-size: 1rem; }\n",
       "            &lt;/style&gt;\n",
       "        \n",
       "    \n",
       "                    &lt;style&gt;\n",
       "                        .foliumtooltip {\n",
       "                            \n",
       "                        }\n",
       "                       .foliumtooltip table{\n",
       "                            margin: auto;\n",
       "                        }\n",
       "                        .foliumtooltip tr{\n",
       "                            text-align: left;\n",
       "                        }\n",
       "                        .foliumtooltip th{\n",
       "                            padding: 2px; padding-right: 8px;\n",
       "                        }\n",
       "                    &lt;/style&gt;\n",
       "            \n",
       "&lt;/head&gt;\n",
       "&lt;body&gt;\n",
       "    \n",
       "    \n",
       "            &lt;div class=&quot;folium-map&quot; id=&quot;map_69fa74e48f0eed3ded12b1a7ba247e19&quot; &gt;&lt;/div&gt;\n",
       "        \n",
       "&lt;/body&gt;\n",
       "&lt;script&gt;\n",
       "    \n",
       "    \n",
       "            var map_69fa74e48f0eed3ded12b1a7ba247e19 = L.map(\n",
       "                &quot;map_69fa74e48f0eed3ded12b1a7ba247e19&quot;,\n",
       "                {\n",
       "                    center: [51.5074, -0.1278],\n",
       "                    crs: L.CRS.EPSG3857,\n",
       "                    zoom: 12,\n",
       "                    zoomControl: true,\n",
       "                    preferCanvas: false,\n",
       "                }\n",
       "            );\n",
       "\n",
       "            \n",
       "\n",
       "        \n",
       "    \n",
       "            var tile_layer_ea9d698a08dc318e7a6933c22141acdd = L.tileLayer(\n",
       "                &quot;https://{s}.tile.openstreetmap.org/{z}/{x}/{y}.png&quot;,\n",
       "                {&quot;attribution&quot;: &quot;Data by \\u0026copy; \\u003ca target=\\&quot;_blank\\&quot; href=\\&quot;http://openstreetmap.org\\&quot;\\u003eOpenStreetMap\\u003c/a\\u003e, under \\u003ca target=\\&quot;_blank\\&quot; href=\\&quot;http://www.openstreetmap.org/copyright\\&quot;\\u003eODbL\\u003c/a\\u003e.&quot;, &quot;detectRetina&quot;: false, &quot;maxNativeZoom&quot;: 18, &quot;maxZoom&quot;: 18, &quot;minZoom&quot;: 0, &quot;noWrap&quot;: false, &quot;opacity&quot;: 1, &quot;subdomains&quot;: &quot;abc&quot;, &quot;tms&quot;: false}\n",
       "            ).addTo(map_69fa74e48f0eed3ded12b1a7ba247e19);\n",
       "        \n",
       "    \n",
       "        function geo_json_7729a7d5f134fbfe93fd3e8a62f02589_styler(feature) {\n",
       "            switch(feature.id) {\n",
       "                case &quot;0&quot;: \n",
       "                    return {&quot;color&quot;: &quot;black&quot;, &quot;fillColor&quot;: &quot;rgb(0,42,94)&quot;, &quot;fillOpacity&quot;: 0.6, &quot;weight&quot;: 1};\n",
       "                case &quot;1&quot;: \n",
       "                    return {&quot;color&quot;: &quot;black&quot;, &quot;fillColor&quot;: &quot;rgb(0,121,109)&quot;, &quot;fillOpacity&quot;: 0.6, &quot;weight&quot;: 1};\n",
       "                case &quot;2&quot;: \n",
       "                    return {&quot;color&quot;: &quot;black&quot;, &quot;fillColor&quot;: &quot;rgb(234,82,4)&quot;, &quot;fillOpacity&quot;: 0.6, &quot;weight&quot;: 1};\n",
       "                case &quot;3&quot;: \n",
       "                    return {&quot;color&quot;: &quot;black&quot;, &quot;fillColor&quot;: &quot;rgb(183,25,98)&quot;, &quot;fillOpacity&quot;: 0.6, &quot;weight&quot;: 1};\n",
       "                case &quot;4&quot;: \n",
       "                    return {&quot;color&quot;: &quot;black&quot;, &quot;fillColor&quot;: &quot;rgb(79,51,152)&quot;, &quot;fillOpacity&quot;: 0.6, &quot;weight&quot;: 1};\n",
       "                case &quot;5&quot;: \n",
       "                    return {&quot;color&quot;: &quot;black&quot;, &quot;fillColor&quot;: &quot;rgb(0,116,183)&quot;, &quot;fillOpacity&quot;: 0.6, &quot;weight&quot;: 1};\n",
       "                case &quot;7&quot;: \n",
       "                    return {&quot;color&quot;: &quot;black&quot;, &quot;fillColor&quot;: &quot;rgb(248,169,8)&quot;, &quot;fillOpacity&quot;: 0.6, &quot;weight&quot;: 1};\n",
       "                case &quot;8&quot;: \n",
       "                    return {&quot;color&quot;: &quot;black&quot;, &quot;fillColor&quot;: &quot;rgb(223,83,106)&quot;, &quot;fillOpacity&quot;: 0.6, &quot;weight&quot;: 1};\n",
       "                case &quot;9&quot;: \n",
       "                    return {&quot;color&quot;: &quot;black&quot;, &quot;fillColor&quot;: &quot;rgb(125,55,135)&quot;, &quot;fillOpacity&quot;: 0.6, &quot;weight&quot;: 1};\n",
       "                default:\n",
       "                    return {&quot;color&quot;: &quot;black&quot;, &quot;fillColor&quot;: &quot;rgb(99,197,50)&quot;, &quot;fillOpacity&quot;: 0.6, &quot;weight&quot;: 1};\n",
       "            }\n",
       "        }\n",
       "\n",
       "        function geo_json_7729a7d5f134fbfe93fd3e8a62f02589_onEachFeature(feature, layer) {\n",
       "            layer.on({\n",
       "            });\n",
       "        };\n",
       "        var geo_json_7729a7d5f134fbfe93fd3e8a62f02589 = L.geoJson(null, {\n",
       "                onEachFeature: geo_json_7729a7d5f134fbfe93fd3e8a62f02589_onEachFeature,\n",
       "            \n",
       "                style: geo_json_7729a7d5f134fbfe93fd3e8a62f02589_styler,\n",
       "        });\n",
       "\n",
       "        function geo_json_7729a7d5f134fbfe93fd3e8a62f02589_add (data) {\n",
       "            geo_json_7729a7d5f134fbfe93fd3e8a62f02589\n",
       "                .addData(data)\n",
       "                .addTo(map_69fa74e48f0eed3ded12b1a7ba247e19);\n",
       "        }\n",
       "            geo_json_7729a7d5f134fbfe93fd3e8a62f02589_add({&quot;bbox&quot;: [-0.237681102065835, 51.46815242123557, -0.0043178157066, 51.568384304177016], &quot;features&quot;: [{&quot;bbox&quot;: [-0.201452050590888, 51.46815242123557, -0.129504890413955, 51.503206346707884], &quot;geometry&quot;: {&quot;coordinates&quot;: [[[[-0.192818391369656, 51.47669119795319], [-0.192098919767886, 51.47624178865226], [-0.18778209015727, 51.47624178865226], [-0.187062618555501, 51.47669119795319], [-0.187062618555501, 51.47759001655504], [-0.186343146953732, 51.47803942585597], [-0.184904203750193, 51.47803942585597], [-0.183465260546654, 51.477140607254114], [-0.182026317343116, 51.47803942585597], [-0.179148430936038, 51.47803942585597], [-0.178249091433827, 51.478488835156895], [-0.173392658121884, 51.48152234793815], [-0.169075828511268, 51.48242116654001], [-0.161881112493575, 51.48331998514186], [-0.15612533967942, 51.484218803743715], [-0.151808510068804, 51.48511762234557], [-0.147491680458188, 51.48511762234557], [-0.144613794051111, 51.4852299746708], [-0.143894322449341, 51.48567938397173], [-0.143894322449341, 51.48657820257358], [-0.142455379245803, 51.48747702117544], [-0.142455379245803, 51.489274658379145], [-0.141016436042264, 51.490173476981], [-0.141016436042264, 51.49197111418471], [-0.138858021236956, 51.49331934208749], [-0.137419078033417, 51.49331934208749], [-0.136699606431648, 51.493768751388416], [-0.136699606431648, 51.49466756999027], [-0.13454119162634, 51.49601579789305], [-0.133102248422801, 51.49601579789305], [-0.130943833617494, 51.49736402579583], [-0.130943833617494, 51.498262844397686], [-0.129504890413955, 51.49916166299954], [-0.130224362015724, 51.49961107230047], [-0.131663305219263, 51.49961107230047], [-0.133102248422801, 51.50050989090232], [-0.13454119162634, 51.49961107230047], [-0.135980134829879, 51.50050989090232], [-0.137419078033417, 51.50050989090232], [-0.138858021236956, 51.49961107230047], [-0.140296964440495, 51.49961107230047], [-0.141735907644033, 51.50050989090232], [-0.143174850847572, 51.49961107230047], [-0.144613794051111, 51.49961107230047], [-0.147491680458188, 51.501408709504176], [-0.148930623661727, 51.501408709504176], [-0.149650095263496, 51.5018581188051], [-0.148211152059957, 51.50275693740696], [-0.148930623661727, 51.503206346707884], [-0.153247453272343, 51.503206346707884], [-0.153966924874112, 51.50275693740696], [-0.153966924874112, 51.500060481601395], [-0.153247453272343, 51.49961107230047], [-0.151808510068804, 51.50050989090232], [-0.151089038467035, 51.500060481601395], [-0.151089038467035, 51.49916166299954], [-0.150369566865265, 51.49871225369861], [-0.148930623661727, 51.49871225369861], [-0.148211152059957, 51.498262844397686], [-0.150369566865265, 51.496914616494905], [-0.153247453272343, 51.49871225369861], [-0.15612533967942, 51.49871225369861], [-0.157564282882959, 51.49961107230047], [-0.159003226086497, 51.49961107230047], [-0.160442169290036, 51.50050989090232], [-0.161881112493575, 51.50050989090232], [-0.162600584095344, 51.500060481601395], [-0.162600584095344, 51.498262844397686], [-0.163320055697113, 51.49781343509676], [-0.164758998900652, 51.49781343509676], [-0.166197942104191, 51.49871225369861], [-0.167636885307729, 51.49871225369861], [-0.169075828511268, 51.49781343509676], [-0.170514771714807, 51.49871225369861], [-0.171234243316576, 51.498262844397686], [-0.171234243316576, 51.49736402579583], [-0.171953714918345, 51.496914616494905], [-0.173392658121884, 51.496914616494905], [-0.174831601325423, 51.49781343509676], [-0.1777094877325, 51.49601579789305], [-0.179148430936038, 51.496914616494905], [-0.180587374139577, 51.49601579789305], [-0.181306845741346, 51.49646520719398], [-0.181306845741346, 51.49736402579583], [-0.182745788944885, 51.498262844397686], [-0.182745788944885, 51.49916166299954], [-0.183465260546654, 51.49961107230047], [-0.184904203750193, 51.49961107230047], [-0.185623675351962, 51.49916166299954], [-0.185623675351962, 51.489274658379145], [-0.186343146953732, 51.48882524907822], [-0.18778209015727, 51.48882524907822], [-0.18850156175904, 51.48837583977729], [-0.18850156175904, 51.48747702117544], [-0.189940504962578, 51.48657820257358], [-0.189940504962578, 51.48567938397173], [-0.191379448166117, 51.484780565369874], [-0.191379448166117, 51.48208410956431], [-0.192098919767886, 51.481634700263385], [-0.194976806174964, 51.481634700263385], [-0.196415749378502, 51.48073588166153], [-0.200732578989118, 51.48073588166153], [-0.201452050590888, 51.4802864723606], [-0.19929363578558, 51.47893824445782], [-0.194976806174964, 51.47893824445782], [-0.192818391369656, 51.47759001655504], [-0.192818391369656, 51.47669119795319]]], [[[-0.174112129723653, 51.47039946774021], [-0.175551072927192, 51.47129828634206], [-0.174831601325423, 51.47174769564299], [-0.173392658121884, 51.47174769564299], [-0.171234243316576, 51.47309592354577], [-0.171234243316576, 51.473994742147624], [-0.170514771714807, 51.47444415144855], [-0.166197942104191, 51.47444415144855], [-0.165478470502421, 51.47489356074948], [-0.165478470502421, 51.47579237935133], [-0.164758998900652, 51.47624178865226], [-0.163320055697113, 51.475342970050406], [-0.161881112493575, 51.475342970050406], [-0.161161640891805, 51.47579237935133], [-0.161161640891805, 51.47759001655504], [-0.159003226086497, 51.47893824445782], [-0.157564282882959, 51.47893824445782], [-0.156844811281189, 51.47938765375875], [-0.158283754484728, 51.4802864723606], [-0.155405868077651, 51.48208410956431], [-0.15612533967942, 51.48264587119047], [-0.159003226086497, 51.48264587119047], [-0.166197942104191, 51.48174705258862], [-0.170514771714807, 51.48084823398676], [-0.173392658121884, 51.47994941538491], [-0.175730940827634, 51.478488835156895], [-0.177169884031173, 51.47489356074948], [-0.178608827234711, 51.472197104943916], [-0.179148430936038, 51.47006241076451], [-0.179867902537808, 51.469500649138354], [-0.179867902537808, 51.4686018305365], [-0.179148430936038, 51.46815242123557], [-0.176270544528961, 51.46815242123557], [-0.175551072927192, 51.4686018305365], [-0.175551072927192, 51.469500649138354], [-0.174112129723653, 51.47039946774021]]]], &quot;type&quot;: &quot;MultiPolygon&quot;}, &quot;id&quot;: &quot;0&quot;, &quot;properties&quot;: {&quot;location&quot;: &quot;Chelsea&quot;, &quot;search_id&quot;: 1}, &quot;type&quot;: &quot;Feature&quot;}, {&quot;bbox&quot;: [-0.179992155288346, 51.495734602358425, -0.128154417616315, 51.54516935974243], &quot;geometry&quot;: {&quot;coordinates&quot;: [[[[-0.177112280973233, 51.52944011875661], [-0.177112280973233, 51.52854130498599], [-0.175672343815677, 51.527642491215374], [-0.17855221813079, 51.52584486367414], [-0.177832249552011, 51.52539545678883], [-0.176392312394455, 51.52629427055945], [-0.175672343815677, 51.52584486367414], [-0.175672343815677, 51.52494604990352], [-0.173512438079342, 51.52359782924759], [-0.172072500921786, 51.52359782924759], [-0.171352532343008, 51.52314842236228], [-0.172072500921786, 51.522699015476974], [-0.173512438079342, 51.522699015476974], [-0.17423240665812, 51.522249608591665], [-0.17423240665812, 51.521350794821046], [-0.174952375236899, 51.52090138793574], [-0.179272186709568, 51.52090138793574], [-0.179992155288346, 51.52045198105043], [-0.179992155288346, 51.51955316727981], [-0.17855221813079, 51.51865435350919], [-0.17855221813079, 51.51775553973857], [-0.179992155288346, 51.516856725967955], [-0.177112280973233, 51.51505909842672], [-0.177112280973233, 51.5141602846561], [-0.177832249552011, 51.51371087777079], [-0.179272186709568, 51.51371087777079], [-0.179992155288346, 51.51326147088548], [-0.179992155288346, 51.51236265711486], [-0.17855221813079, 51.511463843344245], [-0.17855221813079, 51.51056502957363], [-0.176392312394455, 51.5092168089177], [-0.175492351670982, 51.50966621580301], [-0.174412398802815, 51.50966621580301], [-0.173512438079342, 51.5092168089177], [-0.169192626606673, 51.50831799514708], [-0.167752689449117, 51.5092168089177], [-0.16631275229156, 51.5092168089177], [-0.165592783712782, 51.50876740203239], [-0.165592783712782, 51.50786858826177], [-0.163432877976447, 51.506520367605845], [-0.161992940818891, 51.506520367605845], [-0.161272972240113, 51.506070960720535], [-0.160553003661335, 51.5055092021139], [-0.159833035082556, 51.5042733331793], [-0.156233192188665, 51.50202629875275], [-0.154793255031109, 51.50202629875275], [-0.154073286452331, 51.501576891867444], [-0.154073286452331, 51.500678078096826], [-0.153353317873552, 51.50022867121152], [-0.151913380715996, 51.50022867121152], [-0.151193412137218, 51.49977926432621], [-0.151193412137218, 51.49888045055559], [-0.149033506400883, 51.49753222989966], [-0.147593569243327, 51.49753222989966], [-0.144713694928214, 51.495734602358425], [-0.143273757770658, 51.495734602358425], [-0.142553789191879, 51.496184009243734], [-0.142553789191879, 51.49798163678497], [-0.143273757770658, 51.49843104367028], [-0.144713694928214, 51.49843104367028], [-0.145433663506992, 51.49888045055559], [-0.143993726349436, 51.49977926432621], [-0.145433663506992, 51.506969774491154], [-0.146873600664549, 51.50786858826177], [-0.146873600664549, 51.50966621580301], [-0.143273757770658, 51.511913250229554], [-0.140393883455545, 51.511913250229554], [-0.138953946297988, 51.511014436458936], [-0.13823397771921, 51.511463843344245], [-0.13823397771921, 51.5141602846561], [-0.136794040561654, 51.51505909842672], [-0.136794040561654, 51.51595791219734], [-0.13823397771921, 51.516856725967955], [-0.13823397771921, 51.51865435350919], [-0.136794040561654, 51.51955316727981], [-0.136794040561654, 51.521350794821046], [-0.133194197667763, 51.52359782924759], [-0.131754260510206, 51.52359782924759], [-0.131034291931428, 51.5240472361329], [-0.131034291931428, 51.52584486367414], [-0.129594354773872, 51.526743677444756], [-0.129594354773872, 51.52944011875661], [-0.13031432335265, 51.52988952564192], [-0.131754260510206, 51.52988952564192], [-0.133194197667763, 51.53078833941254], [-0.133914166246541, 51.53033893252723], [-0.133914166246541, 51.52944011875661], [-0.136074071982875, 51.52809189810068], [-0.137514009140432, 51.52809189810068], [-0.13823397771921, 51.52854130498599], [-0.136794040561654, 51.52944011875661], [-0.137514009140432, 51.52988952564192], [-0.140393883455545, 51.52988952564192], [-0.141833820613101, 51.5289907118713], [-0.144713694928214, 51.5289907118713], [-0.14615363208577, 51.52988952564192], [-0.147593569243327, 51.5289907118713], [-0.149033506400883, 51.52988952564192], [-0.15047344355844, 51.5289907118713], [-0.153353317873552, 51.5289907118713], [-0.154793255031109, 51.52809189810068], [-0.157673129346222, 51.52809189810068], [-0.158393097925, 51.52854130498599], [-0.158393097925, 51.53033893252723], [-0.160553003661335, 51.53168715318316], [-0.161992940818891, 51.53078833941254], [-0.163432877976447, 51.53078833941254], [-0.164152846555226, 51.53123774629785], [-0.164152846555226, 51.5339341876097], [-0.164872815134004, 51.53438359449501], [-0.16631275229156, 51.53348478072439], [-0.169192626606673, 51.53528240826563], [-0.170632563764229, 51.53528240826563], [-0.172072500921786, 51.53618122203625], [-0.173512438079342, 51.53618122203625], [-0.17423240665812, 51.53663062892156], [-0.172792469500564, 51.537529442692176], [-0.17423240665812, 51.538428256462794], [-0.17423240665812, 51.54022588400403], [-0.172792469500564, 51.54112469777465], [-0.17423240665812, 51.54202351154527], [-0.17423240665812, 51.5438211390865], [-0.176392312394455, 51.54516935974243], [-0.177112280973233, 51.54471995285712], [-0.175672343815677, 51.5438211390865], [-0.175672343815677, 51.542922325315885], [-0.177112280973233, 51.54202351154527], [-0.177112280973233, 51.53663062892156], [-0.17855221813079, 51.53573181515094], [-0.17855221813079, 51.53483300138032], [-0.177112280973233, 51.5339341876097], [-0.17855221813079, 51.533035373839084], [-0.17855221813079, 51.53033893252723], [-0.177112280973233, 51.52944011875661]]], [[[-0.133194197667763, 51.517306132853264], [-0.135354103404097, 51.51595791219734], [-0.135354103404097, 51.5141602846561], [-0.134634134825319, 51.51371087777079], [-0.131754260510206, 51.51371087777079], [-0.128154417616315, 51.51595791219734], [-0.13031432335265, 51.517306132853264], [-0.133194197667763, 51.517306132853264]]]], &quot;type&quot;: &quot;MultiPolygon&quot;}, &quot;id&quot;: &quot;1&quot;, &quot;properties&quot;: {&quot;location&quot;: &quot;Marylebone&quot;, &quot;search_id&quot;: 2}, &quot;type&quot;: &quot;Feature&quot;}, {&quot;bbox&quot;: [-0.185723552654963, 51.50029335464933, -0.056148979288992, 51.52905542883673], &quot;geometry&quot;: {&quot;coordinates&quot;: [[[[-0.157649061759003, 51.50928150283289], [-0.154769626795314, 51.50748387319618], [-0.15332990931347, 51.50748387319618], [-0.152610050572548, 51.507034465787], [-0.154049768054392, 51.506135650968645], [-0.154049768054392, 51.50433802133193], [-0.152610050572548, 51.503439206513576], [-0.154049768054392, 51.50254039169522], [-0.152610050572548, 51.501641576876864], [-0.152610050572548, 51.50074276205851], [-0.151890191831626, 51.50029335464933], [-0.150450474349782, 51.501192169467686], [-0.149010756867938, 51.501192169467686], [-0.146131321904249, 51.5029897991044], [-0.144691604422405, 51.5029897991044], [-0.143251886940561, 51.50209098428604], [-0.141812169458717, 51.50209098428604], [-0.140372451976873, 51.5029897991044], [-0.138932734495029, 51.50209098428604], [-0.138212875754107, 51.50254039169522], [-0.138212875754107, 51.503439206513576], [-0.137493017013185, 51.503888613922754], [-0.136053299531341, 51.503888613922754], [-0.134613582049496, 51.50478742874111], [-0.133893723308574, 51.50433802133193], [-0.133893723308574, 51.503439206513576], [-0.133173864567652, 51.5029897991044], [-0.1322740411415, 51.503439206513576], [-0.126695135899354, 51.50074276205851], [-0.125975277158432, 51.50029335464933], [-0.12525541841751, 51.50074276205851], [-0.12525541841751, 51.50433802133193], [-0.124535559676588, 51.50478742874111], [-0.123095842194743, 51.50478742874111], [-0.122375983453821, 51.50523683615029], [-0.122196018768591, 51.506135650968645], [-0.121656124712899, 51.507371521343885], [-0.118056831008289, 51.50973091024207], [-0.118056831008289, 51.510629725060426], [-0.116617113526445, 51.51152853987878], [-0.118056831008289, 51.51242735469714], [-0.118056831008289, 51.513326169515494], [-0.116617113526445, 51.51422498433385], [-0.116617113526445, 51.51512379915221], [-0.115177396044601, 51.51602261397056], [-0.115177396044601, 51.51692142878892], [-0.114457537303679, 51.5173708361981], [-0.113737678562757, 51.51692142878892], [-0.113737678562757, 51.51602261397056], [-0.110138384858146, 51.51377557692467], [-0.107258949894458, 51.51377557692467], [-0.106539091153536, 51.513326169515494], [-0.106539091153536, 51.51242735469714], [-0.105099373671692, 51.51152853987878], [-0.10437951493077, 51.51096678061731], [-0.102219938708004, 51.51242735469714], [-0.102219938708004, 51.513326169515494], [-0.100060362485237, 51.51467439174303], [-0.098620645003393, 51.51467439174303], [-0.097900786262471, 51.51512379915221], [-0.097900786262471, 51.51692142878892], [-0.096461068780627, 51.517820243607275], [-0.096461068780627, 51.520516688062344], [-0.097900786262471, 51.5214155028807], [-0.097900786262471, 51.52321313251741], [-0.100060362485237, 51.52456135474495], [-0.101500079967082, 51.52456135474495], [-0.102939797448926, 51.5254601695633], [-0.105819232412614, 51.5254601695633], [-0.106539091153536, 51.52590957697248], [-0.106539091153536, 51.52770720660919], [-0.107258949894458, 51.52815661401837], [-0.108698667376302, 51.52815661401837], [-0.110138384858146, 51.527257799200015], [-0.11157810233999, 51.527257799200015], [-0.112297961080913, 51.52680839179084], [-0.112297961080913, 51.525010762154125], [-0.114457537303679, 51.52366253992659], [-0.115897254785523, 51.52456135474495], [-0.118776689749211, 51.522763725108234], [-0.127414994640276, 51.522763725108234], [-0.12885471212212, 51.52366253992659], [-0.133173864567652, 51.52366253992659], [-0.135333440790419, 51.525010762154125], [-0.135333440790419, 51.52680839179084], [-0.136053299531341, 51.527257799200015], [-0.137493017013185, 51.527257799200015], [-0.138212875754107, 51.52770720660919], [-0.138212875754107, 51.52860602142755], [-0.138932734495029, 51.52905542883673], [-0.139652593235951, 51.52860602142755], [-0.139652593235951, 51.525010762154125], [-0.140372451976873, 51.52456135474495], [-0.144691604422405, 51.52456135474495], [-0.145411463163327, 51.52411194733577], [-0.145411463163327, 51.52321313251741], [-0.146851180645172, 51.522314317699056], [-0.146851180645172, 51.5214155028807], [-0.147571039386094, 51.52096609547152], [-0.15332990931347, 51.52096609547152], [-0.15692920301808, 51.51871905842563], [-0.15692920301808, 51.517820243607275], [-0.158368920499925, 51.51692142878892], [-0.158368920499925, 51.51602261397056], [-0.160528496722691, 51.51467439174303], [-0.161968214204535, 51.51467439174303], [-0.162688072945457, 51.51422498433385], [-0.162688072945457, 51.510629725060426], [-0.160528496722691, 51.50928150283289], [-0.157649061759003, 51.50928150283289]]], [[[-0.181404400209431, 51.51512379915221], [-0.181404400209431, 51.513326169515494], [-0.179244823986664, 51.51197794728796], [-0.173485954059288, 51.51197794728796], [-0.172046236577444, 51.512876762106316], [-0.1706065190956, 51.512876762106316], [-0.169886660354678, 51.513326169515494], [-0.169886660354678, 51.51422498433385], [-0.168446942872833, 51.51512379915221], [-0.168446942872833, 51.51692142878892], [-0.167007225390989, 51.517820243607275], [-0.167007225390989, 51.51871905842563], [-0.167727084131911, 51.51916846583481], [-0.1706065190956, 51.51916846583481], [-0.172046236577444, 51.520067280653166], [-0.173485954059288, 51.520067280653166], [-0.174925671541132, 51.52096609547152], [-0.176365389022976, 51.52096609547152], [-0.17780510650482, 51.52186491028988], [-0.180684541468509, 51.52186491028988], [-0.181584364894661, 51.5214155028807], [-0.182124258950353, 51.521078447323816], [-0.182844117691275, 51.520516688062344], [-0.183563976432197, 51.51916846583481], [-0.185003693914041, 51.51916846583481], [-0.185723552654963, 51.51871905842563], [-0.184283835173119, 51.517820243607275], [-0.184283835173119, 51.51692142878892], [-0.181404400209431, 51.51512379915221]]], [[[-0.08350361144403, 51.510629725060426], [-0.084943328925874, 51.51152853987878], [-0.084943328925874, 51.51242735469714], [-0.084223470184952, 51.512876762106316], [-0.077024882775731, 51.512876762106316], [-0.075585165293887, 51.51377557692467], [-0.074145447812043, 51.51377557692467], [-0.073425589071121, 51.51422498433385], [-0.073425589071121, 51.51692142878892], [-0.071985871589277, 51.517820243607275], [-0.071985871589277, 51.520516688062344], [-0.072705730330199, 51.52096609547152], [-0.074145447812043, 51.52096609547152], [-0.074865306552965, 51.5214155028807], [-0.074865306552965, 51.522314317699056], [-0.076305024034809, 51.52321313251741], [-0.076305024034809, 51.52411194733577], [-0.074865306552965, 51.525010762154125], [-0.075585165293887, 51.5254601695633], [-0.078464600257576, 51.5254601695633], [-0.079184458998498, 51.525010762154125], [-0.079184458998498, 51.52321313251741], [-0.081344035221264, 51.52186491028988], [-0.082783752703108, 51.52186491028988], [-0.084223470184952, 51.52096609547152], [-0.08710290514864, 51.52096609547152], [-0.089262481371406, 51.51961787324399], [-0.089262481371406, 51.51871905842563], [-0.087822763889562, 51.517820243607275], [-0.087822763889562, 51.51692142878892], [-0.086383046407718, 51.51602261397056], [-0.086383046407718, 51.51512379915221], [-0.088542622630484, 51.51377557692467], [-0.089982340112329, 51.51377557692467], [-0.090702198853251, 51.513326169515494], [-0.088542622630484, 51.51197794728796], [-0.08710290514864, 51.51197794728796], [-0.084223470184952, 51.51018031765125], [-0.08350361144403, 51.510629725060426]]], [[[-0.056148979288992, 51.51871905842563], [-0.056148979288992, 51.51961787324399], [-0.059748272993602, 51.52186491028988], [-0.061187990475446, 51.52096609547152], [-0.06262770795729, 51.52186491028988], [-0.064067425439134, 51.52186491028988], [-0.064787284180056, 51.5214155028807], [-0.064787284180056, 51.520516688062344], [-0.0662270016619, 51.51961787324399], [-0.0662270016619, 51.517820243607275], [-0.06262770795729, 51.515573206561385], [-0.061187990475446, 51.515573206561385], [-0.056148979288992, 51.51871905842563]]]], &quot;type&quot;: &quot;MultiPolygon&quot;}, &quot;id&quot;: &quot;2&quot;, &quot;properties&quot;: {&quot;location&quot;: &quot;Soho&quot;, &quot;search_id&quot;: 3}, &quot;type&quot;: &quot;Feature&quot;}, {&quot;bbox&quot;: [-0.164105368370656, 51.48237174534006, -0.113722142472398, 51.511133851192426], &quot;geometry&quot;: {&quot;coordinates&quot;: [[[[-0.161946087260731, 51.48506819276372], [-0.16050656652078, 51.48506819276372], [-0.154748483560979, 51.488663455995265], [-0.148990400601178, 51.488663455995265], [-0.147550879861228, 51.48956227180315], [-0.146831119491253, 51.48911286389921], [-0.146831119491253, 51.48641641647555], [-0.146111359121278, 51.485967008571606], [-0.143232317641377, 51.485967008571606], [-0.141792796901427, 51.48506819276372], [-0.140353276161477, 51.485967008571606], [-0.137474234681576, 51.485967008571606], [-0.136034713941626, 51.48506819276372], [-0.134595193201676, 51.484955840787734], [-0.133155672461726, 51.48506819276372], [-0.132255971999257, 51.48551760066766], [-0.127937409779406, 51.48821404809132], [-0.125058368299506, 51.49091049551498], [-0.123618847559555, 51.495404574554414], [-0.123079027282074, 51.504729788561235], [-0.122359266912099, 51.505291548441164], [-0.122359266912099, 51.50708918005694], [-0.123798787652049, 51.50798799586482], [-0.123798787652049, 51.50888681167271], [-0.123079027282074, 51.50933621957665], [-0.121639506542124, 51.50933621957665], [-0.120919746172149, 51.509785627480596], [-0.120919746172149, 51.51068444328848], [-0.121639506542124, 51.511133851192426], [-0.123079027282074, 51.51023503538454], [-0.125958068761975, 51.51023503538454], [-0.128837110241875, 51.50843740376877], [-0.130276630981825, 51.50843740376877], [-0.131716151721776, 51.50753858796088], [-0.133155672461726, 51.50753858796088], [-0.133875432831701, 51.50708918005694], [-0.133875432831701, 51.50619036424905], [-0.134595193201676, 51.50574095634511], [-0.136034713941626, 51.50574095634511], [-0.137474234681576, 51.506639772152994], [-0.138913755421527, 51.506639772152994], [-0.139633515791502, 51.50619036424905], [-0.139633515791502, 51.505291548441164], [-0.140353276161477, 51.50484214053722], [-0.141792796901427, 51.50484214053722], [-0.143232317641377, 51.50574095634511], [-0.144671838381328, 51.50574095634511], [-0.145391598751303, 51.505291548441164], [-0.144671838381328, 51.50484214053722], [-0.143232317641377, 51.50484214053722], [-0.142512557271402, 51.50439273263328], [-0.143232317641377, 51.503943324729335], [-0.144671838381328, 51.503943324729335], [-0.147550879861228, 51.50214569311356], [-0.148990400601178, 51.50214569311356], [-0.150429921341129, 51.50304450892145], [-0.153308962821029, 51.50304450892145], [-0.154028723191004, 51.502595101017505], [-0.154028723191004, 51.50079746940173], [-0.152589202451054, 51.499898653593846], [-0.152589202451054, 51.49899983778596], [-0.151869442081079, 51.498550429882016], [-0.150429921341129, 51.498550429882016], [-0.149710160971154, 51.49810102197807], [-0.150429921341129, 51.49765161407413], [-0.151869442081079, 51.49765161407413], [-0.152589202451054, 51.497202206170186], [-0.151149681711104, 51.4963033903623], [-0.151149681711104, 51.495404574554414], [-0.154748483560979, 51.4931575350347], [-0.15618800430093, 51.4931575350347], [-0.156907764670905, 51.492708127130754], [-0.155468243930954, 51.49180931132287], [-0.155468243930954, 51.490011679707095], [-0.15618800430093, 51.48956227180315], [-0.15762752504088, 51.48956227180315], [-0.158347285410855, 51.48911286389921], [-0.158347285410855, 51.487315232283436], [-0.15906704578083, 51.48686582437949], [-0.16050656652078, 51.48776464018738], [-0.161946087260731, 51.48776464018738], [-0.162665847630706, 51.487315232283436], [-0.162665847630706, 51.48551760066766], [-0.164105368370656, 51.48461878485978], [-0.163385608000681, 51.48416937695583], [-0.161946087260731, 51.48506819276372]]], [[[-0.123079027282074, 51.48327056114795], [-0.121639506542124, 51.48416937695583], [-0.117320944322273, 51.48416937695583], [-0.116601183952298, 51.48461878485978], [-0.118040704692248, 51.48551760066766], [-0.118040704692248, 51.48641641647555], [-0.120199985802174, 51.48776464018738], [-0.121639506542124, 51.48686582437949], [-0.122359266912099, 51.487315232283436], [-0.122359266912099, 51.48821404809132], [-0.123079027282074, 51.488663455995265], [-0.123978727744543, 51.48821404809132], [-0.128837110241875, 51.485180544739706], [-0.1309963913518, 51.48371996905189], [-0.130276630981825, 51.48327056114795], [-0.127397589501925, 51.48327056114795], [-0.125958068761975, 51.48237174534006], [-0.124518548022024, 51.48327056114795], [-0.123079027282074, 51.48327056114795]]], [[[-0.123079027282074, 51.48956227180315], [-0.120199985802174, 51.49046108761104], [-0.118040704692248, 51.49180931132287], [-0.118040704692248, 51.492708127130754], [-0.117320944322273, 51.4931575350347], [-0.115881423582323, 51.4931575350347], [-0.113722142472398, 51.49450575874653], [-0.118040704692248, 51.497202206170186], [-0.118040704692248, 51.49810102197807], [-0.118760465062223, 51.498550429882016], [-0.120199985802174, 51.498550429882016], [-0.121099686264643, 51.49810102197807], [-0.121099686264643, 51.49360694293864], [-0.122539207004593, 51.492708127130754], [-0.123978727744543, 51.490011679707095], [-0.123079027282074, 51.48956227180315]]], [[[-0.118760465062223, 51.50034806149779], [-0.115161663212348, 51.499898653593846], [-0.115161663212348, 51.49899983778596], [-0.114441902842373, 51.498550429882016], [-0.113722142472398, 51.49899983778596], [-0.113722142472398, 51.50079746940173], [-0.115881423582323, 51.50214569311356], [-0.117320944322273, 51.50304450892145], [-0.118760465062223, 51.50304450892145], [-0.119660165524692, 51.502595101017505], [-0.119660165524692, 51.50079746940173], [-0.118760465062223, 51.50034806149779]]]], &quot;type&quot;: &quot;MultiPolygon&quot;}, &quot;id&quot;: &quot;3&quot;, &quot;properties&quot;: {&quot;location&quot;: &quot;Westminster&quot;, &quot;search_id&quot;: 4}, &quot;type&quot;: &quot;Feature&quot;}, {&quot;bbox&quot;: [-0.152532430423889, 51.48611497806269, -0.021584774542134, 51.54184172055102], &quot;geometry&quot;: {&quot;coordinates&quot;: [[[[-0.146056996891275, 51.51307953087962], [-0.138862070743926, 51.51307953087962], [-0.138142578129191, 51.51352894009324], [-0.138142578129191, 51.51442775852047], [-0.136703592899721, 51.5153265769477], [-0.136703592899721, 51.51622539537493], [-0.137423085514456, 51.51667480458855], [-0.138862070743926, 51.51667480458855], [-0.140301055973396, 51.51757362301578], [-0.143179026432335, 51.51757362301578], [-0.14389851904707, 51.51712421380216], [-0.14389851904707, 51.51622539537493], [-0.144618011661805, 51.515775986161316], [-0.148934967350215, 51.515775986161316], [-0.150373952579685, 51.51667480458855], [-0.151093445194419, 51.51622539537493], [-0.152532430423889, 51.5153265769477], [-0.152532430423889, 51.51263012166601], [-0.151812937809154, 51.51218071245239], [-0.147495982120745, 51.51218071245239], [-0.146056996891275, 51.51307953087962]]], [[[-0.10432642523665, 51.49060907019884], [-0.10576541046612, 51.48971025177161], [-0.107204395695589, 51.48971025177161], [-0.109362873539794, 51.488362024130765], [-0.107923888310324, 51.487463205703534], [-0.107923888310324, 51.4865643872763], [-0.107204395695589, 51.48611497806269], [-0.10576541046612, 51.48611497806269], [-0.10432642523665, 51.48701379648992], [-0.10288744000718, 51.48701379648992], [-0.102167947392445, 51.487463205703534], [-0.102167947392445, 51.489260842558], [-0.10432642523665, 51.49060907019884]]], [[[-0.096412006474566, 51.49285611626692], [-0.096412006474566, 51.495552571548615], [-0.097850991704036, 51.496451389975846], [-0.097850991704036, 51.49735020840308], [-0.097131499089301, 51.49779961761669], [-0.088497587712482, 51.49779961761669], [-0.087778095097747, 51.49824902683031], [-0.087778095097747, 51.500945482112], [-0.087058602483012, 51.50139489132562], [-0.085619617253542, 51.500496072898386], [-0.082741646794602, 51.50229370975285], [-0.079863676335663, 51.50229370975285], [-0.079144183720928, 51.502743118966464], [-0.079144183720928, 51.503641937393695], [-0.077705198491458, 51.504540755820926], [-0.078424691106193, 51.505102517337946], [-0.079863676335663, 51.50600133576518], [-0.084180632024072, 51.50690015419241], [-0.092814543400891, 51.50779897261964], [-0.095692513859831, 51.50869779104687], [-0.10432642523665, 51.50869779104687], [-0.105045917851385, 51.50813602952985], [-0.10432642523665, 51.507686620316235], [-0.10288744000718, 51.507686620316235], [-0.102167947392445, 51.50723721110262], [-0.102167947392445, 51.50633839267539], [-0.10000946954824, 51.50499016503454], [-0.09857048431877, 51.50499016503454], [-0.097850991704036, 51.504540755820926], [-0.097850991704036, 51.503641937393695], [-0.099289976933505, 51.502743118966464], [-0.099289976933505, 51.500945482112], [-0.09857048431877, 51.500496072898386], [-0.097131499089301, 51.500496072898386], [-0.096412006474566, 51.50004666368477], [-0.10000946954824, 51.49779961761669], [-0.10144845477771, 51.498698436043924], [-0.103606932621915, 51.49735020840308], [-0.103606932621915, 51.49465375312138], [-0.105045917851385, 51.49375493469415], [-0.10432642523665, 51.49330552548054], [-0.103606932621915, 51.49285611626692], [-0.103606932621915, 51.49195729783969], [-0.10288744000718, 51.491507888626074], [-0.10000946954824, 51.491507888626074], [-0.09857048431877, 51.492406707053306], [-0.097131499089301, 51.492406707053306], [-0.096412006474566, 51.49285611626692]]], [[[-0.021584774542134, 51.50903484795708], [-0.025182237615809, 51.51128189402516], [-0.026621222845279, 51.51128189402516], [-0.028060208074749, 51.51218071245239], [-0.030218685918953, 51.510832484811544], [-0.030218685918953, 51.50993366638431], [-0.031657671148423, 51.50903484795708], [-0.029499193304218, 51.507686620316235], [-0.028060208074749, 51.507686620316235], [-0.026621222845279, 51.50858543874347], [-0.025182237615809, 51.507686620316235], [-0.023743252386339, 51.507686620316235], [-0.021584774542134, 51.50903484795708]]], [[[-0.123752725834493, 51.5153265769477], [-0.123752725834493, 51.51442775852047], [-0.125191711063962, 51.51352894009324], [-0.124472218449228, 51.51307953087962], [-0.123033233219758, 51.51397834930685], [-0.117277292301878, 51.51397834930685], [-0.115838307072408, 51.514877167734085], [-0.114399321842939, 51.514877167734085], [-0.113679829228204, 51.51442775852047], [-0.113679829228204, 51.51263012166601], [-0.112960336613469, 51.51218071245239], [-0.111521351383999, 51.51307953087962], [-0.110082366154529, 51.51307953087962], [-0.109362873539794, 51.51263012166601], [-0.109362873539794, 51.510832484811544], [-0.108643380925059, 51.51038307559793], [-0.107204395695589, 51.510270723294525], [-0.094253528630361, 51.509371904867294], [-0.089936572941951, 51.50847308644006], [-0.079863676335663, 51.50757426801283], [-0.074107735417783, 51.50577663115837], [-0.071229764958844, 51.50577663115837], [-0.066912809270434, 51.50588898346177], [-0.066193316655699, 51.50633839267539], [-0.066193316655699, 51.50723721110262], [-0.064754331426229, 51.50813602952985], [-0.067632301885169, 51.50993366638431], [-0.066193316655699, 51.510832484811544], [-0.067632301885169, 51.511731303238776], [-0.067632301885169, 51.51263012166601], [-0.066912809270434, 51.51307953087962], [-0.065473824040964, 51.51307953087962], [-0.064034838811494, 51.51397834930685], [-0.062595853582025, 51.51397834930685], [-0.06187636096729, 51.51442775852047], [-0.06187636096729, 51.5153265769477], [-0.062595853582025, 51.515775986161316], [-0.065473824040964, 51.515775986161316], [-0.066912809270434, 51.51667480458855], [-0.068351794499904, 51.515775986161316], [-0.074827228032518, 51.519820669083856], [-0.073388242803048, 51.52071948751109], [-0.074827228032518, 51.52161830593832], [-0.074827228032518, 51.52431476122001], [-0.079144183720928, 51.527011216501705], [-0.079144183720928, 51.52791003492894], [-0.080583168950398, 51.52880885335617], [-0.079144183720928, 51.5297076717834], [-0.079144183720928, 51.53330294549232], [-0.083461139409337, 51.53599940077402], [-0.083461139409337, 51.53689821920125], [-0.084180632024072, 51.537347628414864], [-0.085619617253542, 51.537347628414864], [-0.087058602483012, 51.538246446842095], [-0.088497587712482, 51.537347628414864], [-0.090656065556686, 51.53869585605571], [-0.090656065556686, 51.54049349291017], [-0.091375558171421, 51.54094290212379], [-0.095692513859831, 51.54094290212379], [-0.097131499089301, 51.54184172055102], [-0.097850991704036, 51.541392311337404], [-0.096412006474566, 51.54049349291017], [-0.096412006474566, 51.53869585605571], [-0.093534036015626, 51.53689821920125], [-0.093534036015626, 51.534201763919555], [-0.094973021245096, 51.53330294549232], [-0.094973021245096, 51.53060649021063], [-0.095692513859831, 51.530157080997014], [-0.097131499089301, 51.530157080997014], [-0.097850991704036, 51.5297076717834], [-0.097850991704036, 51.52880885335617], [-0.099289976933505, 51.52791003492894], [-0.097850991704036, 51.527011216501705], [-0.097850991704036, 51.526112398074474], [-0.096412006474566, 51.52521357964724], [-0.097131499089301, 51.52476417043363], [-0.09857048431877, 51.52476417043363], [-0.099289976933505, 51.52431476122001], [-0.099289976933505, 51.52251712436555], [-0.10144845477771, 51.5211688967247], [-0.10288744000718, 51.5211688967247], [-0.10576541046612, 51.522966533579165], [-0.108643380925059, 51.522966533579165], [-0.110082366154529, 51.522067715151934], [-0.112960336613469, 51.522067715151934], [-0.114399321842939, 51.5211688967247], [-0.115838307072408, 51.5211688967247], [-0.117277292301878, 51.52027007829747], [-0.118716277531348, 51.52027007829747], [-0.120155262760818, 51.5211688967247], [-0.121594247990288, 51.5211688967247], [-0.125911203678697, 51.51847244144301], [-0.130228159367107, 51.51847244144301], [-0.131667144596577, 51.51937125987024], [-0.132386637211312, 51.518921850656625], [-0.132386637211312, 51.518023032229394], [-0.133106129826047, 51.51757362301578], [-0.134545115055516, 51.51757362301578], [-0.135264607670251, 51.51712421380216], [-0.135264607670251, 51.51622539537493], [-0.134545115055516, 51.515775986161316], [-0.133825622440781, 51.5153265769477], [-0.133825622440781, 51.51442775852047], [-0.131667144596577, 51.51307953087962], [-0.128789174137637, 51.51307953087962], [-0.124472218449228, 51.515775986161316], [-0.123752725834493, 51.5153265769477]]], [[[-0.053242449590471, 51.51442775852047], [-0.055400927434675, 51.515775986161316], [-0.056839912664145, 51.515775986161316], [-0.05899839050835, 51.51442775852047], [-0.05899839050835, 51.51263012166601], [-0.059717883123085, 51.51218071245239], [-0.061156868352555, 51.51307953087962], [-0.062595853582025, 51.51307953087962], [-0.063315346196759, 51.51263012166601], [-0.063315346196759, 51.511731303238776], [-0.064754331426229, 51.510832484811544], [-0.064034838811494, 51.51038307559793], [-0.062595853582025, 51.51038307559793], [-0.056839912664145, 51.506787801889004], [-0.055400927434675, 51.507686620316235], [-0.053961942205206, 51.507686620316235], [-0.051803464361001, 51.50903484795708], [-0.051803464361001, 51.51263012166601], [-0.053242449590471, 51.51352894009324], [-0.053242449590471, 51.51442775852047]]], [[[-0.036694119451568, 51.5094842571707], [-0.035974626836833, 51.50993366638431], [-0.036694119451568, 51.51049542790133], [-0.034715514761047, 51.510832484811544], [-0.033816148992628, 51.51038307559793], [-0.033096656377893, 51.510832484811544], [-0.033096656377893, 51.51263012166601], [-0.035974626836833, 51.51442775852047], [-0.035974626836833, 51.5153265769477], [-0.036694119451568, 51.515775986161316], [-0.038133104681037, 51.514877167734085], [-0.039572089910507, 51.515775986161316], [-0.040291582525242, 51.5153265769477], [-0.040291582525242, 51.51442775852047], [-0.041011075139977, 51.51397834930685], [-0.043889045598917, 51.51397834930685], [-0.044608538213652, 51.51352894009324], [-0.043889045598917, 51.51307953087962], [-0.043169552984182, 51.51263012166601], [-0.043169552984182, 51.510832484811544], [-0.041011075139977, 51.5094842571707], [-0.039572089910507, 51.5094842571707], [-0.038133104681037, 51.509371904867294], [-0.036694119451568, 51.5094842571707]]]], &quot;type&quot;: &quot;MultiPolygon&quot;}, &quot;id&quot;: &quot;4&quot;, &quot;properties&quot;: {&quot;location&quot;: &quot;Bank&quot;, &quot;search_id&quot;: 5}, &quot;type&quot;: &quot;Feature&quot;}, {&quot;bbox&quot;: [-0.041738871543203, 51.47974617037107, -0.0043178157066, 51.51390121752047], &quot;geometry&quot;: {&quot;coordinates&quot;: [[[[-0.038140693097375, 51.51390121752047], [-0.039579964475706, 51.51300240049022], [-0.041019235854037, 51.51300240049022], [-0.041738871543203, 51.5125529919751], [-0.041738871543203, 51.51165417494485], [-0.039579964475706, 51.51030594939948], [-0.03742105740821, 51.51165417494485], [-0.03742105740821, 51.513451809005346], [-0.038140693097375, 51.51390121752047]]], [[[-0.02950506482739, 51.50659832914971], [-0.028965338060516, 51.50536245573312], [-0.027526066682185, 51.50266600464238], [-0.027526066682185, 51.49277901730966], [-0.024647523925523, 51.48918374918867], [-0.020869436557405, 51.48682435448427], [-0.017990893800743, 51.48592553745402], [-0.009355265530758, 51.48592553745402], [-0.006476722774096, 51.48682435448427], [-0.00575708708493, 51.487386115128174], [-0.00575708708493, 51.48918374918867], [-0.007196358463261, 51.490082566218916], [-0.0043178157066, 51.49188020027941], [-0.0043178157066, 51.49277901730966], [-0.005037451395765, 51.49322842582478], [-0.006476722774096, 51.49322842582478], [-0.007196358463261, 51.493677834339906], [-0.006476722774096, 51.49412724285503], [-0.005037451395765, 51.49412724285503], [-0.0043178157066, 51.49457665137015], [-0.005037451395765, 51.49513841201406], [-0.005577178162639, 51.49637428543065], [-0.00701644954097, 51.49996955355164], [-0.00701644954097, 51.503564821672626], [-0.00575708708493, 51.50536245573312], [-0.006476722774096, 51.505811864248244], [-0.007376267385553, 51.50536245573312], [-0.007915994152427, 51.50502539934678], [-0.008635629841592, 51.50446363870287], [-0.01367307966575, 51.50502539934678], [-0.01367307966575, 51.50569951211946], [-0.012953443976585, 51.50626127276337], [-0.012953443976585, 51.507160089793615], [-0.01367307966575, 51.50760949830874], [-0.015112351044081, 51.50760949830874], [-0.015831986733247, 51.50805890682386], [-0.015831986733247, 51.50895772385411], [-0.016551622422412, 51.50940713236923], [-0.022308707935736, 51.50940713236923], [-0.023028343624901, 51.50985654088436], [-0.023028343624901, 51.510755357914604], [-0.023747979314066, 51.51120476642973], [-0.025187250692397, 51.51120476642973], [-0.026626522070728, 51.512103583459975], [-0.02950506482739, 51.512103583459975], [-0.030224700516555, 51.51165417494485], [-0.030224700516555, 51.510755357914604], [-0.031663971894886, 51.50985654088436], [-0.031663971894886, 51.50805890682386], [-0.030224700516555, 51.507160089793615], [-0.02950506482739, 51.50659832914971]]], [[[-0.007915994152427, 51.48334143849206], [-0.009355265530758, 51.48345379062084], [-0.010794536909088, 51.48345379062084], [-0.01367307966575, 51.482442621461814], [-0.014392715354916, 51.48199321294669], [-0.014392715354916, 51.48109439591644], [-0.01367307966575, 51.48064498740132], [-0.012233808287419, 51.48064498740132], [-0.010794536909088, 51.47974617037107], [-0.009355265530758, 51.47974617037107], [-0.007196358463261, 51.48109439591644], [-0.007196358463261, 51.48289202997694], [-0.007915994152427, 51.48334143849206]]]], &quot;type&quot;: &quot;MultiPolygon&quot;}, &quot;id&quot;: &quot;5&quot;, &quot;properties&quot;: {&quot;location&quot;: &quot;IsleofDogs&quot;, &quot;search_id&quot;: 6}, &quot;type&quot;: &quot;Feature&quot;}, {&quot;bbox&quot;: [-0.110896895756014, 51.50644334105891, -0.043206586386077, 51.541497023630654], &quot;geometry&quot;: {&quot;coordinates&quot;: [[[[-0.102975689340383, 51.519026714289794], [-0.101535469992086, 51.519026714289794], [-0.100815360317938, 51.51947612047661], [-0.100815360317938, 51.52127374522388], [-0.101535469992086, 51.5217231514107], [-0.102975689340383, 51.52082433903706], [-0.103695799014531, 51.52127374522388], [-0.103695799014531, 51.522172557597514], [-0.104415908688679, 51.52262196378433], [-0.107296347385272, 51.52262196378433], [-0.109456676407717, 51.52127374522388], [-0.109456676407717, 51.520374932850245], [-0.110896895756014, 51.51947612047661], [-0.110896895756014, 51.51857730810298], [-0.110176786081865, 51.51812790191616], [-0.108736566733569, 51.51812790191616], [-0.105856128036976, 51.51633027716889], [-0.103695799014531, 51.51767849572934], [-0.103695799014531, 51.51857730810298], [-0.102975689340383, 51.519026714289794]]], [[[-0.092174044228159, 51.520374932850245], [-0.090733824879862, 51.51947612047661], [-0.090733824879862, 51.51767849572934], [-0.089293605531566, 51.51677968335571], [-0.089293605531566, 51.51498205860844], [-0.090733824879862, 51.514083246234804], [-0.090733824879862, 51.512285621487536], [-0.090013715205714, 51.51183621530072], [-0.088573495857418, 51.51183621530072], [-0.087853386183269, 51.5113868091139], [-0.087853386183269, 51.50958918436663], [-0.087133276509121, 51.509139778179815], [-0.085693057160825, 51.51003859055345], [-0.084252837812528, 51.51003859055345], [-0.082812618464231, 51.510937402927084], [-0.082092508790083, 51.51048799674027], [-0.082092508790083, 51.50958918436663], [-0.081372399115935, 51.509139778179815], [-0.079932179767638, 51.51003859055345], [-0.078491960419342, 51.51003859055345], [-0.077051741071045, 51.509139778179815], [-0.075611521722749, 51.509139778179815], [-0.074891412048601, 51.508690371993], [-0.074891412048601, 51.50779155961936], [-0.074171302374452, 51.507342153432546], [-0.073271165281767, 51.50779155961936], [-0.071290863677859, 51.50722980188584], [-0.069310562073952, 51.50779155961936], [-0.06697020563297, 51.50644334105891], [-0.065529986284673, 51.50644334105891], [-0.064809876610525, 51.50689274724573], [-0.064809876610525, 51.50779155961936], [-0.063369657262228, 51.508690371993], [-0.064809876610525, 51.50958918436663], [-0.064809876610525, 51.51048799674027], [-0.06264954758808, 51.51183621530072], [-0.061209328239784, 51.51183621530072], [-0.060489218565635, 51.512285621487536], [-0.060489218565635, 51.51318443386117], [-0.056168560520746, 51.51588087098207], [-0.056168560520746, 51.51677968335571], [-0.054008231498301, 51.51812790191616], [-0.052568012150005, 51.51812790191616], [-0.049687573453411, 51.51992552666343], [-0.048247354105115, 51.51992552666343], [-0.045366915408522, 51.5217231514107], [-0.043926696060225, 51.5217231514107], [-0.043206586386077, 51.522172557597514], [-0.043926696060225, 51.52262196378433], [-0.045366915408522, 51.52262196378433], [-0.046807134756818, 51.5217231514107], [-0.048247354105115, 51.5217231514107], [-0.049687573453411, 51.52262196378433], [-0.051127792801708, 51.5217231514107], [-0.054008231498301, 51.5217231514107], [-0.054728341172449, 51.522172557597514], [-0.054728341172449, 51.52576780709205], [-0.054008231498301, 51.52621721327887], [-0.051127792801708, 51.52621721327887], [-0.05040768312756, 51.526666619465686], [-0.05040768312756, 51.52756543183932], [-0.051847902475856, 51.528464244212955], [-0.051847902475856, 51.530261868960224], [-0.054008231498301, 51.531610087520676], [-0.054728341172449, 51.53116068133386], [-0.054728341172449, 51.530261868960224], [-0.055448450846598, 51.52981246277341], [-0.056888670194894, 51.52981246277341], [-0.058328889543191, 51.53071127514704], [-0.06697020563297, 51.53071127514704], [-0.068410424981266, 51.531610087520676], [-0.069850644329563, 51.531610087520676], [-0.074891412048601, 51.534755930828396], [-0.074891412048601, 51.53565474320203], [-0.072010973352008, 51.5374523679493], [-0.072010973352008, 51.53924999269657], [-0.073451192700304, 51.5401488050702], [-0.073451192700304, 51.54104761744384], [-0.074171302374452, 51.541497023630654], [-0.075611521722749, 51.54059821125702], [-0.077051741071045, 51.54059821125702], [-0.077771850745194, 51.5401488050702], [-0.077771850745194, 51.53565474320203], [-0.07921207009349, 51.534755930828396], [-0.07921207009349, 51.53385711845476], [-0.080652289441787, 51.53295830608113], [-0.080652289441787, 51.53205949370749], [-0.08353272813838, 51.530261868960224], [-0.08353272813838, 51.52936305658659], [-0.084252837812528, 51.52891365039977], [-0.084972947486676, 51.52936305658659], [-0.084972947486676, 51.530261868960224], [-0.085693057160825, 51.53071127514704], [-0.087133276509121, 51.53071127514704], [-0.088573495857418, 51.52981246277341], [-0.090013715205714, 51.53071127514704], [-0.091453934554011, 51.52981246277341], [-0.094334373250604, 51.52981246277341], [-0.095054482924752, 51.52936305658659], [-0.095054482924752, 51.52756543183932], [-0.092174044228159, 51.52576780709205], [-0.092174044228159, 51.520374932850245]]]], &quot;type&quot;: &quot;MultiPolygon&quot;}, &quot;id&quot;: &quot;6&quot;, &quot;properties&quot;: {&quot;location&quot;: &quot;Shoreditch&quot;, &quot;search_id&quot;: 7}, &quot;type&quot;: &quot;Feature&quot;}, {&quot;bbox&quot;: [-0.143897611822467, 51.469041243661195, -0.05036416213261, 51.51847626036033], &quot;geometry&quot;: {&quot;coordinates&quot;: [[[[-0.11583757691551, 51.514880986418575], [-0.117276553064585, 51.514880986418575], [-0.117996041139122, 51.515330395661294], [-0.117996041139122, 51.51622921414673], [-0.116557064990047, 51.51712803263217], [-0.118715529213659, 51.51847626036033], [-0.121593481511809, 51.51847626036033], [-0.122312969586346, 51.51802685111761], [-0.122312969586346, 51.51622921414673], [-0.120873993437272, 51.515330395661294], [-0.122312969586346, 51.514431577175856], [-0.122312969586346, 51.50993748474866], [-0.124471433809958, 51.5085892570205], [-0.128788362257183, 51.5085892570205], [-0.12950785033172, 51.508139847777784], [-0.12950785033172, 51.507241029292345], [-0.128788362257183, 51.506791620049626], [-0.127349386108108, 51.506791620049626], [-0.125910409959033, 51.507690438535064], [-0.125190921884496, 51.507241029292345], [-0.125190921884496, 51.506342210806906], [-0.124471433809958, 51.50589280156419], [-0.123032457660884, 51.50589280156419], [-0.122133097567712, 51.506342210806906], [-0.116377192971413, 51.50993748474866], [-0.11583757691551, 51.5102745416807], [-0.114398600766435, 51.5102745416807], [-0.113679112691898, 51.5108363032341], [-0.113679112691898, 51.51353275869042], [-0.11583757691551, 51.514880986418575]]], [[[-0.138861195300706, 51.49600579822436], [-0.138141707226168, 51.49555638898164], [-0.138141707226168, 51.49375875201076], [-0.137422219151631, 51.49330934276804], [-0.135983243002556, 51.49330934276804], [-0.135263754928019, 51.492859933525324], [-0.135263754928019, 51.491961115039885], [-0.134544266853482, 51.491511705797166], [-0.131666314555332, 51.491511705797166], [-0.130227338406257, 51.49061288731173], [-0.125910409959033, 51.49061288731173], [-0.125011049865861, 51.491062296554446], [-0.123572073716787, 51.49735402595252], [-0.125190921884496, 51.499151662923396], [-0.125910409959033, 51.499601072166115], [-0.127349386108108, 51.498702253680676], [-0.130227338406257, 51.498702253680676], [-0.131666314555332, 51.499601072166115], [-0.134544266853482, 51.499601072166115], [-0.137422219151631, 51.49780343519524], [-0.138861195300706, 51.49780343519524], [-0.14030017144978, 51.498702253680676], [-0.141739147598855, 51.498702253680676], [-0.142458635673393, 51.49825284443796], [-0.142458635673393, 51.49735402595252], [-0.143897611822467, 51.49645520746708], [-0.141739147598855, 51.49510697973892], [-0.14030017144978, 51.49600579822436], [-0.138861195300706, 51.49600579822436]]], [[[-0.124471433809958, 51.48162470245734], [-0.122312969586346, 51.4829729301855], [-0.122312969586346, 51.484770567156374], [-0.121593481511809, 51.485219976399094], [-0.119435017288197, 51.483871748670936], [-0.120873993437272, 51.4829729301855], [-0.120873993437272, 51.47937765624374], [-0.122312969586346, 51.4784788377583], [-0.122312969586346, 51.475782382301986], [-0.123751945735421, 51.47488356381655], [-0.122312969586346, 51.47398474533111], [-0.122312969586346, 51.47308592684567], [-0.125190921884496, 51.47128828987479], [-0.125190921884496, 51.47038947138935], [-0.12662989803357, 51.469490652903914], [-0.125910409959033, 51.469041243661195], [-0.124471433809958, 51.469940062146634], [-0.123032457660884, 51.469940062146634], [-0.118715529213659, 51.47263651760295], [-0.117276553064585, 51.47263651760295], [-0.116557064990047, 51.47308592684567], [-0.116557064990047, 51.47398474533111], [-0.11583757691551, 51.47443415457383], [-0.114398600766435, 51.47443415457383], [-0.113679112691898, 51.47398474533111], [-0.113679112691898, 51.47038947138935], [-0.112959624617361, 51.469940062146634], [-0.111520648468286, 51.469940062146634], [-0.110801160393748, 51.47038947138935], [-0.110801160393748, 51.47218710836023], [-0.109362184244674, 51.47308592684567], [-0.110801160393748, 51.47398474533111], [-0.110801160393748, 51.47488356381655], [-0.106484231946524, 51.477580019272864], [-0.106484231946524, 51.4784788377583], [-0.105764743871987, 51.47892824700102], [-0.104325767722912, 51.47802942851558], [-0.103606279648375, 51.4784788377583], [-0.103606279648375, 51.47937765624374], [-0.102886791573837, 51.47982706548646], [-0.101447815424763, 51.47982706548646], [-0.097850375052076, 51.477580019272864], [-0.097850375052076, 51.476681200787425], [-0.095691910828464, 51.47533297305927], [-0.094252934679389, 51.47533297305927], [-0.093533446604852, 51.47488356381655], [-0.093533446604852, 51.47398474533111], [-0.092813958530314, 51.47353533608839], [-0.089936006232165, 51.47353533608839], [-0.08849703008309, 51.47263651760295], [-0.087777542008553, 51.47308592684567], [-0.087777542008553, 51.47398474533111], [-0.08849703008309, 51.47443415457383], [-0.089936006232165, 51.47443415457383], [-0.090655494306702, 51.47488356381655], [-0.090655494306702, 51.477580019272864], [-0.08849703008309, 51.47892824700102], [-0.087058053934015, 51.47802942851558], [-0.084180101635866, 51.47802942851558], [-0.082741125486791, 51.477130610030144], [-0.081302149337716, 51.477130610030144], [-0.079863173188642, 51.476231791544706], [-0.079143685114104, 51.476681200787425], [-0.080582661263179, 51.477580019272864], [-0.080582661263179, 51.4784788377583], [-0.082021637412254, 51.47937765624374], [-0.080582661263179, 51.48027647472918], [-0.080582661263179, 51.48117529321462], [-0.079143685114104, 51.48207411170006], [-0.079143685114104, 51.4829729301855], [-0.078424197039567, 51.483422339428216], [-0.07770470896503, 51.4829729301855], [-0.07770470896503, 51.48207411170006], [-0.076265732815955, 51.48117529321462], [-0.076265732815955, 51.48027647472918], [-0.074107268592343, 51.47892824700102], [-0.072668292443268, 51.47982706548646], [-0.071229316294193, 51.47892824700102], [-0.070509828219656, 51.47937765624374], [-0.071948804368731, 51.48027647472918], [-0.071948804368731, 51.48117529321462], [-0.068351363996044, 51.483422339428216], [-0.066912387846969, 51.483422339428216], [-0.066192899772432, 51.4829729301855], [-0.067631875921506, 51.48207411170006], [-0.067631875921506, 51.48117529321462], [-0.06403443554882, 51.47892824700102], [-0.062595459399745, 51.47892824700102], [-0.06115648325067, 51.47982706548646], [-0.058278530952521, 51.47802942851558], [-0.056839554803446, 51.47892824700102], [-0.055400578654371, 51.47802942851558], [-0.053961602505296, 51.47802942851558], [-0.053242114430759, 51.4784788377583], [-0.053961602505296, 51.47892824700102], [-0.055400578654371, 51.47892824700102], [-0.056120066728909, 51.47937765624374], [-0.056120066728909, 51.48027647472918], [-0.057559042877983, 51.48117529321462], [-0.057559042877983, 51.48207411170006], [-0.060436995176133, 51.483871748670936], [-0.058998019027058, 51.484770567156374], [-0.059717507101595, 51.485219976399094], [-0.06115648325067, 51.484321157913655], [-0.062595459399745, 51.484321157913655], [-0.063314947474282, 51.484770567156374], [-0.063314947474282, 51.48566938564181], [-0.06403443554882, 51.48611879488453], [-0.065473411697894, 51.48611879488453], [-0.067631875921506, 51.48746702261269], [-0.067631875921506, 51.48836584109813], [-0.066912387846969, 51.48881525034085], [-0.065473411697894, 51.48881525034085], [-0.06403443554882, 51.48971406882629], [-0.06115648325067, 51.48971406882629], [-0.060436995176133, 51.48926465958357], [-0.060436995176133, 51.48836584109813], [-0.058278530952521, 51.48701761336997], [-0.056839554803446, 51.48791643185541], [-0.055400578654371, 51.48791643185541], [-0.054681090579834, 51.48836584109813], [-0.054681090579834, 51.48926465958357], [-0.053961602505296, 51.48971406882629], [-0.052522626356222, 51.48971406882629], [-0.05036416213261, 51.491062296554446], [-0.051083650207147, 51.491511705797166], [-0.053961602505296, 51.491511705797166], [-0.055400578654371, 51.49061288731173], [-0.056839554803446, 51.49061288731173], [-0.057559042877983, 51.491062296554446], [-0.057559042877983, 51.491961115039885], [-0.056120066728909, 51.492859933525324], [-0.056120066728909, 51.49375875201076], [-0.059717507101595, 51.49600579822436], [-0.060436995176133, 51.49555638898164], [-0.060436995176133, 51.4946575704962], [-0.06115648325067, 51.49420816125348], [-0.062595459399745, 51.49420816125348], [-0.066192899772432, 51.49645520746708], [-0.065473411697894, 51.4969046167098], [-0.06115648325067, 51.4969046167098], [-0.060436995176133, 51.49735402595252], [-0.061875971325208, 51.49825284443796], [-0.061875971325208, 51.499151662923396], [-0.062595459399745, 51.499601072166115], [-0.066912387846969, 51.499601072166115], [-0.069790340145119, 51.50139870913699], [-0.071229316294193, 51.50139870913699], [-0.071948804368731, 51.50184811837971], [-0.071948804368731, 51.50274693686515], [-0.072668292443268, 51.50330869841855], [-0.074107268592343, 51.50420751690399], [-0.079863173188642, 51.50600515387487], [-0.084180101635866, 51.506903972360305], [-0.092813958530314, 51.507802790845744], [-0.095691910828464, 51.50870160933118], [-0.111520648468286, 51.50870160933118], [-0.11583757691551, 51.507802790845744], [-0.118175913157756, 51.506342210806906], [-0.119614889306831, 51.50454457383603], [-0.121053865455906, 51.499151662923396], [-0.122492841604981, 51.492859933525324], [-0.123931817754055, 51.49016347806901], [-0.128788362257183, 51.485332328709774], [-0.131666314555332, 51.484321157913655], [-0.134544266853482, 51.483422339428216], [-0.135263754928019, 51.4829729301855], [-0.133105290704407, 51.48162470245734], [-0.132385802629869, 51.48207411170006], [-0.132385802629869, 51.4829729301855], [-0.131666314555332, 51.483422339428216], [-0.130227338406257, 51.483422339428216], [-0.128788362257183, 51.484321157913655], [-0.124471433809958, 51.48162470245734]]], [[[-0.083460613561329, 51.515330395661294], [-0.084180101635866, 51.514880986418575], [-0.085619077784941, 51.514880986418575], [-0.08849703008309, 51.51667862338945], [-0.089936006232165, 51.51667862338945], [-0.092094470455777, 51.515330395661294], [-0.090655494306702, 51.514431577175856], [-0.092094470455777, 51.51353275869042], [-0.092094470455777, 51.51263394020498], [-0.094972422753926, 51.5108363032341], [-0.095152294772561, 51.50993748474866], [-0.094252934679389, 51.50937572319526], [-0.089936006232165, 51.50847690470982], [-0.079863173188642, 51.507578086224385], [-0.079143685114104, 51.508139847777784], [-0.079143685114104, 51.50993748474866], [-0.080582661263179, 51.5108363032341], [-0.080582661263179, 51.51353275869042], [-0.081302149337716, 51.513982167933136], [-0.082741125486791, 51.513982167933136], [-0.083460613561329, 51.514431577175856], [-0.082741125486791, 51.514880986418575], [-0.081302149337716, 51.514880986418575], [-0.080582661263179, 51.515330395661294], [-0.080582661263179, 51.51622921414673], [-0.081302149337716, 51.51667862338945], [-0.082741125486791, 51.51667862338945], [-0.083460613561329, 51.51622921414673], [-0.083460613561329, 51.515330395661294]]]], &quot;type&quot;: &quot;MultiPolygon&quot;}, &quot;id&quot;: &quot;7&quot;, &quot;properties&quot;: {&quot;location&quot;: &quot;Elephant\\u0026Castle&quot;, &quot;search_id&quot;: 8}, &quot;type&quot;: &quot;Feature&quot;}, {&quot;bbox&quot;: [-0.237681102065835, 51.5171520751901, -0.159894553304184, 51.568384304177016], &quot;geometry&quot;: {&quot;coordinates&quot;: [[[[-0.234079872956499, 51.54591402830556], [-0.229758398025297, 51.54591402830556], [-0.228317906381562, 51.5450152172707], [-0.22399643145036, 51.5450152172707], [-0.223276185628492, 51.54456581175327], [-0.223276185628492, 51.543667000718415], [-0.222555939806625, 51.543217595200986], [-0.221115448162891, 51.544116406235844], [-0.218234464875422, 51.544116406235844], [-0.217514219053555, 51.543667000718415], [-0.217514219053555, 51.54276818968356], [-0.216073727409821, 51.5418693786487], [-0.216073727409821, 51.54007175657898], [-0.214633235766087, 51.539172945544124], [-0.214633235766087, 51.53647651243955], [-0.21391298994422, 51.53602710692212], [-0.212472498300485, 51.53692591795698], [-0.211752252478618, 51.53647651243955], [-0.211752252478618, 51.532881268300116], [-0.21391298994422, 51.53153305174783], [-0.215353481587954, 51.53243186278269], [-0.216793973231688, 51.53243186278269], [-0.21895471069729, 51.5310836462304], [-0.217514219053555, 51.53018483519554], [-0.217514219053555, 51.52928602416068], [-0.215353481587954, 51.527937807608396], [-0.214633235766087, 51.528387213125825], [-0.214633235766087, 51.53018483519554], [-0.212472498300485, 51.53153305174783], [-0.211752252478618, 51.5310836462304], [-0.211752252478618, 51.53018483519554], [-0.211032006656751, 51.52973542967811], [-0.209591515013017, 51.52973542967811], [-0.206710531725548, 51.53153305174783], [-0.205990285903681, 51.5310836462304], [-0.205990285903681, 51.53018483519554], [-0.20887126919115, 51.528387213125825], [-0.208151023369282, 51.527937807608396], [-0.206710531725548, 51.527937807608396], [-0.204549794259947, 51.52658959105611], [-0.204549794259947, 51.52569078002125], [-0.205990285903681, 51.52479196898639], [-0.205990285903681, 51.522994346916676], [-0.20382954843808, 51.52164613036439], [-0.202389056794345, 51.52164613036439], [-0.201668810972478, 51.52119672484696], [-0.203109302616213, 51.5202979138121], [-0.200228319328744, 51.518500291742384], [-0.200228319328744, 51.517601480707526], [-0.199508073506877, 51.5171520751901], [-0.196627090219408, 51.5171520751901], [-0.195186598575674, 51.518050886224955], [-0.19374610693194, 51.518050886224955], [-0.193025861110073, 51.518500291742384], [-0.195906844397541, 51.5202979138121], [-0.195186598575674, 51.52074731932953], [-0.19374610693194, 51.52074731932953], [-0.192305615288205, 51.51984850829467], [-0.190865123644471, 51.51984850829467], [-0.190144877822604, 51.5202979138121], [-0.190144877822604, 51.52209553588182], [-0.189424632000737, 51.52254494139925], [-0.187984140357003, 51.52164613036439], [-0.186543648713268, 51.52254494139925], [-0.185103157069534, 51.52164613036439], [-0.182222173782066, 51.52164613036439], [-0.180061436316464, 51.522994346916676], [-0.180061436316464, 51.523893157951534], [-0.179341190494597, 51.52434256346896], [-0.177900698850863, 51.52434256346896], [-0.176460207207128, 51.52524137450382], [-0.175739961385261, 51.52479196898639], [-0.175739961385261, 51.522994346916676], [-0.175019715563394, 51.52254494139925], [-0.172138732275926, 51.52434256346896], [-0.170698240632191, 51.523443752434105], [-0.169257748988457, 51.523443752434105], [-0.167817257344723, 51.52254494139925], [-0.166376765700988, 51.52254494139925], [-0.162055290769786, 51.52524137450382], [-0.160614799126051, 51.52434256346896], [-0.159894553304184, 51.52479196898639], [-0.161335044947919, 51.52569078002125], [-0.161335044947919, 51.52658959105611], [-0.162055290769786, 51.52703899657354], [-0.162775536591653, 51.52658959105611], [-0.162775536591653, 51.52569078002125], [-0.16349578241352, 51.52524137450382], [-0.164936274057254, 51.52614018553868], [-0.166376765700988, 51.52614018553868], [-0.167097011522856, 51.52658959105611], [-0.167097011522856, 51.52748840209097], [-0.167817257344723, 51.527937807608396], [-0.169257748988457, 51.52703899657354], [-0.171418486454058, 51.528387213125825], [-0.169977994810324, 51.52928602416068], [-0.170698240632191, 51.52973542967811], [-0.172138732275926, 51.52973542967811], [-0.172858978097793, 51.53018483519554], [-0.172858978097793, 51.532881268300116], [-0.171418486454058, 51.533780079334974], [-0.174299469741527, 51.53557770140469], [-0.174299469741527, 51.54007175657898], [-0.172858978097793, 51.54097056761384], [-0.172858978097793, 51.54276818968356], [-0.175019715563394, 51.544116406235844], [-0.176460207207128, 51.544116406235844], [-0.17862094467273, 51.54546462278813], [-0.17862094467273, 51.54636343382299], [-0.180061436316464, 51.54726224485785], [-0.180061436316464, 51.548161055892706], [-0.180781682138331, 51.548610461410135], [-0.1836626654258, 51.548610461410135], [-0.184382911247667, 51.549059866927564], [-0.1836626654258, 51.54950927244499], [-0.182222173782066, 51.54950927244499], [-0.181501927960198, 51.54995867796242], [-0.182942419603933, 51.55085748899728], [-0.182942419603933, 51.55175630003214], [-0.184382911247667, 51.552655111067], [-0.184382911247667, 51.55445273313671], [-0.185103157069534, 51.55490213865414], [-0.187984140357003, 51.55490213865414], [-0.18870438617887, 51.55535154417157], [-0.187263894535135, 51.55625035520643], [-0.187984140357003, 51.55669976072386], [-0.190865123644471, 51.55669976072386], [-0.193025861110073, 51.558047977276146], [-0.193025861110073, 51.56164322141558], [-0.19374610693194, 51.56209262693301], [-0.195186598575674, 51.56209262693301], [-0.195906844397541, 51.56254203245044], [-0.195906844397541, 51.564339654520154], [-0.194466352753807, 51.56523846555501], [-0.194466352753807, 51.56793489865959], [-0.195186598575674, 51.568384304177016], [-0.196627090219408, 51.568384304177016], [-0.197347336041275, 51.56793489865959], [-0.197347336041275, 51.56613727658987], [-0.19878782768501, 51.56523846555501], [-0.19878782768501, 51.563440843485296], [-0.201668810972478, 51.56164322141558], [-0.201668810972478, 51.56074441038072], [-0.200228319328744, 51.55984559934586], [-0.201668810972478, 51.558946788311005], [-0.200228319328744, 51.558047977276146], [-0.200228319328744, 51.55714916624129], [-0.200948565150611, 51.55669976072386], [-0.202389056794345, 51.55669976072386], [-0.205270040081814, 51.55490213865414], [-0.209591515013017, 51.55490213865414], [-0.210311760834884, 51.55535154417157], [-0.210311760834884, 51.55625035520643], [-0.211752252478618, 51.55714916624129], [-0.211752252478618, 51.558047977276146], [-0.212472498300485, 51.558497382793576], [-0.21391298994422, 51.558497382793576], [-0.214633235766087, 51.558946788311005], [-0.214633235766087, 51.55984559934586], [-0.215353481587954, 51.56029500486329], [-0.216793973231688, 51.56029500486329], [-0.217514219053555, 51.56074441038072], [-0.217514219053555, 51.56164322141558], [-0.218234464875422, 51.56209262693301], [-0.219674956519157, 51.56209262693301], [-0.22399643145036, 51.56478906003758], [-0.224716677272227, 51.564339654520154], [-0.221835693984758, 51.56254203245044], [-0.221835693984758, 51.558047977276146], [-0.221115448162891, 51.55759857175872], [-0.219674956519157, 51.55759857175872], [-0.21895471069729, 51.55714916624129], [-0.220395202341024, 51.55625035520643], [-0.220395202341024, 51.55535154417157], [-0.217514219053555, 51.553553922101855], [-0.217514219053555, 51.552655111067], [-0.214633235766087, 51.55085748899728], [-0.214633235766087, 51.549059866927564], [-0.215353481587954, 51.548610461410135], [-0.216793973231688, 51.548610461410135], [-0.218234464875422, 51.54950927244499], [-0.229758398025297, 51.54950927244499], [-0.230478643847164, 51.549059866927564], [-0.230478643847164, 51.548161055892706], [-0.231198889669031, 51.54771165037528], [-0.232639381312765, 51.548610461410135], [-0.236960856243968, 51.548610461410135], [-0.237681102065835, 51.548161055892706], [-0.237681102065835, 51.54726224485785], [-0.236960856243968, 51.54681283934042], [-0.235520364600234, 51.54681283934042], [-0.234079872956499, 51.54591402830556]]]], &quot;type&quot;: &quot;MultiPolygon&quot;}, &quot;id&quot;: &quot;8&quot;, &quot;properties&quot;: {&quot;location&quot;: &quot;Kilburn&quot;, &quot;search_id&quot;: 9}, &quot;type&quot;: &quot;Feature&quot;}, {&quot;bbox&quot;: [-0.083508860960137, 51.49127668404253, -0.037435010715853, 51.52183637401322], &quot;geometry&quot;: {&quot;coordinates&quot;: [[[[-0.080629245319869, 51.51239882269874], [-0.080629245319869, 51.50880356505513], [-0.078469533589669, 51.50745534343878], [-0.077749629679602, 51.50790475064423], [-0.077029725769535, 51.50925297226058], [-0.075589917949401, 51.50925297226058], [-0.074870014039334, 51.50880356505513], [-0.074870014039334, 51.50790475064423], [-0.075049990016851, 51.50700593623333], [-0.074150110129267, 51.50644417722651], [-0.071270494488999, 51.507342991637415], [-0.071270494488999, 51.50666888082924], [-0.072170374376583, 51.506107121822424], [-0.071270494488999, 51.50554536281561], [-0.062631647568196, 51.5028489195829], [-0.058312224107794, 51.5028489195829], [-0.048233569366857, 51.50824180604832], [-0.04535395372659, 51.50914062045922], [-0.041034530266188, 51.51003943487012], [-0.038874818535987, 51.51150000828784], [-0.038874818535987, 51.51239882269874], [-0.037435010715853, 51.513297637109645], [-0.039594722446054, 51.514645858726], [-0.041034530266188, 51.514645858726], [-0.042474338086322, 51.513747044315096], [-0.04535395372659, 51.513747044315096], [-0.046793761546724, 51.514645858726], [-0.049673377186991, 51.514645858726], [-0.051113185007125, 51.5155446731369], [-0.052552992827259, 51.514645858726], [-0.053992800647393, 51.514645858726], [-0.055432608467527, 51.5155446731369], [-0.056872416287661, 51.5155446731369], [-0.058312224107794, 51.514645858726], [-0.059752031927928, 51.5155446731369], [-0.061191839748062, 51.514645858726], [-0.06407145538833, 51.514645858726], [-0.065511263208464, 51.513747044315096], [-0.068390878848732, 51.513747044315096], [-0.072710302309133, 51.516443487547804], [-0.074150110129267, 51.5155446731369], [-0.075589917949401, 51.516443487547804], [-0.077029725769535, 51.516443487547804], [-0.079189437499736, 51.51779170916416], [-0.079189437499736, 51.51869052357506], [-0.079909341409802, 51.51913993078051], [-0.080629245319869, 51.51869052357506], [-0.080629245319869, 51.51779170916416], [-0.082069053140003, 51.516892894753255], [-0.082069053140003, 51.51599408034235], [-0.083508860960137, 51.51509526593145], [-0.082069053140003, 51.51419645152055], [-0.082069053140003, 51.513297637109645], [-0.080629245319869, 51.51239882269874]]], [[[-0.053992800647393, 51.495770756097045], [-0.052552992827259, 51.495770756097045], [-0.051833088917192, 51.49532134889159], [-0.051833088917192, 51.49352372006979], [-0.050393281097058, 51.492624905658886], [-0.050393281097058, 51.49172609124798], [-0.049673377186991, 51.49127668404253], [-0.046793761546724, 51.49127668404253], [-0.044634049816523, 51.492624905658886], [-0.044634049816523, 51.50071423535701], [-0.046073857636657, 51.50161304976791], [-0.046073857636657, 51.502511864178814], [-0.046793761546724, 51.50307362318563], [-0.04751366545679, 51.50430949300062], [-0.048233569366857, 51.50475890020607], [-0.049673377186991, 51.50386008579517], [-0.050573257074575, 51.50341067858972], [-0.053992800647393, 51.502174808774726], [-0.058312224107794, 51.50127599436382], [-0.059032128017861, 51.50071423535701], [-0.059032128017861, 51.4980177921243], [-0.058312224107794, 51.49756838491885], [-0.056872416287661, 51.49846719932975], [-0.05471270455746, 51.4971189777134], [-0.05471270455746, 51.496220163302496], [-0.053992800647393, 51.495770756097045]]], [[[-0.059752031927928, 51.52183637401322], [-0.061911743658129, 51.520488152396865], [-0.061911743658129, 51.51958933798596], [-0.063351551478263, 51.51869052357506], [-0.062631647568196, 51.51824111636961], [-0.059752031927928, 51.51824111636961], [-0.058312224107794, 51.517342301958706], [-0.056152512377594, 51.51869052357506], [-0.056152512377594, 51.51958933798596], [-0.056872416287661, 51.520038745191414], [-0.057592320197728, 51.520488152396865], [-0.057592320197728, 51.52138696680777], [-0.058312224107794, 51.52183637401322], [-0.059752031927928, 51.52183637401322]]]], &quot;type&quot;: &quot;MultiPolygon&quot;}, &quot;id&quot;: &quot;9&quot;, &quot;properties&quot;: {&quot;location&quot;: &quot;Wapping&quot;, &quot;search_id&quot;: 10}, &quot;type&quot;: &quot;Feature&quot;}], &quot;type&quot;: &quot;FeatureCollection&quot;});\n",
       "\n",
       "        \n",
       "    \n",
       "    geo_json_7729a7d5f134fbfe93fd3e8a62f02589.bindTooltip(\n",
       "    function(layer){\n",
       "    let div = L.DomUtil.create(&#x27;div&#x27;);\n",
       "    \n",
       "    let handleObject = feature=&gt;typeof(feature)==&#x27;object&#x27; ? JSON.stringify(feature) : feature;\n",
       "    let fields = [&quot;location&quot;];\n",
       "    let aliases = [&quot;location&quot;];\n",
       "    let table = &#x27;&lt;table&gt;&#x27; +\n",
       "        String(\n",
       "        fields.map(\n",
       "        (v,i)=&gt;\n",
       "        `&lt;tr&gt;\n",
       "            &lt;th&gt;${aliases[i]}&lt;/th&gt;\n",
       "            \n",
       "            &lt;td&gt;${handleObject(layer.feature.properties[v])}&lt;/td&gt;\n",
       "        &lt;/tr&gt;`).join(&#x27;&#x27;))\n",
       "    +&#x27;&lt;/table&gt;&#x27;;\n",
       "    div.innerHTML=table;\n",
       "    \n",
       "    return div\n",
       "    }\n",
       "    ,{&quot;className&quot;: &quot;foliumtooltip&quot;, &quot;sticky&quot;: true});\n",
       "                     \n",
       "&lt;/script&gt;\n",
       "&lt;/html&gt;\" style=\"position:absolute;width:100%;height:100%;left:0;top:0;border:none !important;\" allowfullscreen webkitallowfullscreen mozallowfullscreen></iframe></div></div>"
      ],
      "text/plain": [
       "<folium.folium.Map at 0x7fe57fb79f70>"
      ]
     },
     "metadata": {},
     "output_type": "display_data"
    }
   ],
   "source": [
    "# let's visualise our isochrones for each location, in a different colour each time\n",
    "colour_map = {1:\"rgb(0,42,94)\",\n",
    "             2:\"rgb(0,121,109)\",\n",
    "             3:\"rgb(234,82,4)\",\n",
    "             4:\"rgb(183,25,98)\",\n",
    "             5:\"rgb(79,51,152)\",\n",
    "             6:\"rgb(0,116,183)\",\n",
    "             7:\"rgb(99,197,50)\",\n",
    "             8:\"rgb(248,169,8)\",\n",
    "             9:\"rgb(223,83,106)\",\n",
    "             10:\"rgb(125,55,135)\"}\n",
    "\n",
    "import folium\n",
    "m = folium.Map(location=[51.5074, -0.1278], \n",
    "               zoom_start=12,\n",
    "               width=1000,\n",
    "               height=800)  \n",
    "\n",
    "# Define the style function  \n",
    "def style_function(feature):  \n",
    "    \n",
    "    # Get the value for coloring from the feature properties  \n",
    "    value = feature['properties']['search_id']\n",
    "      \n",
    "    # Get the color based on the value using the color map  \n",
    "    colour = colour_map.get(value) \n",
    "      \n",
    "    # Return the style properties  \n",
    "    return {  \n",
    "        'fillColor': colour,  \n",
    "        'color': 'black',  \n",
    "        'weight': 1,  \n",
    "        'fillOpacity': 0.6,\n",
    "    }  \n",
    "\n",
    "folium.GeoJson(iso_gdf, \n",
    "               style_function=style_function,\n",
    "               tooltip=folium.GeoJsonTooltip(fields=['location'])\n",
    "            ).add_to(m)\n",
    "\n",
    "display(m)  "
   ]
  },
  {
   "cell_type": "code",
   "execution_count": 23,
   "metadata": {
    "scrolled": true
   },
   "outputs": [],
   "source": [
    "# Now, let's import a population dataset so we can see which isochrone affords us the biggest market\n",
    "with rasterio.open('clipped_GBR_worldpop.tif') as r:\n",
    "    arr = r.read(1)\n",
    "    arr[arr<0] = 0\n",
    "    aff = r.meta['transform']"
   ]
  },
  {
   "cell_type": "markdown",
   "metadata": {},
   "source": [
    "![LondonPopulationDensity](geo_training/raster.png)"
   ]
  },
  {
   "cell_type": "code",
   "execution_count": 44,
   "metadata": {},
   "outputs": [
    {
     "data": {
      "text/plain": [
       "array([[  0.       ,   0.       ,   7.271873 , ...,   8.592625 ,\n",
       "          4.4721594,  15.676467 ],\n",
       "       [  0.       ,   2.4741092,   2.653108 , ...,   3.007857 ,\n",
       "          2.1524282,   3.0818932],\n",
       "       [  7.0299067,   6.999458 ,   7.178957 , ...,   1.4412255,\n",
       "          1.5851892,   1.401784 ],\n",
       "       ...,\n",
       "       [ 75.75786  ,  76.0401   , 172.76715  , ...,   5.263302 ,\n",
       "          8.858702 ,   4.4420295],\n",
       "       [ 74.39615  ,  72.13014  ,  76.62575  , ...,  15.044149 ,\n",
       "          2.0365822,   1.207004 ],\n",
       "       [ 76.76962  ,  75.5393   ,  59.569084 , ...,  14.02362  ,\n",
       "          1.991469 ,   1.2088212]], dtype=float32)"
      ]
     },
     "execution_count": 44,
     "metadata": {},
     "output_type": "execute_result"
    }
   ],
   "source": [
    "# what does the population data look like \"under the hood\"?\n",
    "arr"
   ]
  },
  {
   "cell_type": "code",
   "execution_count": 25,
   "metadata": {},
   "outputs": [
    {
     "data": {
      "text/plain": [
       "(154, 346)"
      ]
     },
     "execution_count": 25,
     "metadata": {},
     "output_type": "execute_result"
    }
   ],
   "source": [
    "arr.shape"
   ]
  },
  {
   "cell_type": "code",
   "execution_count": 26,
   "metadata": {},
   "outputs": [
    {
     "data": {
      "text/plain": [
       "Affine(0.0008333333300256081, 0.0, -0.24124998371158846,\n",
       "       0.0, -0.00083333333002425, 51.57291666154971)"
      ]
     },
     "execution_count": 26,
     "metadata": {},
     "output_type": "execute_result"
    }
   ],
   "source": [
    "aff"
   ]
  },
  {
   "cell_type": "code",
   "execution_count": 27,
   "metadata": {},
   "outputs": [
    {
     "name": "stderr",
     "output_type": "stream",
     "text": [
      "/home/schroders/versioncontrol/re_project_concrete/nvenv/lib/python3.9/site-packages/rasterstats/io.py:328: NodataWarning:\n",
      "\n",
      "Setting nodata to -999; specify nodata explicitly\n",
      "\n"
     ]
    },
    {
     "data": {
      "text/html": [
       "<div>\n",
       "<style scoped>\n",
       "    .dataframe tbody tr th:only-of-type {\n",
       "        vertical-align: middle;\n",
       "    }\n",
       "\n",
       "    .dataframe tbody tr th {\n",
       "        vertical-align: top;\n",
       "    }\n",
       "\n",
       "    .dataframe thead th {\n",
       "        text-align: right;\n",
       "    }\n",
       "</style>\n",
       "<table border=\"1\" class=\"dataframe\">\n",
       "  <thead>\n",
       "    <tr style=\"text-align: right;\">\n",
       "      <th></th>\n",
       "      <th>search_id</th>\n",
       "      <th>location</th>\n",
       "      <th>geometry</th>\n",
       "      <th>20_min_pop</th>\n",
       "    </tr>\n",
       "  </thead>\n",
       "  <tbody>\n",
       "    <tr>\n",
       "      <th>7</th>\n",
       "      <td>8</td>\n",
       "      <td>Elephant&amp;Castle</td>\n",
       "      <td>MULTIPOLYGON (((-0.11584 51.51488, -0.11728 51...</td>\n",
       "      <td>218371.6</td>\n",
       "    </tr>\n",
       "    <tr>\n",
       "      <th>8</th>\n",
       "      <td>9</td>\n",
       "      <td>Kilburn</td>\n",
       "      <td>MULTIPOLYGON (((-0.23408 51.54591, -0.22976 51...</td>\n",
       "      <td>195790.6</td>\n",
       "    </tr>\n",
       "    <tr>\n",
       "      <th>4</th>\n",
       "      <td>5</td>\n",
       "      <td>Bank</td>\n",
       "      <td>MULTIPOLYGON (((-0.14606 51.51308, -0.13886 51...</td>\n",
       "      <td>119317.0</td>\n",
       "    </tr>\n",
       "    <tr>\n",
       "      <th>6</th>\n",
       "      <td>7</td>\n",
       "      <td>Shoreditch</td>\n",
       "      <td>MULTIPOLYGON (((-0.10298 51.51903, -0.10154 51...</td>\n",
       "      <td>99720.9</td>\n",
       "    </tr>\n",
       "    <tr>\n",
       "      <th>0</th>\n",
       "      <td>1</td>\n",
       "      <td>Chelsea</td>\n",
       "      <td>MULTIPOLYGON (((-0.19282 51.47669, -0.19210 51...</td>\n",
       "      <td>96939.1</td>\n",
       "    </tr>\n",
       "    <tr>\n",
       "      <th>1</th>\n",
       "      <td>2</td>\n",
       "      <td>Marylebone</td>\n",
       "      <td>MULTIPOLYGON (((-0.17711 51.52944, -0.17711 51...</td>\n",
       "      <td>94409.0</td>\n",
       "    </tr>\n",
       "    <tr>\n",
       "      <th>2</th>\n",
       "      <td>3</td>\n",
       "      <td>Soho</td>\n",
       "      <td>MULTIPOLYGON (((-0.15765 51.50928, -0.15477 51...</td>\n",
       "      <td>87073.0</td>\n",
       "    </tr>\n",
       "    <tr>\n",
       "      <th>3</th>\n",
       "      <td>4</td>\n",
       "      <td>Westminster</td>\n",
       "      <td>MULTIPOLYGON (((-0.16195 51.48507, -0.16051 51...</td>\n",
       "      <td>58009.1</td>\n",
       "    </tr>\n",
       "    <tr>\n",
       "      <th>9</th>\n",
       "      <td>10</td>\n",
       "      <td>Wapping</td>\n",
       "      <td>MULTIPOLYGON (((-0.08063 51.51240, -0.08063 51...</td>\n",
       "      <td>55027.2</td>\n",
       "    </tr>\n",
       "    <tr>\n",
       "      <th>5</th>\n",
       "      <td>6</td>\n",
       "      <td>IsleofDogs</td>\n",
       "      <td>MULTIPOLYGON (((-0.03814 51.51390, -0.03958 51...</td>\n",
       "      <td>51226.4</td>\n",
       "    </tr>\n",
       "  </tbody>\n",
       "</table>\n",
       "</div>"
      ],
      "text/plain": [
       "   search_id         location  \\\n",
       "7          8  Elephant&Castle   \n",
       "8          9          Kilburn   \n",
       "4          5             Bank   \n",
       "6          7       Shoreditch   \n",
       "0          1          Chelsea   \n",
       "1          2       Marylebone   \n",
       "2          3             Soho   \n",
       "3          4      Westminster   \n",
       "9         10          Wapping   \n",
       "5          6       IsleofDogs   \n",
       "\n",
       "                                            geometry  20_min_pop  \n",
       "7  MULTIPOLYGON (((-0.11584 51.51488, -0.11728 51...    218371.6  \n",
       "8  MULTIPOLYGON (((-0.23408 51.54591, -0.22976 51...    195790.6  \n",
       "4  MULTIPOLYGON (((-0.14606 51.51308, -0.13886 51...    119317.0  \n",
       "6  MULTIPOLYGON (((-0.10298 51.51903, -0.10154 51...     99720.9  \n",
       "0  MULTIPOLYGON (((-0.19282 51.47669, -0.19210 51...     96939.1  \n",
       "1  MULTIPOLYGON (((-0.17711 51.52944, -0.17711 51...     94409.0  \n",
       "2  MULTIPOLYGON (((-0.15765 51.50928, -0.15477 51...     87073.0  \n",
       "3  MULTIPOLYGON (((-0.16195 51.48507, -0.16051 51...     58009.1  \n",
       "9  MULTIPOLYGON (((-0.08063 51.51240, -0.08063 51...     55027.2  \n",
       "5  MULTIPOLYGON (((-0.03814 51.51390, -0.03958 51...     51226.4  "
      ]
     },
     "execution_count": 27,
     "metadata": {},
     "output_type": "execute_result"
    }
   ],
   "source": [
    "# sample raster for each polygon in iso_gdf\n",
    "zs = rasterstats.zonal_stats(iso_gdf, arr, affine=aff, stats=['sum'])\n",
    "iso_gdf['20_min_pop'] = [i['sum'] for i in zs]\n",
    "iso_gdf = iso_gdf.sort_values(by = '20_min_pop', ascending = False)\n",
    "iso_gdf"
   ]
  },
  {
   "cell_type": "markdown",
   "metadata": {},
   "source": [
    "- SchrodKEA should set up shop in E&C and Kilburn first, rather than somewhere more central like Westminster - due to a combination of the immediate resident population density + public transport availability"
   ]
  },
  {
   "cell_type": "markdown",
   "metadata": {},
   "source": [
    "### Alternative Data - Web Scraping\n",
    "- Gather non-standard data from the internet to augment traditional decision making\n",
    "- e.g. gather all the property information on this webpage: https://www.rexfordindustrial.com/properties"
   ]
  },
  {
   "cell_type": "code",
   "execution_count": null,
   "metadata": {},
   "outputs": [],
   "source": [
    "url = 'https://www.rexfordindustrial.com/properties'\n",
    "r = requests.get(url)"
   ]
  },
  {
   "cell_type": "code",
   "execution_count": null,
   "metadata": {},
   "outputs": [],
   "source": [
    "soup = BeautifulSoup(r.content, 'html')"
   ]
  },
  {
   "cell_type": "code",
   "execution_count": null,
   "metadata": {},
   "outputs": [],
   "source": [
    "all_prop_divs = soup.find('div', attrs = {'class':'properties-listing'}).find_all('article')"
   ]
  },
  {
   "cell_type": "code",
   "execution_count": null,
   "metadata": {},
   "outputs": [],
   "source": [
    "prop_collection = []\n",
    "for a in all_prop_divs:\n",
    "    p = {'prop_name':a.find('h1').text,\n",
    "         'location':a.find('h2').text,\n",
    "         'available_space':a.find_all('h3')[0].text,\n",
    "         'total_space':a.find_all('h3')[1].text\n",
    "         }\n",
    "    prop_collection.append(p)  "
   ]
  },
  {
   "cell_type": "markdown",
   "metadata": {},
   "source": [
    "We can use this alternative data to track concepts of interest to us...e.g.:\n",
    "- \"What is the fraction of total space, across all warehouse properties, that is currently vacanct?\n",
    "- \"Which property has the highest vacancy rate?\n",
    "- \"Any patterns / identifying factors for the most vacant properties\"?"
   ]
  },
  {
   "cell_type": "code",
   "execution_count": null,
   "metadata": {},
   "outputs": [],
   "source": [
    "pdf = pd.DataFrame(prop_collection)\n",
    "\n",
    "pdf['available_space'].str.split(' ').str[0].str.replace(', ','')\n",
    "\n",
    "pdf['available_space'] = pd.to_numeric(pdf['available_space'].str.split(' ').str[0].str.replace(',',''), \n",
    "                                       errors = 'coerce').fillna(0)\n",
    "\n",
    "pdf['total_space'] = pd.to_numeric(pdf['total_space'].str.split(' ').str[0].str.replace(',',''), \n",
    "                                       errors = 'coerce').fillna(0)\n",
    "\n",
    "overall_vacancy_rate = pdf['available_space'].sum() / pdf['total_space'].sum()\n",
    "\n",
    "str(round(overall_vacancy_rate * 100, 2))+' percent'"
   ]
  },
  {
   "cell_type": "code",
   "execution_count": null,
   "metadata": {
    "scrolled": true
   },
   "outputs": [],
   "source": [
    "pdf['vacancy_rate'] = (pdf['available_space'] / pdf['total_space']) * 100\n",
    "pdf.sort_values(by = 'vacancy_rate', ascending = False).head(20)"
   ]
  },
  {
   "cell_type": "code",
   "execution_count": null,
   "metadata": {},
   "outputs": [],
   "source": [
    "pdf[pdf['vacancy_rate'] > 80].total_space.mean().round(0)"
   ]
  },
  {
   "cell_type": "code",
   "execution_count": null,
   "metadata": {},
   "outputs": [],
   "source": [
    "pdf[pdf['vacancy_rate'] < 80].total_space.mean().round(0)"
   ]
  },
  {
   "cell_type": "code",
   "execution_count": null,
   "metadata": {},
   "outputs": [],
   "source": [
    "pdf.total_space.mean().round(0)"
   ]
  },
  {
   "cell_type": "markdown",
   "metadata": {},
   "source": [
    "...The vacant properties are significantly smaller than average for Rexford... are smaller properties harder to lease, or do they have a higher turnover rate?"
   ]
  },
  {
   "cell_type": "markdown",
   "metadata": {},
   "source": [
    "### Bonus: Machine Learning\n",
    "- Harness cutting-edge techniques to make predictions for variables of interest\n",
    "- Better to use Kaggle than look at something I put together! https://www.kaggle.com/code/janiobachmann/credit-fraud-dealing-with-imbalanced-datasets "
   ]
  },
  {
   "cell_type": "markdown",
   "metadata": {},
   "source": [
    "### Optimisation\n",
    "- Use 3rd party optimizers to solve problems with constraints"
   ]
  },
  {
   "cell_type": "code",
   "execution_count": 38,
   "metadata": {},
   "outputs": [],
   "source": [
    "import cvxpy as cp\n",
    "import numpy as np\n",
    "import pandas as pd\n",
    "import plotly.graph_objects as go\n",
    "from plotly.subplots import make_subplots\n",
    "import plotly.express as px\n",
    "from sklearn.datasets import make_spd_matrix\n",
    "import matplotlib as plt\n",
    "import warnings\n",
    "warnings.filterwarnings('ignore')\n",
    "pd.set_option('display.float_format', lambda x: '%.3f' % x)"
   ]
  },
  {
   "cell_type": "code",
   "execution_count": 39,
   "metadata": {},
   "outputs": [
    {
     "data": {
      "text/plain": [
       "Emerging Markets Equity           0.021\n",
       "EAFE Equity                       0.062\n",
       "U.S. Small Cap                    0.099\n",
       "U.S. Mid Cap                      0.028\n",
       "U.S. Large Cap                    0.096\n",
       "U.S. High Yield Bonds             0.093\n",
       "Commodities                       0.097\n",
       "U.S. Inv. Grade Corporate Bonds   0.065\n",
       "U.S. Intermediate Treasuries      0.064\n",
       "TIPS                              0.002\n",
       "World ex-U.S. Government Bonds    0.061\n",
       "dtype: float64"
      ]
     },
     "execution_count": 39,
     "metadata": {},
     "output_type": "execute_result"
    }
   ],
   "source": [
    "er_names = ['Emerging Markets Equity', \n",
    "            'EAFE Equity', 'U.S. Small Cap',\n",
    "            'U.S. Mid Cap', \n",
    "            'U.S. Large Cap', \n",
    "            'U.S. High Yield Bonds',\n",
    "            'Commodities', \n",
    "            'U.S. Inv. Grade Corporate Bonds',\n",
    "            'U.S. Intermediate Treasuries', \n",
    "            'TIPS',\n",
    "            'World ex-U.S. Government Bonds']\n",
    "\n",
    "random_seed = 2355\n",
    "np.random.seed(random_seed) # set random state for reproducibility\n",
    "\n",
    "er_values = np.random.rand(len(er_names)) / 10\n",
    "\n",
    "er = pd.Series(er_values, index=er_names)\n",
    "er"
   ]
  },
  {
   "cell_type": "code",
   "execution_count": null,
   "metadata": {},
   "outputs": [],
   "source": []
  },
  {
   "cell_type": "code",
   "execution_count": null,
   "metadata": {},
   "outputs": [],
   "source": []
  }
 ],
 "metadata": {
  "kernelspec": {
   "display_name": "Python (Concrete 3.9)",
   "language": "python",
   "name": "concrete_39"
  },
  "language_info": {
   "codemirror_mode": {
    "name": "ipython",
    "version": 3
   },
   "file_extension": ".py",
   "mimetype": "text/x-python",
   "name": "python",
   "nbconvert_exporter": "python",
   "pygments_lexer": "ipython3",
   "version": "3.9.12"
  }
 },
 "nbformat": 4,
 "nbformat_minor": 4
}

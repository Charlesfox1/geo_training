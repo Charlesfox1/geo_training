{
 "cells": [
  {
   "cell_type": "code",
   "execution_count": 14,
   "metadata": {},
   "outputs": [],
   "source": [
    "import pandas as pd"
   ]
  },
  {
   "cell_type": "code",
   "execution_count": 15,
   "metadata": {},
   "outputs": [],
   "source": [
    "# Pick up your data from a .csv, .xlsx, database, or other format with the wide range of import functions\n",
    "df = pd.read_csv('data-sample.csv')"
   ]
  },
  {
   "cell_type": "code",
   "execution_count": 16,
   "metadata": {},
   "outputs": [
    {
     "data": {
      "text/html": [
       "<div>\n",
       "<style scoped>\n",
       "    .dataframe tbody tr th:only-of-type {\n",
       "        vertical-align: middle;\n",
       "    }\n",
       "\n",
       "    .dataframe tbody tr th {\n",
       "        vertical-align: top;\n",
       "    }\n",
       "\n",
       "    .dataframe thead th {\n",
       "        text-align: right;\n",
       "    }\n",
       "</style>\n",
       "<table border=\"1\" class=\"dataframe\">\n",
       "  <thead>\n",
       "    <tr style=\"text-align: right;\">\n",
       "      <th></th>\n",
       "      <th>frequency</th>\n",
       "      <th>period_ending</th>\n",
       "      <th>ship_type</th>\n",
       "      <th>ship_size</th>\n",
       "      <th>port_name</th>\n",
       "      <th>port_country</th>\n",
       "      <th>region_corridor</th>\n",
       "      <th>metric</th>\n",
       "      <th>draft</th>\n",
       "      <th>ship_count</th>\n",
       "      <th>dwt</th>\n",
       "      <th>modified_dwt</th>\n",
       "      <th>avg_time_spent_mins</th>\n",
       "      <th>year</th>\n",
       "    </tr>\n",
       "  </thead>\n",
       "  <tbody>\n",
       "    <tr>\n",
       "      <th>0</th>\n",
       "      <td>MONTHLY</td>\n",
       "      <td>2018-01-31</td>\n",
       "      <td>BULKER</td>\n",
       "      <td>MEDIUM</td>\n",
       "      <td>Durban</td>\n",
       "      <td>South Africa</td>\n",
       "      <td>Africa</td>\n",
       "      <td>Entries</td>\n",
       "      <td>EMPTY</td>\n",
       "      <td>25</td>\n",
       "      <td>1518305</td>\n",
       "      <td>0</td>\n",
       "      <td>NaN</td>\n",
       "      <td>2018</td>\n",
       "    </tr>\n",
       "    <tr>\n",
       "      <th>1</th>\n",
       "      <td>MONTHLY</td>\n",
       "      <td>2018-01-31</td>\n",
       "      <td>BULKER</td>\n",
       "      <td>SMALL</td>\n",
       "      <td>Abidjan</td>\n",
       "      <td>Cote D'ivoire</td>\n",
       "      <td>Africa</td>\n",
       "      <td>Entries</td>\n",
       "      <td>EMPTY</td>\n",
       "      <td>4</td>\n",
       "      <td>123016</td>\n",
       "      <td>0</td>\n",
       "      <td>NaN</td>\n",
       "      <td>2018</td>\n",
       "    </tr>\n",
       "    <tr>\n",
       "      <th>2</th>\n",
       "      <td>MONTHLY</td>\n",
       "      <td>2018-01-31</td>\n",
       "      <td>BULKER</td>\n",
       "      <td>MEDIUM</td>\n",
       "      <td>Arzew El-Djedid</td>\n",
       "      <td>Algeria</td>\n",
       "      <td>Africa</td>\n",
       "      <td>Entries</td>\n",
       "      <td>EMPTY</td>\n",
       "      <td>3</td>\n",
       "      <td>166488</td>\n",
       "      <td>0</td>\n",
       "      <td>NaN</td>\n",
       "      <td>2018</td>\n",
       "    </tr>\n",
       "    <tr>\n",
       "      <th>3</th>\n",
       "      <td>MONTHLY</td>\n",
       "      <td>2018-01-31</td>\n",
       "      <td>BULKER</td>\n",
       "      <td>SMALL</td>\n",
       "      <td>Moma</td>\n",
       "      <td>Mozambique</td>\n",
       "      <td>Africa</td>\n",
       "      <td>Entries</td>\n",
       "      <td>EMPTY</td>\n",
       "      <td>1</td>\n",
       "      <td>28392</td>\n",
       "      <td>0</td>\n",
       "      <td>NaN</td>\n",
       "      <td>2018</td>\n",
       "    </tr>\n",
       "    <tr>\n",
       "      <th>4</th>\n",
       "      <td>MONTHLY</td>\n",
       "      <td>2018-01-31</td>\n",
       "      <td>BULKER</td>\n",
       "      <td>SMALL</td>\n",
       "      <td>Lagos (Nigeria)</td>\n",
       "      <td>Nigeria</td>\n",
       "      <td>Africa</td>\n",
       "      <td>Entries</td>\n",
       "      <td>EMPTY</td>\n",
       "      <td>3</td>\n",
       "      <td>107440</td>\n",
       "      <td>0</td>\n",
       "      <td>NaN</td>\n",
       "      <td>2018</td>\n",
       "    </tr>\n",
       "    <tr>\n",
       "      <th>...</th>\n",
       "      <td>...</td>\n",
       "      <td>...</td>\n",
       "      <td>...</td>\n",
       "      <td>...</td>\n",
       "      <td>...</td>\n",
       "      <td>...</td>\n",
       "      <td>...</td>\n",
       "      <td>...</td>\n",
       "      <td>...</td>\n",
       "      <td>...</td>\n",
       "      <td>...</td>\n",
       "      <td>...</td>\n",
       "      <td>...</td>\n",
       "      <td>...</td>\n",
       "    </tr>\n",
       "    <tr>\n",
       "      <th>228768</th>\n",
       "      <td>MONTHLY</td>\n",
       "      <td>2018-12-31</td>\n",
       "      <td>TANKER</td>\n",
       "      <td>SMALL</td>\n",
       "      <td>River Plate Uruguayan Lightering Areas</td>\n",
       "      <td>Uruguay</td>\n",
       "      <td>South America</td>\n",
       "      <td>Exits</td>\n",
       "      <td>PARTIAL</td>\n",
       "      <td>13</td>\n",
       "      <td>325859</td>\n",
       "      <td>32168</td>\n",
       "      <td>1564.028154</td>\n",
       "      <td>2018</td>\n",
       "    </tr>\n",
       "    <tr>\n",
       "      <th>228769</th>\n",
       "      <td>MONTHLY</td>\n",
       "      <td>2018-12-31</td>\n",
       "      <td>TANKER</td>\n",
       "      <td>MEDIUM</td>\n",
       "      <td>Quintero</td>\n",
       "      <td>Chile</td>\n",
       "      <td>South America</td>\n",
       "      <td>Exits</td>\n",
       "      <td>PARTIAL</td>\n",
       "      <td>2</td>\n",
       "      <td>105818</td>\n",
       "      <td>8849</td>\n",
       "      <td>8483.933500</td>\n",
       "      <td>2018</td>\n",
       "    </tr>\n",
       "    <tr>\n",
       "      <th>228770</th>\n",
       "      <td>MONTHLY</td>\n",
       "      <td>2018-12-31</td>\n",
       "      <td>TANKER</td>\n",
       "      <td>SMALL</td>\n",
       "      <td>Rosario</td>\n",
       "      <td>Argentina</td>\n",
       "      <td>South America</td>\n",
       "      <td>Exits</td>\n",
       "      <td>PARTIAL</td>\n",
       "      <td>1</td>\n",
       "      <td>46992</td>\n",
       "      <td>8458</td>\n",
       "      <td>2157.617000</td>\n",
       "      <td>2018</td>\n",
       "    </tr>\n",
       "    <tr>\n",
       "      <th>228771</th>\n",
       "      <td>MONTHLY</td>\n",
       "      <td>2018-12-31</td>\n",
       "      <td>TANKER</td>\n",
       "      <td>SMALL</td>\n",
       "      <td>Acu Superport</td>\n",
       "      <td>Brazil</td>\n",
       "      <td>South America</td>\n",
       "      <td>Exits</td>\n",
       "      <td>PARTIAL</td>\n",
       "      <td>1</td>\n",
       "      <td>37606</td>\n",
       "      <td>6396</td>\n",
       "      <td>17442.817000</td>\n",
       "      <td>2018</td>\n",
       "    </tr>\n",
       "    <tr>\n",
       "      <th>228772</th>\n",
       "      <td>MONTHLY</td>\n",
       "      <td>2018-12-31</td>\n",
       "      <td>TANKER</td>\n",
       "      <td>SMALL</td>\n",
       "      <td>Mamonal</td>\n",
       "      <td>Colombia</td>\n",
       "      <td>South America</td>\n",
       "      <td>Exits</td>\n",
       "      <td>PARTIAL</td>\n",
       "      <td>12</td>\n",
       "      <td>182341</td>\n",
       "      <td>27973</td>\n",
       "      <td>1456.290333</td>\n",
       "      <td>2018</td>\n",
       "    </tr>\n",
       "  </tbody>\n",
       "</table>\n",
       "<p>228773 rows × 14 columns</p>\n",
       "</div>"
      ],
      "text/plain": [
       "       frequency period_ending ship_type ship_size  \\\n",
       "0        MONTHLY    2018-01-31    BULKER    MEDIUM   \n",
       "1        MONTHLY    2018-01-31    BULKER     SMALL   \n",
       "2        MONTHLY    2018-01-31    BULKER    MEDIUM   \n",
       "3        MONTHLY    2018-01-31    BULKER     SMALL   \n",
       "4        MONTHLY    2018-01-31    BULKER     SMALL   \n",
       "...          ...           ...       ...       ...   \n",
       "228768   MONTHLY    2018-12-31    TANKER     SMALL   \n",
       "228769   MONTHLY    2018-12-31    TANKER    MEDIUM   \n",
       "228770   MONTHLY    2018-12-31    TANKER     SMALL   \n",
       "228771   MONTHLY    2018-12-31    TANKER     SMALL   \n",
       "228772   MONTHLY    2018-12-31    TANKER     SMALL   \n",
       "\n",
       "                                     port_name   port_country region_corridor  \\\n",
       "0                                       Durban   South Africa          Africa   \n",
       "1                                      Abidjan  Cote D'ivoire          Africa   \n",
       "2                              Arzew El-Djedid        Algeria          Africa   \n",
       "3                                         Moma     Mozambique          Africa   \n",
       "4                              Lagos (Nigeria)        Nigeria          Africa   \n",
       "...                                        ...            ...             ...   \n",
       "228768  River Plate Uruguayan Lightering Areas        Uruguay   South America   \n",
       "228769                                Quintero          Chile   South America   \n",
       "228770                                 Rosario      Argentina   South America   \n",
       "228771                           Acu Superport         Brazil   South America   \n",
       "228772                                 Mamonal       Colombia   South America   \n",
       "\n",
       "         metric    draft  ship_count      dwt  modified_dwt  \\\n",
       "0       Entries    EMPTY          25  1518305             0   \n",
       "1       Entries    EMPTY           4   123016             0   \n",
       "2       Entries    EMPTY           3   166488             0   \n",
       "3       Entries    EMPTY           1    28392             0   \n",
       "4       Entries    EMPTY           3   107440             0   \n",
       "...         ...      ...         ...      ...           ...   \n",
       "228768    Exits  PARTIAL          13   325859         32168   \n",
       "228769    Exits  PARTIAL           2   105818          8849   \n",
       "228770    Exits  PARTIAL           1    46992          8458   \n",
       "228771    Exits  PARTIAL           1    37606          6396   \n",
       "228772    Exits  PARTIAL          12   182341         27973   \n",
       "\n",
       "        avg_time_spent_mins  year  \n",
       "0                       NaN  2018  \n",
       "1                       NaN  2018  \n",
       "2                       NaN  2018  \n",
       "3                       NaN  2018  \n",
       "4                       NaN  2018  \n",
       "...                     ...   ...  \n",
       "228768          1564.028154  2018  \n",
       "228769          8483.933500  2018  \n",
       "228770          2157.617000  2018  \n",
       "228771         17442.817000  2018  \n",
       "228772          1456.290333  2018  \n",
       "\n",
       "[228773 rows x 14 columns]"
      ]
     },
     "execution_count": 16,
     "metadata": {},
     "output_type": "execute_result"
    }
   ],
   "source": [
    "# inspect your dataframe by just calling its variable name in the notebook\n",
    "df"
   ]
  },
  {
   "cell_type": "code",
   "execution_count": 17,
   "metadata": {},
   "outputs": [
    {
     "data": {
      "text/plain": [
       "(228773, 14)"
      ]
     },
     "execution_count": 17,
     "metadata": {},
     "output_type": "execute_result"
    }
   ],
   "source": [
    "# a dataset of this size would already be pushing it in Excel!\n",
    "df.shape"
   ]
  },
  {
   "cell_type": "code",
   "execution_count": 18,
   "metadata": {},
   "outputs": [],
   "source": [
    "# a DataFrame is composed of columns and rows, and a special 3rd thing - an index"
   ]
  },
  {
   "cell_type": "code",
   "execution_count": 19,
   "metadata": {},
   "outputs": [
    {
     "data": {
      "text/plain": [
       "Index(['frequency', 'period_ending', 'ship_type', 'ship_size', 'port_name',\n",
       "       'port_country', 'region_corridor', 'metric', 'draft', 'ship_count',\n",
       "       'dwt', 'modified_dwt', 'avg_time_spent_mins', 'year'],\n",
       "      dtype='object')"
      ]
     },
     "execution_count": 19,
     "metadata": {},
     "output_type": "execute_result"
    }
   ],
   "source": [
    "df.columns"
   ]
  },
  {
   "cell_type": "code",
   "execution_count": 20,
   "metadata": {},
   "outputs": [
    {
     "data": {
      "text/plain": [
       "RangeIndex(start=0, stop=228773, step=1)"
      ]
     },
     "execution_count": 20,
     "metadata": {},
     "output_type": "execute_result"
    }
   ],
   "source": [
    "df.index"
   ]
  },
  {
   "cell_type": "code",
   "execution_count": 21,
   "metadata": {},
   "outputs": [
    {
     "data": {
      "text/plain": [
       "0         MEDIUM\n",
       "1          SMALL\n",
       "2         MEDIUM\n",
       "3          SMALL\n",
       "4          SMALL\n",
       "           ...  \n",
       "228768     SMALL\n",
       "228769    MEDIUM\n",
       "228770     SMALL\n",
       "228771     SMALL\n",
       "228772     SMALL\n",
       "Name: ship_size, Length: 228773, dtype: object"
      ]
     },
     "execution_count": 21,
     "metadata": {},
     "output_type": "execute_result"
    }
   ],
   "source": [
    "# we select a column by using its name in square brackets:\n",
    "df['ship_size']"
   ]
  },
  {
   "cell_type": "code",
   "execution_count": 22,
   "metadata": {},
   "outputs": [
    {
     "data": {
      "text/plain": [
       "frequency                   MONTHLY\n",
       "period_ending            2018-01-31\n",
       "ship_type                    BULKER\n",
       "ship_size                    MEDIUM\n",
       "port_name                    Durban\n",
       "port_country           South Africa\n",
       "region_corridor              Africa\n",
       "metric                      Entries\n",
       "draft                         EMPTY\n",
       "ship_count                       25\n",
       "dwt                         1518305\n",
       "modified_dwt                      0\n",
       "avg_time_spent_mins             NaN\n",
       "year                           2018\n",
       "Name: 0, dtype: object"
      ]
     },
     "execution_count": 22,
     "metadata": {},
     "output_type": "execute_result"
    }
   ],
   "source": [
    "# we can select rows by their index position or the \n",
    "# value of the index - these aren't the same thing!\n",
    "df.iloc[0]"
   ]
  },
  {
   "cell_type": "code",
   "execution_count": 23,
   "metadata": {},
   "outputs": [
    {
     "data": {
      "text/plain": [
       "frequency                   MONTHLY\n",
       "period_ending            2018-01-31\n",
       "ship_type                    BULKER\n",
       "ship_size                    MEDIUM\n",
       "port_name                    Durban\n",
       "port_country           South Africa\n",
       "region_corridor              Africa\n",
       "metric                      Entries\n",
       "draft                         EMPTY\n",
       "ship_count                       25\n",
       "dwt                         1518305\n",
       "modified_dwt                      0\n",
       "avg_time_spent_mins             NaN\n",
       "year                           2018\n",
       "Name: 0, dtype: object"
      ]
     },
     "execution_count": 23,
     "metadata": {},
     "output_type": "execute_result"
    }
   ],
   "source": [
    "# we can select rows by their index position or the value of the index - these aren't always the same thing!\n",
    "df.loc[0]"
   ]
  },
  {
   "cell_type": "code",
   "execution_count": 24,
   "metadata": {},
   "outputs": [
    {
     "data": {
      "text/html": [
       "<div>\n",
       "<style scoped>\n",
       "    .dataframe tbody tr th:only-of-type {\n",
       "        vertical-align: middle;\n",
       "    }\n",
       "\n",
       "    .dataframe tbody tr th {\n",
       "        vertical-align: top;\n",
       "    }\n",
       "\n",
       "    .dataframe thead th {\n",
       "        text-align: right;\n",
       "    }\n",
       "</style>\n",
       "<table border=\"1\" class=\"dataframe\">\n",
       "  <thead>\n",
       "    <tr style=\"text-align: right;\">\n",
       "      <th></th>\n",
       "      <th>frequency</th>\n",
       "      <th>period_ending</th>\n",
       "      <th>ship_type</th>\n",
       "      <th>port_name</th>\n",
       "      <th>port_country</th>\n",
       "      <th>region_corridor</th>\n",
       "      <th>metric</th>\n",
       "      <th>draft</th>\n",
       "      <th>ship_count</th>\n",
       "      <th>dwt</th>\n",
       "      <th>modified_dwt</th>\n",
       "      <th>avg_time_spent_mins</th>\n",
       "      <th>year</th>\n",
       "    </tr>\n",
       "    <tr>\n",
       "      <th>ship_size</th>\n",
       "      <th></th>\n",
       "      <th></th>\n",
       "      <th></th>\n",
       "      <th></th>\n",
       "      <th></th>\n",
       "      <th></th>\n",
       "      <th></th>\n",
       "      <th></th>\n",
       "      <th></th>\n",
       "      <th></th>\n",
       "      <th></th>\n",
       "      <th></th>\n",
       "      <th></th>\n",
       "    </tr>\n",
       "  </thead>\n",
       "  <tbody>\n",
       "    <tr>\n",
       "      <th>MEDIUM</th>\n",
       "      <td>MONTHLY</td>\n",
       "      <td>2018-01-31</td>\n",
       "      <td>BULKER</td>\n",
       "      <td>Durban</td>\n",
       "      <td>South Africa</td>\n",
       "      <td>Africa</td>\n",
       "      <td>Entries</td>\n",
       "      <td>EMPTY</td>\n",
       "      <td>25</td>\n",
       "      <td>1518305</td>\n",
       "      <td>0</td>\n",
       "      <td>NaN</td>\n",
       "      <td>2018</td>\n",
       "    </tr>\n",
       "    <tr>\n",
       "      <th>SMALL</th>\n",
       "      <td>MONTHLY</td>\n",
       "      <td>2018-01-31</td>\n",
       "      <td>BULKER</td>\n",
       "      <td>Abidjan</td>\n",
       "      <td>Cote D'ivoire</td>\n",
       "      <td>Africa</td>\n",
       "      <td>Entries</td>\n",
       "      <td>EMPTY</td>\n",
       "      <td>4</td>\n",
       "      <td>123016</td>\n",
       "      <td>0</td>\n",
       "      <td>NaN</td>\n",
       "      <td>2018</td>\n",
       "    </tr>\n",
       "    <tr>\n",
       "      <th>MEDIUM</th>\n",
       "      <td>MONTHLY</td>\n",
       "      <td>2018-01-31</td>\n",
       "      <td>BULKER</td>\n",
       "      <td>Arzew El-Djedid</td>\n",
       "      <td>Algeria</td>\n",
       "      <td>Africa</td>\n",
       "      <td>Entries</td>\n",
       "      <td>EMPTY</td>\n",
       "      <td>3</td>\n",
       "      <td>166488</td>\n",
       "      <td>0</td>\n",
       "      <td>NaN</td>\n",
       "      <td>2018</td>\n",
       "    </tr>\n",
       "    <tr>\n",
       "      <th>SMALL</th>\n",
       "      <td>MONTHLY</td>\n",
       "      <td>2018-01-31</td>\n",
       "      <td>BULKER</td>\n",
       "      <td>Moma</td>\n",
       "      <td>Mozambique</td>\n",
       "      <td>Africa</td>\n",
       "      <td>Entries</td>\n",
       "      <td>EMPTY</td>\n",
       "      <td>1</td>\n",
       "      <td>28392</td>\n",
       "      <td>0</td>\n",
       "      <td>NaN</td>\n",
       "      <td>2018</td>\n",
       "    </tr>\n",
       "    <tr>\n",
       "      <th>SMALL</th>\n",
       "      <td>MONTHLY</td>\n",
       "      <td>2018-01-31</td>\n",
       "      <td>BULKER</td>\n",
       "      <td>Lagos (Nigeria)</td>\n",
       "      <td>Nigeria</td>\n",
       "      <td>Africa</td>\n",
       "      <td>Entries</td>\n",
       "      <td>EMPTY</td>\n",
       "      <td>3</td>\n",
       "      <td>107440</td>\n",
       "      <td>0</td>\n",
       "      <td>NaN</td>\n",
       "      <td>2018</td>\n",
       "    </tr>\n",
       "    <tr>\n",
       "      <th>...</th>\n",
       "      <td>...</td>\n",
       "      <td>...</td>\n",
       "      <td>...</td>\n",
       "      <td>...</td>\n",
       "      <td>...</td>\n",
       "      <td>...</td>\n",
       "      <td>...</td>\n",
       "      <td>...</td>\n",
       "      <td>...</td>\n",
       "      <td>...</td>\n",
       "      <td>...</td>\n",
       "      <td>...</td>\n",
       "      <td>...</td>\n",
       "    </tr>\n",
       "    <tr>\n",
       "      <th>SMALL</th>\n",
       "      <td>MONTHLY</td>\n",
       "      <td>2018-12-31</td>\n",
       "      <td>TANKER</td>\n",
       "      <td>River Plate Uruguayan Lightering Areas</td>\n",
       "      <td>Uruguay</td>\n",
       "      <td>South America</td>\n",
       "      <td>Exits</td>\n",
       "      <td>PARTIAL</td>\n",
       "      <td>13</td>\n",
       "      <td>325859</td>\n",
       "      <td>32168</td>\n",
       "      <td>1564.028154</td>\n",
       "      <td>2018</td>\n",
       "    </tr>\n",
       "    <tr>\n",
       "      <th>MEDIUM</th>\n",
       "      <td>MONTHLY</td>\n",
       "      <td>2018-12-31</td>\n",
       "      <td>TANKER</td>\n",
       "      <td>Quintero</td>\n",
       "      <td>Chile</td>\n",
       "      <td>South America</td>\n",
       "      <td>Exits</td>\n",
       "      <td>PARTIAL</td>\n",
       "      <td>2</td>\n",
       "      <td>105818</td>\n",
       "      <td>8849</td>\n",
       "      <td>8483.933500</td>\n",
       "      <td>2018</td>\n",
       "    </tr>\n",
       "    <tr>\n",
       "      <th>SMALL</th>\n",
       "      <td>MONTHLY</td>\n",
       "      <td>2018-12-31</td>\n",
       "      <td>TANKER</td>\n",
       "      <td>Rosario</td>\n",
       "      <td>Argentina</td>\n",
       "      <td>South America</td>\n",
       "      <td>Exits</td>\n",
       "      <td>PARTIAL</td>\n",
       "      <td>1</td>\n",
       "      <td>46992</td>\n",
       "      <td>8458</td>\n",
       "      <td>2157.617000</td>\n",
       "      <td>2018</td>\n",
       "    </tr>\n",
       "    <tr>\n",
       "      <th>SMALL</th>\n",
       "      <td>MONTHLY</td>\n",
       "      <td>2018-12-31</td>\n",
       "      <td>TANKER</td>\n",
       "      <td>Acu Superport</td>\n",
       "      <td>Brazil</td>\n",
       "      <td>South America</td>\n",
       "      <td>Exits</td>\n",
       "      <td>PARTIAL</td>\n",
       "      <td>1</td>\n",
       "      <td>37606</td>\n",
       "      <td>6396</td>\n",
       "      <td>17442.817000</td>\n",
       "      <td>2018</td>\n",
       "    </tr>\n",
       "    <tr>\n",
       "      <th>SMALL</th>\n",
       "      <td>MONTHLY</td>\n",
       "      <td>2018-12-31</td>\n",
       "      <td>TANKER</td>\n",
       "      <td>Mamonal</td>\n",
       "      <td>Colombia</td>\n",
       "      <td>South America</td>\n",
       "      <td>Exits</td>\n",
       "      <td>PARTIAL</td>\n",
       "      <td>12</td>\n",
       "      <td>182341</td>\n",
       "      <td>27973</td>\n",
       "      <td>1456.290333</td>\n",
       "      <td>2018</td>\n",
       "    </tr>\n",
       "  </tbody>\n",
       "</table>\n",
       "<p>228773 rows × 13 columns</p>\n",
       "</div>"
      ],
      "text/plain": [
       "          frequency period_ending ship_type  \\\n",
       "ship_size                                     \n",
       "MEDIUM      MONTHLY    2018-01-31    BULKER   \n",
       "SMALL       MONTHLY    2018-01-31    BULKER   \n",
       "MEDIUM      MONTHLY    2018-01-31    BULKER   \n",
       "SMALL       MONTHLY    2018-01-31    BULKER   \n",
       "SMALL       MONTHLY    2018-01-31    BULKER   \n",
       "...             ...           ...       ...   \n",
       "SMALL       MONTHLY    2018-12-31    TANKER   \n",
       "MEDIUM      MONTHLY    2018-12-31    TANKER   \n",
       "SMALL       MONTHLY    2018-12-31    TANKER   \n",
       "SMALL       MONTHLY    2018-12-31    TANKER   \n",
       "SMALL       MONTHLY    2018-12-31    TANKER   \n",
       "\n",
       "                                        port_name   port_country  \\\n",
       "ship_size                                                          \n",
       "MEDIUM                                     Durban   South Africa   \n",
       "SMALL                                     Abidjan  Cote D'ivoire   \n",
       "MEDIUM                            Arzew El-Djedid        Algeria   \n",
       "SMALL                                        Moma     Mozambique   \n",
       "SMALL                             Lagos (Nigeria)        Nigeria   \n",
       "...                                           ...            ...   \n",
       "SMALL      River Plate Uruguayan Lightering Areas        Uruguay   \n",
       "MEDIUM                                   Quintero          Chile   \n",
       "SMALL                                     Rosario      Argentina   \n",
       "SMALL                               Acu Superport         Brazil   \n",
       "SMALL                                     Mamonal       Colombia   \n",
       "\n",
       "          region_corridor   metric    draft  ship_count      dwt  \\\n",
       "ship_size                                                          \n",
       "MEDIUM             Africa  Entries    EMPTY          25  1518305   \n",
       "SMALL              Africa  Entries    EMPTY           4   123016   \n",
       "MEDIUM             Africa  Entries    EMPTY           3   166488   \n",
       "SMALL              Africa  Entries    EMPTY           1    28392   \n",
       "SMALL              Africa  Entries    EMPTY           3   107440   \n",
       "...                   ...      ...      ...         ...      ...   \n",
       "SMALL       South America    Exits  PARTIAL          13   325859   \n",
       "MEDIUM      South America    Exits  PARTIAL           2   105818   \n",
       "SMALL       South America    Exits  PARTIAL           1    46992   \n",
       "SMALL       South America    Exits  PARTIAL           1    37606   \n",
       "SMALL       South America    Exits  PARTIAL          12   182341   \n",
       "\n",
       "           modified_dwt  avg_time_spent_mins  year  \n",
       "ship_size                                           \n",
       "MEDIUM                0                  NaN  2018  \n",
       "SMALL                 0                  NaN  2018  \n",
       "MEDIUM                0                  NaN  2018  \n",
       "SMALL                 0                  NaN  2018  \n",
       "SMALL                 0                  NaN  2018  \n",
       "...                 ...                  ...   ...  \n",
       "SMALL             32168          1564.028154  2018  \n",
       "MEDIUM             8849          8483.933500  2018  \n",
       "SMALL              8458          2157.617000  2018  \n",
       "SMALL              6396         17442.817000  2018  \n",
       "SMALL             27973          1456.290333  2018  \n",
       "\n",
       "[228773 rows x 13 columns]"
      ]
     },
     "execution_count": 24,
     "metadata": {},
     "output_type": "execute_result"
    }
   ],
   "source": [
    "# you can choose what data item(s) act as the index:\n",
    "df = df.set_index('ship_size')\n",
    "df"
   ]
  },
  {
   "cell_type": "code",
   "execution_count": 25,
   "metadata": {},
   "outputs": [
    {
     "data": {
      "text/html": [
       "<div>\n",
       "<style scoped>\n",
       "    .dataframe tbody tr th:only-of-type {\n",
       "        vertical-align: middle;\n",
       "    }\n",
       "\n",
       "    .dataframe tbody tr th {\n",
       "        vertical-align: top;\n",
       "    }\n",
       "\n",
       "    .dataframe thead th {\n",
       "        text-align: right;\n",
       "    }\n",
       "</style>\n",
       "<table border=\"1\" class=\"dataframe\">\n",
       "  <thead>\n",
       "    <tr style=\"text-align: right;\">\n",
       "      <th></th>\n",
       "      <th>frequency</th>\n",
       "      <th>period_ending</th>\n",
       "      <th>ship_type</th>\n",
       "      <th>port_name</th>\n",
       "      <th>port_country</th>\n",
       "      <th>region_corridor</th>\n",
       "      <th>metric</th>\n",
       "      <th>draft</th>\n",
       "      <th>ship_count</th>\n",
       "      <th>dwt</th>\n",
       "      <th>modified_dwt</th>\n",
       "      <th>avg_time_spent_mins</th>\n",
       "      <th>year</th>\n",
       "    </tr>\n",
       "    <tr>\n",
       "      <th>ship_size</th>\n",
       "      <th></th>\n",
       "      <th></th>\n",
       "      <th></th>\n",
       "      <th></th>\n",
       "      <th></th>\n",
       "      <th></th>\n",
       "      <th></th>\n",
       "      <th></th>\n",
       "      <th></th>\n",
       "      <th></th>\n",
       "      <th></th>\n",
       "      <th></th>\n",
       "      <th></th>\n",
       "    </tr>\n",
       "  </thead>\n",
       "  <tbody>\n",
       "    <tr>\n",
       "      <th>SMALL</th>\n",
       "      <td>MONTHLY</td>\n",
       "      <td>2018-01-31</td>\n",
       "      <td>BULKER</td>\n",
       "      <td>Abidjan</td>\n",
       "      <td>Cote D'ivoire</td>\n",
       "      <td>Africa</td>\n",
       "      <td>Entries</td>\n",
       "      <td>EMPTY</td>\n",
       "      <td>4</td>\n",
       "      <td>123016</td>\n",
       "      <td>0</td>\n",
       "      <td>NaN</td>\n",
       "      <td>2018</td>\n",
       "    </tr>\n",
       "    <tr>\n",
       "      <th>SMALL</th>\n",
       "      <td>MONTHLY</td>\n",
       "      <td>2018-01-31</td>\n",
       "      <td>BULKER</td>\n",
       "      <td>Moma</td>\n",
       "      <td>Mozambique</td>\n",
       "      <td>Africa</td>\n",
       "      <td>Entries</td>\n",
       "      <td>EMPTY</td>\n",
       "      <td>1</td>\n",
       "      <td>28392</td>\n",
       "      <td>0</td>\n",
       "      <td>NaN</td>\n",
       "      <td>2018</td>\n",
       "    </tr>\n",
       "    <tr>\n",
       "      <th>SMALL</th>\n",
       "      <td>MONTHLY</td>\n",
       "      <td>2018-01-31</td>\n",
       "      <td>BULKER</td>\n",
       "      <td>Lagos (Nigeria)</td>\n",
       "      <td>Nigeria</td>\n",
       "      <td>Africa</td>\n",
       "      <td>Entries</td>\n",
       "      <td>EMPTY</td>\n",
       "      <td>3</td>\n",
       "      <td>107440</td>\n",
       "      <td>0</td>\n",
       "      <td>NaN</td>\n",
       "      <td>2018</td>\n",
       "    </tr>\n",
       "    <tr>\n",
       "      <th>SMALL</th>\n",
       "      <td>MONTHLY</td>\n",
       "      <td>2018-01-31</td>\n",
       "      <td>BULKER</td>\n",
       "      <td>Damietta</td>\n",
       "      <td>Egypt</td>\n",
       "      <td>Africa</td>\n",
       "      <td>Entries</td>\n",
       "      <td>EMPTY</td>\n",
       "      <td>2</td>\n",
       "      <td>57098</td>\n",
       "      <td>0</td>\n",
       "      <td>NaN</td>\n",
       "      <td>2018</td>\n",
       "    </tr>\n",
       "    <tr>\n",
       "      <th>SMALL</th>\n",
       "      <td>MONTHLY</td>\n",
       "      <td>2018-01-31</td>\n",
       "      <td>BULKER</td>\n",
       "      <td>Port Said</td>\n",
       "      <td>Egypt</td>\n",
       "      <td>Africa</td>\n",
       "      <td>Entries</td>\n",
       "      <td>EMPTY</td>\n",
       "      <td>1</td>\n",
       "      <td>24176</td>\n",
       "      <td>0</td>\n",
       "      <td>NaN</td>\n",
       "      <td>2018</td>\n",
       "    </tr>\n",
       "    <tr>\n",
       "      <th>...</th>\n",
       "      <td>...</td>\n",
       "      <td>...</td>\n",
       "      <td>...</td>\n",
       "      <td>...</td>\n",
       "      <td>...</td>\n",
       "      <td>...</td>\n",
       "      <td>...</td>\n",
       "      <td>...</td>\n",
       "      <td>...</td>\n",
       "      <td>...</td>\n",
       "      <td>...</td>\n",
       "      <td>...</td>\n",
       "      <td>...</td>\n",
       "    </tr>\n",
       "    <tr>\n",
       "      <th>SMALL</th>\n",
       "      <td>MONTHLY</td>\n",
       "      <td>2018-12-31</td>\n",
       "      <td>TANKER</td>\n",
       "      <td>Conchan</td>\n",
       "      <td>Peru</td>\n",
       "      <td>South America</td>\n",
       "      <td>Exits</td>\n",
       "      <td>PARTIAL</td>\n",
       "      <td>3</td>\n",
       "      <td>127886</td>\n",
       "      <td>19700</td>\n",
       "      <td>2373.405667</td>\n",
       "      <td>2018</td>\n",
       "    </tr>\n",
       "    <tr>\n",
       "      <th>SMALL</th>\n",
       "      <td>MONTHLY</td>\n",
       "      <td>2018-12-31</td>\n",
       "      <td>TANKER</td>\n",
       "      <td>River Plate Uruguayan Lightering Areas</td>\n",
       "      <td>Uruguay</td>\n",
       "      <td>South America</td>\n",
       "      <td>Exits</td>\n",
       "      <td>PARTIAL</td>\n",
       "      <td>13</td>\n",
       "      <td>325859</td>\n",
       "      <td>32168</td>\n",
       "      <td>1564.028154</td>\n",
       "      <td>2018</td>\n",
       "    </tr>\n",
       "    <tr>\n",
       "      <th>SMALL</th>\n",
       "      <td>MONTHLY</td>\n",
       "      <td>2018-12-31</td>\n",
       "      <td>TANKER</td>\n",
       "      <td>Rosario</td>\n",
       "      <td>Argentina</td>\n",
       "      <td>South America</td>\n",
       "      <td>Exits</td>\n",
       "      <td>PARTIAL</td>\n",
       "      <td>1</td>\n",
       "      <td>46992</td>\n",
       "      <td>8458</td>\n",
       "      <td>2157.617000</td>\n",
       "      <td>2018</td>\n",
       "    </tr>\n",
       "    <tr>\n",
       "      <th>SMALL</th>\n",
       "      <td>MONTHLY</td>\n",
       "      <td>2018-12-31</td>\n",
       "      <td>TANKER</td>\n",
       "      <td>Acu Superport</td>\n",
       "      <td>Brazil</td>\n",
       "      <td>South America</td>\n",
       "      <td>Exits</td>\n",
       "      <td>PARTIAL</td>\n",
       "      <td>1</td>\n",
       "      <td>37606</td>\n",
       "      <td>6396</td>\n",
       "      <td>17442.817000</td>\n",
       "      <td>2018</td>\n",
       "    </tr>\n",
       "    <tr>\n",
       "      <th>SMALL</th>\n",
       "      <td>MONTHLY</td>\n",
       "      <td>2018-12-31</td>\n",
       "      <td>TANKER</td>\n",
       "      <td>Mamonal</td>\n",
       "      <td>Colombia</td>\n",
       "      <td>South America</td>\n",
       "      <td>Exits</td>\n",
       "      <td>PARTIAL</td>\n",
       "      <td>12</td>\n",
       "      <td>182341</td>\n",
       "      <td>27973</td>\n",
       "      <td>1456.290333</td>\n",
       "      <td>2018</td>\n",
       "    </tr>\n",
       "  </tbody>\n",
       "</table>\n",
       "<p>131592 rows × 13 columns</p>\n",
       "</div>"
      ],
      "text/plain": [
       "          frequency period_ending ship_type  \\\n",
       "ship_size                                     \n",
       "SMALL       MONTHLY    2018-01-31    BULKER   \n",
       "SMALL       MONTHLY    2018-01-31    BULKER   \n",
       "SMALL       MONTHLY    2018-01-31    BULKER   \n",
       "SMALL       MONTHLY    2018-01-31    BULKER   \n",
       "SMALL       MONTHLY    2018-01-31    BULKER   \n",
       "...             ...           ...       ...   \n",
       "SMALL       MONTHLY    2018-12-31    TANKER   \n",
       "SMALL       MONTHLY    2018-12-31    TANKER   \n",
       "SMALL       MONTHLY    2018-12-31    TANKER   \n",
       "SMALL       MONTHLY    2018-12-31    TANKER   \n",
       "SMALL       MONTHLY    2018-12-31    TANKER   \n",
       "\n",
       "                                        port_name   port_country  \\\n",
       "ship_size                                                          \n",
       "SMALL                                     Abidjan  Cote D'ivoire   \n",
       "SMALL                                        Moma     Mozambique   \n",
       "SMALL                             Lagos (Nigeria)        Nigeria   \n",
       "SMALL                                    Damietta          Egypt   \n",
       "SMALL                                   Port Said          Egypt   \n",
       "...                                           ...            ...   \n",
       "SMALL                                     Conchan           Peru   \n",
       "SMALL      River Plate Uruguayan Lightering Areas        Uruguay   \n",
       "SMALL                                     Rosario      Argentina   \n",
       "SMALL                               Acu Superport         Brazil   \n",
       "SMALL                                     Mamonal       Colombia   \n",
       "\n",
       "          region_corridor   metric    draft  ship_count     dwt  modified_dwt  \\\n",
       "ship_size                                                                       \n",
       "SMALL              Africa  Entries    EMPTY           4  123016             0   \n",
       "SMALL              Africa  Entries    EMPTY           1   28392             0   \n",
       "SMALL              Africa  Entries    EMPTY           3  107440             0   \n",
       "SMALL              Africa  Entries    EMPTY           2   57098             0   \n",
       "SMALL              Africa  Entries    EMPTY           1   24176             0   \n",
       "...                   ...      ...      ...         ...     ...           ...   \n",
       "SMALL       South America    Exits  PARTIAL           3  127886         19700   \n",
       "SMALL       South America    Exits  PARTIAL          13  325859         32168   \n",
       "SMALL       South America    Exits  PARTIAL           1   46992          8458   \n",
       "SMALL       South America    Exits  PARTIAL           1   37606          6396   \n",
       "SMALL       South America    Exits  PARTIAL          12  182341         27973   \n",
       "\n",
       "           avg_time_spent_mins  year  \n",
       "ship_size                             \n",
       "SMALL                      NaN  2018  \n",
       "SMALL                      NaN  2018  \n",
       "SMALL                      NaN  2018  \n",
       "SMALL                      NaN  2018  \n",
       "SMALL                      NaN  2018  \n",
       "...                        ...   ...  \n",
       "SMALL              2373.405667  2018  \n",
       "SMALL              1564.028154  2018  \n",
       "SMALL              2157.617000  2018  \n",
       "SMALL             17442.817000  2018  \n",
       "SMALL              1456.290333  2018  \n",
       "\n",
       "[131592 rows x 13 columns]"
      ]
     },
     "execution_count": 25,
     "metadata": {},
     "output_type": "execute_result"
    }
   ],
   "source": [
    "# let's try .loc again:\n",
    "df.loc['SMALL']"
   ]
  },
  {
   "cell_type": "code",
   "execution_count": 26,
   "metadata": {},
   "outputs": [
    {
     "data": {
      "text/plain": [
       "ship_size\n",
       "SMALL    BULKER\n",
       "SMALL    BULKER\n",
       "SMALL    BULKER\n",
       "SMALL    BULKER\n",
       "SMALL    BULKER\n",
       "          ...  \n",
       "SMALL    TANKER\n",
       "SMALL    TANKER\n",
       "SMALL    TANKER\n",
       "SMALL    TANKER\n",
       "SMALL    TANKER\n",
       "Name: ship_type, Length: 131592, dtype: object"
      ]
     },
     "execution_count": 26,
     "metadata": {},
     "output_type": "execute_result"
    }
   ],
   "source": [
    "# first argument of loc is the index, second can be the columns:\n",
    "df.loc['SMALL','ship_type']"
   ]
  },
  {
   "cell_type": "code",
   "execution_count": 27,
   "metadata": {},
   "outputs": [
    {
     "data": {
      "text/html": [
       "<div>\n",
       "<style scoped>\n",
       "    .dataframe tbody tr th:only-of-type {\n",
       "        vertical-align: middle;\n",
       "    }\n",
       "\n",
       "    .dataframe tbody tr th {\n",
       "        vertical-align: top;\n",
       "    }\n",
       "\n",
       "    .dataframe thead th {\n",
       "        text-align: right;\n",
       "    }\n",
       "</style>\n",
       "<table border=\"1\" class=\"dataframe\">\n",
       "  <thead>\n",
       "    <tr style=\"text-align: right;\">\n",
       "      <th></th>\n",
       "      <th>frequency</th>\n",
       "      <th>period_ending</th>\n",
       "      <th>ship_type</th>\n",
       "    </tr>\n",
       "    <tr>\n",
       "      <th>ship_size</th>\n",
       "      <th></th>\n",
       "      <th></th>\n",
       "      <th></th>\n",
       "    </tr>\n",
       "  </thead>\n",
       "  <tbody>\n",
       "    <tr>\n",
       "      <th>MEDIUM</th>\n",
       "      <td>MONTHLY</td>\n",
       "      <td>2018-01-31</td>\n",
       "      <td>BULKER</td>\n",
       "    </tr>\n",
       "    <tr>\n",
       "      <th>SMALL</th>\n",
       "      <td>MONTHLY</td>\n",
       "      <td>2018-01-31</td>\n",
       "      <td>BULKER</td>\n",
       "    </tr>\n",
       "    <tr>\n",
       "      <th>MEDIUM</th>\n",
       "      <td>MONTHLY</td>\n",
       "      <td>2018-01-31</td>\n",
       "      <td>BULKER</td>\n",
       "    </tr>\n",
       "    <tr>\n",
       "      <th>SMALL</th>\n",
       "      <td>MONTHLY</td>\n",
       "      <td>2018-01-31</td>\n",
       "      <td>BULKER</td>\n",
       "    </tr>\n",
       "    <tr>\n",
       "      <th>SMALL</th>\n",
       "      <td>MONTHLY</td>\n",
       "      <td>2018-01-31</td>\n",
       "      <td>BULKER</td>\n",
       "    </tr>\n",
       "    <tr>\n",
       "      <th>...</th>\n",
       "      <td>...</td>\n",
       "      <td>...</td>\n",
       "      <td>...</td>\n",
       "    </tr>\n",
       "    <tr>\n",
       "      <th>SMALL</th>\n",
       "      <td>MONTHLY</td>\n",
       "      <td>2018-12-31</td>\n",
       "      <td>TANKER</td>\n",
       "    </tr>\n",
       "    <tr>\n",
       "      <th>MEDIUM</th>\n",
       "      <td>MONTHLY</td>\n",
       "      <td>2018-12-31</td>\n",
       "      <td>TANKER</td>\n",
       "    </tr>\n",
       "    <tr>\n",
       "      <th>SMALL</th>\n",
       "      <td>MONTHLY</td>\n",
       "      <td>2018-12-31</td>\n",
       "      <td>TANKER</td>\n",
       "    </tr>\n",
       "    <tr>\n",
       "      <th>SMALL</th>\n",
       "      <td>MONTHLY</td>\n",
       "      <td>2018-12-31</td>\n",
       "      <td>TANKER</td>\n",
       "    </tr>\n",
       "    <tr>\n",
       "      <th>SMALL</th>\n",
       "      <td>MONTHLY</td>\n",
       "      <td>2018-12-31</td>\n",
       "      <td>TANKER</td>\n",
       "    </tr>\n",
       "  </tbody>\n",
       "</table>\n",
       "<p>228773 rows × 3 columns</p>\n",
       "</div>"
      ],
      "text/plain": [
       "          frequency period_ending ship_type\n",
       "ship_size                                  \n",
       "MEDIUM      MONTHLY    2018-01-31    BULKER\n",
       "SMALL       MONTHLY    2018-01-31    BULKER\n",
       "MEDIUM      MONTHLY    2018-01-31    BULKER\n",
       "SMALL       MONTHLY    2018-01-31    BULKER\n",
       "SMALL       MONTHLY    2018-01-31    BULKER\n",
       "...             ...           ...       ...\n",
       "SMALL       MONTHLY    2018-12-31    TANKER\n",
       "MEDIUM      MONTHLY    2018-12-31    TANKER\n",
       "SMALL       MONTHLY    2018-12-31    TANKER\n",
       "SMALL       MONTHLY    2018-12-31    TANKER\n",
       "SMALL       MONTHLY    2018-12-31    TANKER\n",
       "\n",
       "[228773 rows x 3 columns]"
      ]
     },
     "execution_count": 27,
     "metadata": {},
     "output_type": "execute_result"
    }
   ],
   "source": [
    "# you can select multiple columns at once:\n",
    "df.loc[:,['frequency','period_ending','ship_type']]"
   ]
  },
  {
   "cell_type": "code",
   "execution_count": 28,
   "metadata": {},
   "outputs": [
    {
     "data": {
      "text/html": [
       "<div>\n",
       "<style scoped>\n",
       "    .dataframe tbody tr th:only-of-type {\n",
       "        vertical-align: middle;\n",
       "    }\n",
       "\n",
       "    .dataframe tbody tr th {\n",
       "        vertical-align: top;\n",
       "    }\n",
       "\n",
       "    .dataframe thead th {\n",
       "        text-align: right;\n",
       "    }\n",
       "</style>\n",
       "<table border=\"1\" class=\"dataframe\">\n",
       "  <thead>\n",
       "    <tr style=\"text-align: right;\">\n",
       "      <th></th>\n",
       "      <th>frequency</th>\n",
       "      <th>period_ending</th>\n",
       "      <th>ship_type</th>\n",
       "    </tr>\n",
       "    <tr>\n",
       "      <th>ship_size</th>\n",
       "      <th></th>\n",
       "      <th></th>\n",
       "      <th></th>\n",
       "    </tr>\n",
       "  </thead>\n",
       "  <tbody>\n",
       "    <tr>\n",
       "      <th>MEDIUM</th>\n",
       "      <td>MONTHLY</td>\n",
       "      <td>2018-01-31</td>\n",
       "      <td>BULKER</td>\n",
       "    </tr>\n",
       "    <tr>\n",
       "      <th>SMALL</th>\n",
       "      <td>MONTHLY</td>\n",
       "      <td>2018-01-31</td>\n",
       "      <td>BULKER</td>\n",
       "    </tr>\n",
       "    <tr>\n",
       "      <th>MEDIUM</th>\n",
       "      <td>MONTHLY</td>\n",
       "      <td>2018-01-31</td>\n",
       "      <td>BULKER</td>\n",
       "    </tr>\n",
       "    <tr>\n",
       "      <th>SMALL</th>\n",
       "      <td>MONTHLY</td>\n",
       "      <td>2018-01-31</td>\n",
       "      <td>BULKER</td>\n",
       "    </tr>\n",
       "    <tr>\n",
       "      <th>SMALL</th>\n",
       "      <td>MONTHLY</td>\n",
       "      <td>2018-01-31</td>\n",
       "      <td>BULKER</td>\n",
       "    </tr>\n",
       "    <tr>\n",
       "      <th>...</th>\n",
       "      <td>...</td>\n",
       "      <td>...</td>\n",
       "      <td>...</td>\n",
       "    </tr>\n",
       "    <tr>\n",
       "      <th>SMALL</th>\n",
       "      <td>MONTHLY</td>\n",
       "      <td>2018-12-31</td>\n",
       "      <td>TANKER</td>\n",
       "    </tr>\n",
       "    <tr>\n",
       "      <th>MEDIUM</th>\n",
       "      <td>MONTHLY</td>\n",
       "      <td>2018-12-31</td>\n",
       "      <td>TANKER</td>\n",
       "    </tr>\n",
       "    <tr>\n",
       "      <th>SMALL</th>\n",
       "      <td>MONTHLY</td>\n",
       "      <td>2018-12-31</td>\n",
       "      <td>TANKER</td>\n",
       "    </tr>\n",
       "    <tr>\n",
       "      <th>SMALL</th>\n",
       "      <td>MONTHLY</td>\n",
       "      <td>2018-12-31</td>\n",
       "      <td>TANKER</td>\n",
       "    </tr>\n",
       "    <tr>\n",
       "      <th>SMALL</th>\n",
       "      <td>MONTHLY</td>\n",
       "      <td>2018-12-31</td>\n",
       "      <td>TANKER</td>\n",
       "    </tr>\n",
       "  </tbody>\n",
       "</table>\n",
       "<p>228773 rows × 3 columns</p>\n",
       "</div>"
      ],
      "text/plain": [
       "          frequency period_ending ship_type\n",
       "ship_size                                  \n",
       "MEDIUM      MONTHLY    2018-01-31    BULKER\n",
       "SMALL       MONTHLY    2018-01-31    BULKER\n",
       "MEDIUM      MONTHLY    2018-01-31    BULKER\n",
       "SMALL       MONTHLY    2018-01-31    BULKER\n",
       "SMALL       MONTHLY    2018-01-31    BULKER\n",
       "...             ...           ...       ...\n",
       "SMALL       MONTHLY    2018-12-31    TANKER\n",
       "MEDIUM      MONTHLY    2018-12-31    TANKER\n",
       "SMALL       MONTHLY    2018-12-31    TANKER\n",
       "SMALL       MONTHLY    2018-12-31    TANKER\n",
       "SMALL       MONTHLY    2018-12-31    TANKER\n",
       "\n",
       "[228773 rows x 3 columns]"
      ]
     },
     "execution_count": 28,
     "metadata": {},
     "output_type": "execute_result"
    }
   ],
   "source": [
    "# ...which is the same as (the : at the front can be ignored - means 'all rows')\n",
    "df[['frequency','period_ending','ship_type']]"
   ]
  },
  {
   "cell_type": "code",
   "execution_count": 29,
   "metadata": {
    "scrolled": true
   },
   "outputs": [
    {
     "data": {
      "text/html": [
       "<div>\n",
       "<style scoped>\n",
       "    .dataframe tbody tr th:only-of-type {\n",
       "        vertical-align: middle;\n",
       "    }\n",
       "\n",
       "    .dataframe tbody tr th {\n",
       "        vertical-align: top;\n",
       "    }\n",
       "\n",
       "    .dataframe thead th {\n",
       "        text-align: right;\n",
       "    }\n",
       "</style>\n",
       "<table border=\"1\" class=\"dataframe\">\n",
       "  <thead>\n",
       "    <tr style=\"text-align: right;\">\n",
       "      <th></th>\n",
       "      <th>frequency</th>\n",
       "      <th>period_ending</th>\n",
       "      <th>ship_type</th>\n",
       "    </tr>\n",
       "    <tr>\n",
       "      <th>ship_size</th>\n",
       "      <th></th>\n",
       "      <th></th>\n",
       "      <th></th>\n",
       "    </tr>\n",
       "  </thead>\n",
       "  <tbody>\n",
       "    <tr>\n",
       "      <th>SMALL</th>\n",
       "      <td>MONTHLY</td>\n",
       "      <td>2018-01-31</td>\n",
       "      <td>BULKER</td>\n",
       "    </tr>\n",
       "    <tr>\n",
       "      <th>SMALL</th>\n",
       "      <td>MONTHLY</td>\n",
       "      <td>2018-01-31</td>\n",
       "      <td>BULKER</td>\n",
       "    </tr>\n",
       "    <tr>\n",
       "      <th>SMALL</th>\n",
       "      <td>MONTHLY</td>\n",
       "      <td>2018-01-31</td>\n",
       "      <td>BULKER</td>\n",
       "    </tr>\n",
       "    <tr>\n",
       "      <th>SMALL</th>\n",
       "      <td>MONTHLY</td>\n",
       "      <td>2018-01-31</td>\n",
       "      <td>BULKER</td>\n",
       "    </tr>\n",
       "    <tr>\n",
       "      <th>SMALL</th>\n",
       "      <td>MONTHLY</td>\n",
       "      <td>2018-01-31</td>\n",
       "      <td>BULKER</td>\n",
       "    </tr>\n",
       "    <tr>\n",
       "      <th>...</th>\n",
       "      <td>...</td>\n",
       "      <td>...</td>\n",
       "      <td>...</td>\n",
       "    </tr>\n",
       "    <tr>\n",
       "      <th>SMALL</th>\n",
       "      <td>MONTHLY</td>\n",
       "      <td>2018-12-31</td>\n",
       "      <td>TANKER</td>\n",
       "    </tr>\n",
       "    <tr>\n",
       "      <th>SMALL</th>\n",
       "      <td>MONTHLY</td>\n",
       "      <td>2018-12-31</td>\n",
       "      <td>TANKER</td>\n",
       "    </tr>\n",
       "    <tr>\n",
       "      <th>SMALL</th>\n",
       "      <td>MONTHLY</td>\n",
       "      <td>2018-12-31</td>\n",
       "      <td>TANKER</td>\n",
       "    </tr>\n",
       "    <tr>\n",
       "      <th>SMALL</th>\n",
       "      <td>MONTHLY</td>\n",
       "      <td>2018-12-31</td>\n",
       "      <td>TANKER</td>\n",
       "    </tr>\n",
       "    <tr>\n",
       "      <th>SMALL</th>\n",
       "      <td>MONTHLY</td>\n",
       "      <td>2018-12-31</td>\n",
       "      <td>TANKER</td>\n",
       "    </tr>\n",
       "  </tbody>\n",
       "</table>\n",
       "<p>131592 rows × 3 columns</p>\n",
       "</div>"
      ],
      "text/plain": [
       "          frequency period_ending ship_type\n",
       "ship_size                                  \n",
       "SMALL       MONTHLY    2018-01-31    BULKER\n",
       "SMALL       MONTHLY    2018-01-31    BULKER\n",
       "SMALL       MONTHLY    2018-01-31    BULKER\n",
       "SMALL       MONTHLY    2018-01-31    BULKER\n",
       "SMALL       MONTHLY    2018-01-31    BULKER\n",
       "...             ...           ...       ...\n",
       "SMALL       MONTHLY    2018-12-31    TANKER\n",
       "SMALL       MONTHLY    2018-12-31    TANKER\n",
       "SMALL       MONTHLY    2018-12-31    TANKER\n",
       "SMALL       MONTHLY    2018-12-31    TANKER\n",
       "SMALL       MONTHLY    2018-12-31    TANKER\n",
       "\n",
       "[131592 rows x 3 columns]"
      ]
     },
     "execution_count": 29,
     "metadata": {},
     "output_type": "execute_result"
    }
   ],
   "source": [
    "# ...also handy if you want to filter the index\n",
    "df.loc['SMALL', ['frequency','period_ending','ship_type']]"
   ]
  },
  {
   "cell_type": "code",
   "execution_count": 30,
   "metadata": {
    "scrolled": false
   },
   "outputs": [
    {
     "data": {
      "text/html": [
       "<div>\n",
       "<style scoped>\n",
       "    .dataframe tbody tr th:only-of-type {\n",
       "        vertical-align: middle;\n",
       "    }\n",
       "\n",
       "    .dataframe tbody tr th {\n",
       "        vertical-align: top;\n",
       "    }\n",
       "\n",
       "    .dataframe thead th {\n",
       "        text-align: right;\n",
       "    }\n",
       "</style>\n",
       "<table border=\"1\" class=\"dataframe\">\n",
       "  <thead>\n",
       "    <tr style=\"text-align: right;\">\n",
       "      <th></th>\n",
       "      <th>frequency</th>\n",
       "      <th>period_ending</th>\n",
       "      <th>ship_type</th>\n",
       "    </tr>\n",
       "    <tr>\n",
       "      <th>ship_size</th>\n",
       "      <th></th>\n",
       "      <th></th>\n",
       "      <th></th>\n",
       "    </tr>\n",
       "  </thead>\n",
       "  <tbody>\n",
       "    <tr>\n",
       "      <th>SMALL</th>\n",
       "      <td>MONTHLY</td>\n",
       "      <td>2018-01-31</td>\n",
       "      <td>BULKER</td>\n",
       "    </tr>\n",
       "    <tr>\n",
       "      <th>MEDIUM</th>\n",
       "      <td>MONTHLY</td>\n",
       "      <td>2018-01-31</td>\n",
       "      <td>BULKER</td>\n",
       "    </tr>\n",
       "    <tr>\n",
       "      <th>MEDIUM</th>\n",
       "      <td>MONTHLY</td>\n",
       "      <td>2018-01-31</td>\n",
       "      <td>BULKER</td>\n",
       "    </tr>\n",
       "    <tr>\n",
       "      <th>LARGE</th>\n",
       "      <td>MONTHLY</td>\n",
       "      <td>2018-01-31</td>\n",
       "      <td>BULKER</td>\n",
       "    </tr>\n",
       "    <tr>\n",
       "      <th>MEDIUM</th>\n",
       "      <td>MONTHLY</td>\n",
       "      <td>2018-01-31</td>\n",
       "      <td>BULKER</td>\n",
       "    </tr>\n",
       "    <tr>\n",
       "      <th>MEDIUM</th>\n",
       "      <td>MONTHLY</td>\n",
       "      <td>2018-01-31</td>\n",
       "      <td>BULKER</td>\n",
       "    </tr>\n",
       "  </tbody>\n",
       "</table>\n",
       "</div>"
      ],
      "text/plain": [
       "          frequency period_ending ship_type\n",
       "ship_size                                  \n",
       "SMALL       MONTHLY    2018-01-31    BULKER\n",
       "MEDIUM      MONTHLY    2018-01-31    BULKER\n",
       "MEDIUM      MONTHLY    2018-01-31    BULKER\n",
       "LARGE       MONTHLY    2018-01-31    BULKER\n",
       "MEDIUM      MONTHLY    2018-01-31    BULKER\n",
       "MEDIUM      MONTHLY    2018-01-31    BULKER"
      ]
     },
     "execution_count": 30,
     "metadata": {},
     "output_type": "execute_result"
    }
   ],
   "source": [
    "# if you want a certain number of rows, you can index a dataframe like a list:\n",
    "df[['frequency','period_ending','ship_type']][4:10]"
   ]
  },
  {
   "cell_type": "code",
   "execution_count": 31,
   "metadata": {
    "scrolled": true
   },
   "outputs": [
    {
     "data": {
      "text/html": [
       "<div>\n",
       "<style scoped>\n",
       "    .dataframe tbody tr th:only-of-type {\n",
       "        vertical-align: middle;\n",
       "    }\n",
       "\n",
       "    .dataframe tbody tr th {\n",
       "        vertical-align: top;\n",
       "    }\n",
       "\n",
       "    .dataframe thead th {\n",
       "        text-align: right;\n",
       "    }\n",
       "</style>\n",
       "<table border=\"1\" class=\"dataframe\">\n",
       "  <thead>\n",
       "    <tr style=\"text-align: right;\">\n",
       "      <th></th>\n",
       "      <th>frequency</th>\n",
       "      <th>period_ending</th>\n",
       "      <th>ship_type</th>\n",
       "      <th>port_name</th>\n",
       "      <th>port_country</th>\n",
       "      <th>region_corridor</th>\n",
       "      <th>metric</th>\n",
       "      <th>draft</th>\n",
       "      <th>ship_count</th>\n",
       "      <th>dwt</th>\n",
       "      <th>modified_dwt</th>\n",
       "      <th>avg_time_spent_mins</th>\n",
       "      <th>year</th>\n",
       "      <th>average_dwt</th>\n",
       "    </tr>\n",
       "    <tr>\n",
       "      <th>ship_size</th>\n",
       "      <th></th>\n",
       "      <th></th>\n",
       "      <th></th>\n",
       "      <th></th>\n",
       "      <th></th>\n",
       "      <th></th>\n",
       "      <th></th>\n",
       "      <th></th>\n",
       "      <th></th>\n",
       "      <th></th>\n",
       "      <th></th>\n",
       "      <th></th>\n",
       "      <th></th>\n",
       "      <th></th>\n",
       "    </tr>\n",
       "  </thead>\n",
       "  <tbody>\n",
       "    <tr>\n",
       "      <th>MEDIUM</th>\n",
       "      <td>MONTHLY</td>\n",
       "      <td>2018-01-31</td>\n",
       "      <td>BULKER</td>\n",
       "      <td>Durban</td>\n",
       "      <td>South Africa</td>\n",
       "      <td>Africa</td>\n",
       "      <td>Entries</td>\n",
       "      <td>EMPTY</td>\n",
       "      <td>25</td>\n",
       "      <td>1518305</td>\n",
       "      <td>0</td>\n",
       "      <td>NaN</td>\n",
       "      <td>2018</td>\n",
       "      <td>60732.200000</td>\n",
       "    </tr>\n",
       "    <tr>\n",
       "      <th>SMALL</th>\n",
       "      <td>MONTHLY</td>\n",
       "      <td>2018-01-31</td>\n",
       "      <td>BULKER</td>\n",
       "      <td>Abidjan</td>\n",
       "      <td>Cote D'ivoire</td>\n",
       "      <td>Africa</td>\n",
       "      <td>Entries</td>\n",
       "      <td>EMPTY</td>\n",
       "      <td>4</td>\n",
       "      <td>123016</td>\n",
       "      <td>0</td>\n",
       "      <td>NaN</td>\n",
       "      <td>2018</td>\n",
       "      <td>30754.000000</td>\n",
       "    </tr>\n",
       "    <tr>\n",
       "      <th>MEDIUM</th>\n",
       "      <td>MONTHLY</td>\n",
       "      <td>2018-01-31</td>\n",
       "      <td>BULKER</td>\n",
       "      <td>Arzew El-Djedid</td>\n",
       "      <td>Algeria</td>\n",
       "      <td>Africa</td>\n",
       "      <td>Entries</td>\n",
       "      <td>EMPTY</td>\n",
       "      <td>3</td>\n",
       "      <td>166488</td>\n",
       "      <td>0</td>\n",
       "      <td>NaN</td>\n",
       "      <td>2018</td>\n",
       "      <td>55496.000000</td>\n",
       "    </tr>\n",
       "    <tr>\n",
       "      <th>SMALL</th>\n",
       "      <td>MONTHLY</td>\n",
       "      <td>2018-01-31</td>\n",
       "      <td>BULKER</td>\n",
       "      <td>Moma</td>\n",
       "      <td>Mozambique</td>\n",
       "      <td>Africa</td>\n",
       "      <td>Entries</td>\n",
       "      <td>EMPTY</td>\n",
       "      <td>1</td>\n",
       "      <td>28392</td>\n",
       "      <td>0</td>\n",
       "      <td>NaN</td>\n",
       "      <td>2018</td>\n",
       "      <td>28392.000000</td>\n",
       "    </tr>\n",
       "    <tr>\n",
       "      <th>SMALL</th>\n",
       "      <td>MONTHLY</td>\n",
       "      <td>2018-01-31</td>\n",
       "      <td>BULKER</td>\n",
       "      <td>Lagos (Nigeria)</td>\n",
       "      <td>Nigeria</td>\n",
       "      <td>Africa</td>\n",
       "      <td>Entries</td>\n",
       "      <td>EMPTY</td>\n",
       "      <td>3</td>\n",
       "      <td>107440</td>\n",
       "      <td>0</td>\n",
       "      <td>NaN</td>\n",
       "      <td>2018</td>\n",
       "      <td>35813.333333</td>\n",
       "    </tr>\n",
       "    <tr>\n",
       "      <th>...</th>\n",
       "      <td>...</td>\n",
       "      <td>...</td>\n",
       "      <td>...</td>\n",
       "      <td>...</td>\n",
       "      <td>...</td>\n",
       "      <td>...</td>\n",
       "      <td>...</td>\n",
       "      <td>...</td>\n",
       "      <td>...</td>\n",
       "      <td>...</td>\n",
       "      <td>...</td>\n",
       "      <td>...</td>\n",
       "      <td>...</td>\n",
       "      <td>...</td>\n",
       "    </tr>\n",
       "    <tr>\n",
       "      <th>SMALL</th>\n",
       "      <td>MONTHLY</td>\n",
       "      <td>2018-12-31</td>\n",
       "      <td>TANKER</td>\n",
       "      <td>River Plate Uruguayan Lightering Areas</td>\n",
       "      <td>Uruguay</td>\n",
       "      <td>South America</td>\n",
       "      <td>Exits</td>\n",
       "      <td>PARTIAL</td>\n",
       "      <td>13</td>\n",
       "      <td>325859</td>\n",
       "      <td>32168</td>\n",
       "      <td>1564.028154</td>\n",
       "      <td>2018</td>\n",
       "      <td>25066.076923</td>\n",
       "    </tr>\n",
       "    <tr>\n",
       "      <th>MEDIUM</th>\n",
       "      <td>MONTHLY</td>\n",
       "      <td>2018-12-31</td>\n",
       "      <td>TANKER</td>\n",
       "      <td>Quintero</td>\n",
       "      <td>Chile</td>\n",
       "      <td>South America</td>\n",
       "      <td>Exits</td>\n",
       "      <td>PARTIAL</td>\n",
       "      <td>2</td>\n",
       "      <td>105818</td>\n",
       "      <td>8849</td>\n",
       "      <td>8483.933500</td>\n",
       "      <td>2018</td>\n",
       "      <td>52909.000000</td>\n",
       "    </tr>\n",
       "    <tr>\n",
       "      <th>SMALL</th>\n",
       "      <td>MONTHLY</td>\n",
       "      <td>2018-12-31</td>\n",
       "      <td>TANKER</td>\n",
       "      <td>Rosario</td>\n",
       "      <td>Argentina</td>\n",
       "      <td>South America</td>\n",
       "      <td>Exits</td>\n",
       "      <td>PARTIAL</td>\n",
       "      <td>1</td>\n",
       "      <td>46992</td>\n",
       "      <td>8458</td>\n",
       "      <td>2157.617000</td>\n",
       "      <td>2018</td>\n",
       "      <td>46992.000000</td>\n",
       "    </tr>\n",
       "    <tr>\n",
       "      <th>SMALL</th>\n",
       "      <td>MONTHLY</td>\n",
       "      <td>2018-12-31</td>\n",
       "      <td>TANKER</td>\n",
       "      <td>Acu Superport</td>\n",
       "      <td>Brazil</td>\n",
       "      <td>South America</td>\n",
       "      <td>Exits</td>\n",
       "      <td>PARTIAL</td>\n",
       "      <td>1</td>\n",
       "      <td>37606</td>\n",
       "      <td>6396</td>\n",
       "      <td>17442.817000</td>\n",
       "      <td>2018</td>\n",
       "      <td>37606.000000</td>\n",
       "    </tr>\n",
       "    <tr>\n",
       "      <th>SMALL</th>\n",
       "      <td>MONTHLY</td>\n",
       "      <td>2018-12-31</td>\n",
       "      <td>TANKER</td>\n",
       "      <td>Mamonal</td>\n",
       "      <td>Colombia</td>\n",
       "      <td>South America</td>\n",
       "      <td>Exits</td>\n",
       "      <td>PARTIAL</td>\n",
       "      <td>12</td>\n",
       "      <td>182341</td>\n",
       "      <td>27973</td>\n",
       "      <td>1456.290333</td>\n",
       "      <td>2018</td>\n",
       "      <td>15195.083333</td>\n",
       "    </tr>\n",
       "  </tbody>\n",
       "</table>\n",
       "<p>228773 rows × 14 columns</p>\n",
       "</div>"
      ],
      "text/plain": [
       "          frequency period_ending ship_type  \\\n",
       "ship_size                                     \n",
       "MEDIUM      MONTHLY    2018-01-31    BULKER   \n",
       "SMALL       MONTHLY    2018-01-31    BULKER   \n",
       "MEDIUM      MONTHLY    2018-01-31    BULKER   \n",
       "SMALL       MONTHLY    2018-01-31    BULKER   \n",
       "SMALL       MONTHLY    2018-01-31    BULKER   \n",
       "...             ...           ...       ...   \n",
       "SMALL       MONTHLY    2018-12-31    TANKER   \n",
       "MEDIUM      MONTHLY    2018-12-31    TANKER   \n",
       "SMALL       MONTHLY    2018-12-31    TANKER   \n",
       "SMALL       MONTHLY    2018-12-31    TANKER   \n",
       "SMALL       MONTHLY    2018-12-31    TANKER   \n",
       "\n",
       "                                        port_name   port_country  \\\n",
       "ship_size                                                          \n",
       "MEDIUM                                     Durban   South Africa   \n",
       "SMALL                                     Abidjan  Cote D'ivoire   \n",
       "MEDIUM                            Arzew El-Djedid        Algeria   \n",
       "SMALL                                        Moma     Mozambique   \n",
       "SMALL                             Lagos (Nigeria)        Nigeria   \n",
       "...                                           ...            ...   \n",
       "SMALL      River Plate Uruguayan Lightering Areas        Uruguay   \n",
       "MEDIUM                                   Quintero          Chile   \n",
       "SMALL                                     Rosario      Argentina   \n",
       "SMALL                               Acu Superport         Brazil   \n",
       "SMALL                                     Mamonal       Colombia   \n",
       "\n",
       "          region_corridor   metric    draft  ship_count      dwt  \\\n",
       "ship_size                                                          \n",
       "MEDIUM             Africa  Entries    EMPTY          25  1518305   \n",
       "SMALL              Africa  Entries    EMPTY           4   123016   \n",
       "MEDIUM             Africa  Entries    EMPTY           3   166488   \n",
       "SMALL              Africa  Entries    EMPTY           1    28392   \n",
       "SMALL              Africa  Entries    EMPTY           3   107440   \n",
       "...                   ...      ...      ...         ...      ...   \n",
       "SMALL       South America    Exits  PARTIAL          13   325859   \n",
       "MEDIUM      South America    Exits  PARTIAL           2   105818   \n",
       "SMALL       South America    Exits  PARTIAL           1    46992   \n",
       "SMALL       South America    Exits  PARTIAL           1    37606   \n",
       "SMALL       South America    Exits  PARTIAL          12   182341   \n",
       "\n",
       "           modified_dwt  avg_time_spent_mins  year   average_dwt  \n",
       "ship_size                                                         \n",
       "MEDIUM                0                  NaN  2018  60732.200000  \n",
       "SMALL                 0                  NaN  2018  30754.000000  \n",
       "MEDIUM                0                  NaN  2018  55496.000000  \n",
       "SMALL                 0                  NaN  2018  28392.000000  \n",
       "SMALL                 0                  NaN  2018  35813.333333  \n",
       "...                 ...                  ...   ...           ...  \n",
       "SMALL             32168          1564.028154  2018  25066.076923  \n",
       "MEDIUM             8849          8483.933500  2018  52909.000000  \n",
       "SMALL              8458          2157.617000  2018  46992.000000  \n",
       "SMALL              6396         17442.817000  2018  37606.000000  \n",
       "SMALL             27973          1456.290333  2018  15195.083333  \n",
       "\n",
       "[228773 rows x 14 columns]"
      ]
     },
     "execution_count": 31,
     "metadata": {},
     "output_type": "execute_result"
    }
   ],
   "source": [
    "# define a new column by choosing a new column name as so:\n",
    "df['average_dwt'] = df['dwt'] / df['ship_count']\n",
    "\n",
    "# new columns are always added on the end:\n",
    "df"
   ]
  },
  {
   "cell_type": "code",
   "execution_count": 103,
   "metadata": {},
   "outputs": [
    {
     "data": {
      "text/html": [
       "<div>\n",
       "<style scoped>\n",
       "    .dataframe tbody tr th:only-of-type {\n",
       "        vertical-align: middle;\n",
       "    }\n",
       "\n",
       "    .dataframe tbody tr th {\n",
       "        vertical-align: top;\n",
       "    }\n",
       "\n",
       "    .dataframe thead th {\n",
       "        text-align: right;\n",
       "    }\n",
       "</style>\n",
       "<table border=\"1\" class=\"dataframe\">\n",
       "  <thead>\n",
       "    <tr style=\"text-align: right;\">\n",
       "      <th>ship_size</th>\n",
       "      <th>MEDIUM</th>\n",
       "      <th>SMALL</th>\n",
       "      <th>MEDIUM</th>\n",
       "      <th>SMALL</th>\n",
       "      <th>SMALL</th>\n",
       "      <th>MEDIUM</th>\n",
       "      <th>MEDIUM</th>\n",
       "      <th>LARGE</th>\n",
       "      <th>MEDIUM</th>\n",
       "      <th>MEDIUM</th>\n",
       "      <th>...</th>\n",
       "      <th>SMALL</th>\n",
       "      <th>SMALL</th>\n",
       "      <th>SMALL</th>\n",
       "      <th>SMALL</th>\n",
       "      <th>SMALL</th>\n",
       "      <th>MEDIUM</th>\n",
       "      <th>SMALL</th>\n",
       "      <th>SMALL</th>\n",
       "      <th>MEDIUM</th>\n",
       "      <th>SMALL</th>\n",
       "    </tr>\n",
       "  </thead>\n",
       "  <tbody>\n",
       "    <tr>\n",
       "      <th>frequency</th>\n",
       "      <td>MONTHLY</td>\n",
       "      <td>MONTHLY</td>\n",
       "      <td>MONTHLY</td>\n",
       "      <td>MONTHLY</td>\n",
       "      <td>MONTHLY</td>\n",
       "      <td>MONTHLY</td>\n",
       "      <td>MONTHLY</td>\n",
       "      <td>MONTHLY</td>\n",
       "      <td>MONTHLY</td>\n",
       "      <td>MONTHLY</td>\n",
       "      <td>...</td>\n",
       "      <td>WEEKLY</td>\n",
       "      <td>WEEKLY</td>\n",
       "      <td>WEEKLY</td>\n",
       "      <td>WEEKLY</td>\n",
       "      <td>WEEKLY</td>\n",
       "      <td>WEEKLY</td>\n",
       "      <td>WEEKLY</td>\n",
       "      <td>WEEKLY</td>\n",
       "      <td>WEEKLY</td>\n",
       "      <td>WEEKLY</td>\n",
       "    </tr>\n",
       "    <tr>\n",
       "      <th>period_ending</th>\n",
       "      <td>2018-01-31</td>\n",
       "      <td>2018-01-31</td>\n",
       "      <td>2018-01-31</td>\n",
       "      <td>2018-01-31</td>\n",
       "      <td>2018-01-31</td>\n",
       "      <td>2018-01-31</td>\n",
       "      <td>2018-01-31</td>\n",
       "      <td>2018-01-31</td>\n",
       "      <td>2018-01-31</td>\n",
       "      <td>2018-01-31</td>\n",
       "      <td>...</td>\n",
       "      <td>2018-12-29</td>\n",
       "      <td>2018-12-29</td>\n",
       "      <td>2018-12-29</td>\n",
       "      <td>2018-12-29</td>\n",
       "      <td>2018-12-29</td>\n",
       "      <td>2018-12-29</td>\n",
       "      <td>2018-12-29</td>\n",
       "      <td>2018-12-29</td>\n",
       "      <td>2018-12-29</td>\n",
       "      <td>2018-12-29</td>\n",
       "    </tr>\n",
       "    <tr>\n",
       "      <th>ship_type</th>\n",
       "      <td>BULKER</td>\n",
       "      <td>BULKER</td>\n",
       "      <td>BULKER</td>\n",
       "      <td>BULKER</td>\n",
       "      <td>BULKER</td>\n",
       "      <td>BULKER</td>\n",
       "      <td>BULKER</td>\n",
       "      <td>BULKER</td>\n",
       "      <td>BULKER</td>\n",
       "      <td>BULKER</td>\n",
       "      <td>...</td>\n",
       "      <td>TANKER</td>\n",
       "      <td>TANKER</td>\n",
       "      <td>TANKER</td>\n",
       "      <td>TANKER</td>\n",
       "      <td>TANKER</td>\n",
       "      <td>TANKER</td>\n",
       "      <td>TANKER</td>\n",
       "      <td>TANKER</td>\n",
       "      <td>TANKER</td>\n",
       "      <td>TANKER</td>\n",
       "    </tr>\n",
       "    <tr>\n",
       "      <th>port_name</th>\n",
       "      <td>Durban</td>\n",
       "      <td>Abidjan</td>\n",
       "      <td>Arzew El-Djedid</td>\n",
       "      <td>Moma</td>\n",
       "      <td>Lagos (Nigeria)</td>\n",
       "      <td>La Goulette</td>\n",
       "      <td>Abidjan</td>\n",
       "      <td>Port Said</td>\n",
       "      <td>Ngqura</td>\n",
       "      <td>Port Harcourt</td>\n",
       "      <td>...</td>\n",
       "      <td>Aratu</td>\n",
       "      <td>Mamonal</td>\n",
       "      <td>Guamare Oil Terminal</td>\n",
       "      <td>Bahia Blanca</td>\n",
       "      <td>Quintero</td>\n",
       "      <td>Fortaleza</td>\n",
       "      <td>Paita</td>\n",
       "      <td>Madre de Deus</td>\n",
       "      <td>Itaqui</td>\n",
       "      <td>Guayacan</td>\n",
       "    </tr>\n",
       "    <tr>\n",
       "      <th>port_country</th>\n",
       "      <td>South Africa</td>\n",
       "      <td>Cote D'ivoire</td>\n",
       "      <td>Algeria</td>\n",
       "      <td>Mozambique</td>\n",
       "      <td>Nigeria</td>\n",
       "      <td>Tunisia</td>\n",
       "      <td>Cote D'ivoire</td>\n",
       "      <td>Egypt</td>\n",
       "      <td>South Africa</td>\n",
       "      <td>Nigeria</td>\n",
       "      <td>...</td>\n",
       "      <td>Brazil</td>\n",
       "      <td>Colombia</td>\n",
       "      <td>Brazil</td>\n",
       "      <td>Argentina</td>\n",
       "      <td>Chile</td>\n",
       "      <td>Brazil</td>\n",
       "      <td>Peru</td>\n",
       "      <td>Brazil</td>\n",
       "      <td>Brazil</td>\n",
       "      <td>Chile</td>\n",
       "    </tr>\n",
       "    <tr>\n",
       "      <th>region_corridor</th>\n",
       "      <td>Africa</td>\n",
       "      <td>Africa</td>\n",
       "      <td>Africa</td>\n",
       "      <td>Africa</td>\n",
       "      <td>Africa</td>\n",
       "      <td>Africa</td>\n",
       "      <td>Africa</td>\n",
       "      <td>Africa</td>\n",
       "      <td>Africa</td>\n",
       "      <td>Africa</td>\n",
       "      <td>...</td>\n",
       "      <td>South America</td>\n",
       "      <td>South America</td>\n",
       "      <td>South America</td>\n",
       "      <td>South America</td>\n",
       "      <td>South America</td>\n",
       "      <td>South America</td>\n",
       "      <td>South America</td>\n",
       "      <td>South America</td>\n",
       "      <td>South America</td>\n",
       "      <td>South America</td>\n",
       "    </tr>\n",
       "    <tr>\n",
       "      <th>metric</th>\n",
       "      <td>Entries</td>\n",
       "      <td>Entries</td>\n",
       "      <td>Entries</td>\n",
       "      <td>Entries</td>\n",
       "      <td>Entries</td>\n",
       "      <td>Entries</td>\n",
       "      <td>Entries</td>\n",
       "      <td>Entries</td>\n",
       "      <td>Entries</td>\n",
       "      <td>Entries</td>\n",
       "      <td>...</td>\n",
       "      <td>Exits</td>\n",
       "      <td>Exits</td>\n",
       "      <td>Exits</td>\n",
       "      <td>Exits</td>\n",
       "      <td>Exits</td>\n",
       "      <td>Exits</td>\n",
       "      <td>Exits</td>\n",
       "      <td>Exits</td>\n",
       "      <td>Exits</td>\n",
       "      <td>Exits</td>\n",
       "    </tr>\n",
       "    <tr>\n",
       "      <th>draft</th>\n",
       "      <td>EMPTY</td>\n",
       "      <td>EMPTY</td>\n",
       "      <td>EMPTY</td>\n",
       "      <td>EMPTY</td>\n",
       "      <td>EMPTY</td>\n",
       "      <td>EMPTY</td>\n",
       "      <td>EMPTY</td>\n",
       "      <td>EMPTY</td>\n",
       "      <td>EMPTY</td>\n",
       "      <td>EMPTY</td>\n",
       "      <td>...</td>\n",
       "      <td>PARTIAL</td>\n",
       "      <td>PARTIAL</td>\n",
       "      <td>PARTIAL</td>\n",
       "      <td>PARTIAL</td>\n",
       "      <td>PARTIAL</td>\n",
       "      <td>PARTIAL</td>\n",
       "      <td>PARTIAL</td>\n",
       "      <td>PARTIAL</td>\n",
       "      <td>PARTIAL</td>\n",
       "      <td>PARTIAL</td>\n",
       "    </tr>\n",
       "    <tr>\n",
       "      <th>ship_count</th>\n",
       "      <td>25</td>\n",
       "      <td>4</td>\n",
       "      <td>3</td>\n",
       "      <td>1</td>\n",
       "      <td>3</td>\n",
       "      <td>1</td>\n",
       "      <td>3</td>\n",
       "      <td>1</td>\n",
       "      <td>1</td>\n",
       "      <td>1</td>\n",
       "      <td>...</td>\n",
       "      <td>1</td>\n",
       "      <td>2</td>\n",
       "      <td>1</td>\n",
       "      <td>1</td>\n",
       "      <td>2</td>\n",
       "      <td>1</td>\n",
       "      <td>1</td>\n",
       "      <td>1</td>\n",
       "      <td>1</td>\n",
       "      <td>1</td>\n",
       "    </tr>\n",
       "    <tr>\n",
       "      <th>dwt</th>\n",
       "      <td>1518305</td>\n",
       "      <td>123016</td>\n",
       "      <td>166488</td>\n",
       "      <td>28392</td>\n",
       "      <td>107440</td>\n",
       "      <td>60472</td>\n",
       "      <td>163288</td>\n",
       "      <td>181336</td>\n",
       "      <td>57078</td>\n",
       "      <td>55838</td>\n",
       "      <td>...</td>\n",
       "      <td>16526</td>\n",
       "      <td>45957</td>\n",
       "      <td>46792</td>\n",
       "      <td>17548</td>\n",
       "      <td>96982</td>\n",
       "      <td>50082</td>\n",
       "      <td>22354</td>\n",
       "      <td>47221</td>\n",
       "      <td>72910</td>\n",
       "      <td>49996</td>\n",
       "    </tr>\n",
       "    <tr>\n",
       "      <th>modified_dwt</th>\n",
       "      <td>0</td>\n",
       "      <td>0</td>\n",
       "      <td>0</td>\n",
       "      <td>0</td>\n",
       "      <td>0</td>\n",
       "      <td>0</td>\n",
       "      <td>0</td>\n",
       "      <td>0</td>\n",
       "      <td>0</td>\n",
       "      <td>0</td>\n",
       "      <td>...</td>\n",
       "      <td>1882</td>\n",
       "      <td>9119</td>\n",
       "      <td>376</td>\n",
       "      <td>2133</td>\n",
       "      <td>15704</td>\n",
       "      <td>179</td>\n",
       "      <td>4699</td>\n",
       "      <td>3540</td>\n",
       "      <td>4167</td>\n",
       "      <td>11715</td>\n",
       "    </tr>\n",
       "    <tr>\n",
       "      <th>avg_time_spent_mins</th>\n",
       "      <td>NaN</td>\n",
       "      <td>NaN</td>\n",
       "      <td>NaN</td>\n",
       "      <td>NaN</td>\n",
       "      <td>NaN</td>\n",
       "      <td>NaN</td>\n",
       "      <td>NaN</td>\n",
       "      <td>NaN</td>\n",
       "      <td>NaN</td>\n",
       "      <td>NaN</td>\n",
       "      <td>...</td>\n",
       "      <td>3.15</td>\n",
       "      <td>2060.592</td>\n",
       "      <td>3559.6</td>\n",
       "      <td>4428.033</td>\n",
       "      <td>5292.758</td>\n",
       "      <td>3135.067</td>\n",
       "      <td>15622.017</td>\n",
       "      <td>2052.15</td>\n",
       "      <td>0.0</td>\n",
       "      <td>759.033</td>\n",
       "    </tr>\n",
       "    <tr>\n",
       "      <th>year</th>\n",
       "      <td>2018</td>\n",
       "      <td>2018</td>\n",
       "      <td>2018</td>\n",
       "      <td>2018</td>\n",
       "      <td>2018</td>\n",
       "      <td>2018</td>\n",
       "      <td>2018</td>\n",
       "      <td>2018</td>\n",
       "      <td>2018</td>\n",
       "      <td>2018</td>\n",
       "      <td>...</td>\n",
       "      <td>2018</td>\n",
       "      <td>2018</td>\n",
       "      <td>2018</td>\n",
       "      <td>2018</td>\n",
       "      <td>2018</td>\n",
       "      <td>2018</td>\n",
       "      <td>2018</td>\n",
       "      <td>2018</td>\n",
       "      <td>2018</td>\n",
       "      <td>2018</td>\n",
       "    </tr>\n",
       "    <tr>\n",
       "      <th>average_dwt</th>\n",
       "      <td>60732.2</td>\n",
       "      <td>30754.0</td>\n",
       "      <td>55496.0</td>\n",
       "      <td>28392.0</td>\n",
       "      <td>35813.333333</td>\n",
       "      <td>60472.0</td>\n",
       "      <td>54429.333333</td>\n",
       "      <td>181336.0</td>\n",
       "      <td>57078.0</td>\n",
       "      <td>55838.0</td>\n",
       "      <td>...</td>\n",
       "      <td>16526.0</td>\n",
       "      <td>22978.5</td>\n",
       "      <td>46792.0</td>\n",
       "      <td>17548.0</td>\n",
       "      <td>48491.0</td>\n",
       "      <td>50082.0</td>\n",
       "      <td>22354.0</td>\n",
       "      <td>47221.0</td>\n",
       "      <td>72910.0</td>\n",
       "      <td>49996.0</td>\n",
       "    </tr>\n",
       "  </tbody>\n",
       "</table>\n",
       "<p>14 rows × 792126 columns</p>\n",
       "</div>"
      ],
      "text/plain": [
       "ship_size                  MEDIUM          SMALL           MEDIUM       SMALL  \\\n",
       "frequency                 MONTHLY        MONTHLY          MONTHLY     MONTHLY   \n",
       "period_ending          2018-01-31     2018-01-31       2018-01-31  2018-01-31   \n",
       "ship_type                  BULKER         BULKER           BULKER      BULKER   \n",
       "port_name                  Durban        Abidjan  Arzew El-Djedid        Moma   \n",
       "port_country         South Africa  Cote D'ivoire          Algeria  Mozambique   \n",
       "region_corridor            Africa         Africa           Africa      Africa   \n",
       "metric                    Entries        Entries          Entries     Entries   \n",
       "draft                       EMPTY          EMPTY            EMPTY       EMPTY   \n",
       "ship_count                     25              4                3           1   \n",
       "dwt                       1518305         123016           166488       28392   \n",
       "modified_dwt                    0              0                0           0   \n",
       "avg_time_spent_mins           NaN            NaN              NaN         NaN   \n",
       "year                         2018           2018             2018        2018   \n",
       "average_dwt               60732.2        30754.0          55496.0     28392.0   \n",
       "\n",
       "ship_size                      SMALL       MEDIUM         MEDIUM       LARGE  \\\n",
       "frequency                    MONTHLY      MONTHLY        MONTHLY     MONTHLY   \n",
       "period_ending             2018-01-31   2018-01-31     2018-01-31  2018-01-31   \n",
       "ship_type                     BULKER       BULKER         BULKER      BULKER   \n",
       "port_name            Lagos (Nigeria)  La Goulette        Abidjan   Port Said   \n",
       "port_country                 Nigeria      Tunisia  Cote D'ivoire       Egypt   \n",
       "region_corridor               Africa       Africa         Africa      Africa   \n",
       "metric                       Entries      Entries        Entries     Entries   \n",
       "draft                          EMPTY        EMPTY          EMPTY       EMPTY   \n",
       "ship_count                         3            1              3           1   \n",
       "dwt                           107440        60472         163288      181336   \n",
       "modified_dwt                       0            0              0           0   \n",
       "avg_time_spent_mins              NaN          NaN            NaN         NaN   \n",
       "year                            2018         2018           2018        2018   \n",
       "average_dwt             35813.333333      60472.0   54429.333333    181336.0   \n",
       "\n",
       "ship_size                  MEDIUM         MEDIUM  ...          SMALL  \\\n",
       "frequency                 MONTHLY        MONTHLY  ...         WEEKLY   \n",
       "period_ending          2018-01-31     2018-01-31  ...     2018-12-29   \n",
       "ship_type                  BULKER         BULKER  ...         TANKER   \n",
       "port_name                  Ngqura  Port Harcourt  ...          Aratu   \n",
       "port_country         South Africa        Nigeria  ...         Brazil   \n",
       "region_corridor            Africa         Africa  ...  South America   \n",
       "metric                    Entries        Entries  ...          Exits   \n",
       "draft                       EMPTY          EMPTY  ...        PARTIAL   \n",
       "ship_count                      1              1  ...              1   \n",
       "dwt                         57078          55838  ...          16526   \n",
       "modified_dwt                    0              0  ...           1882   \n",
       "avg_time_spent_mins           NaN            NaN  ...           3.15   \n",
       "year                         2018           2018  ...           2018   \n",
       "average_dwt               57078.0        55838.0  ...        16526.0   \n",
       "\n",
       "ship_size                    SMALL                 SMALL          SMALL  \\\n",
       "frequency                   WEEKLY                WEEKLY         WEEKLY   \n",
       "period_ending           2018-12-29            2018-12-29     2018-12-29   \n",
       "ship_type                   TANKER                TANKER         TANKER   \n",
       "port_name                  Mamonal  Guamare Oil Terminal   Bahia Blanca   \n",
       "port_country              Colombia                Brazil      Argentina   \n",
       "region_corridor      South America         South America  South America   \n",
       "metric                       Exits                 Exits          Exits   \n",
       "draft                      PARTIAL               PARTIAL        PARTIAL   \n",
       "ship_count                       2                     1              1   \n",
       "dwt                          45957                 46792          17548   \n",
       "modified_dwt                  9119                   376           2133   \n",
       "avg_time_spent_mins       2060.592                3559.6       4428.033   \n",
       "year                          2018                  2018           2018   \n",
       "average_dwt                22978.5               46792.0        17548.0   \n",
       "\n",
       "ship_size                    SMALL         MEDIUM          SMALL  \\\n",
       "frequency                   WEEKLY         WEEKLY         WEEKLY   \n",
       "period_ending           2018-12-29     2018-12-29     2018-12-29   \n",
       "ship_type                   TANKER         TANKER         TANKER   \n",
       "port_name                 Quintero      Fortaleza          Paita   \n",
       "port_country                 Chile         Brazil           Peru   \n",
       "region_corridor      South America  South America  South America   \n",
       "metric                       Exits          Exits          Exits   \n",
       "draft                      PARTIAL        PARTIAL        PARTIAL   \n",
       "ship_count                       2              1              1   \n",
       "dwt                          96982          50082          22354   \n",
       "modified_dwt                 15704            179           4699   \n",
       "avg_time_spent_mins       5292.758       3135.067      15622.017   \n",
       "year                          2018           2018           2018   \n",
       "average_dwt                48491.0        50082.0        22354.0   \n",
       "\n",
       "ship_size                    SMALL         MEDIUM          SMALL  \n",
       "frequency                   WEEKLY         WEEKLY         WEEKLY  \n",
       "period_ending           2018-12-29     2018-12-29     2018-12-29  \n",
       "ship_type                   TANKER         TANKER         TANKER  \n",
       "port_name            Madre de Deus         Itaqui       Guayacan  \n",
       "port_country                Brazil         Brazil          Chile  \n",
       "region_corridor      South America  South America  South America  \n",
       "metric                       Exits          Exits          Exits  \n",
       "draft                      PARTIAL        PARTIAL        PARTIAL  \n",
       "ship_count                       1              1              1  \n",
       "dwt                          47221          72910          49996  \n",
       "modified_dwt                  3540           4167          11715  \n",
       "avg_time_spent_mins        2052.15            0.0        759.033  \n",
       "year                          2018           2018           2018  \n",
       "average_dwt                47221.0        72910.0        49996.0  \n",
       "\n",
       "[14 rows x 792126 columns]"
      ]
     },
     "execution_count": 103,
     "metadata": {},
     "output_type": "execute_result"
    }
   ],
   "source": [
    "# easiest to do operations in the column direction - but nothing stops you from transposing the table:\n",
    "df.T"
   ]
  },
  {
   "cell_type": "code",
   "execution_count": 32,
   "metadata": {},
   "outputs": [],
   "source": [
    "# if you want to return the index to a standard numerical one, it's:\n",
    "df = df.reset_index()"
   ]
  },
  {
   "cell_type": "code",
   "execution_count": 33,
   "metadata": {},
   "outputs": [],
   "source": [
    "# text columns can be added as you'd expect\n",
    "df['description'] = df['ship_size']+' '+df['ship_type']+' - '+df['draft']"
   ]
  },
  {
   "cell_type": "code",
   "execution_count": 34,
   "metadata": {
    "scrolled": true
   },
   "outputs": [
    {
     "data": {
      "text/plain": [
       "0           MEDIUM BULKER - EMPTY\n",
       "1            SMALL BULKER - EMPTY\n",
       "2           MEDIUM BULKER - EMPTY\n",
       "3            SMALL BULKER - EMPTY\n",
       "4            SMALL BULKER - EMPTY\n",
       "                   ...           \n",
       "228768     SMALL TANKER - PARTIAL\n",
       "228769    MEDIUM TANKER - PARTIAL\n",
       "228770     SMALL TANKER - PARTIAL\n",
       "228771     SMALL TANKER - PARTIAL\n",
       "228772     SMALL TANKER - PARTIAL\n",
       "Name: description, Length: 228773, dtype: object"
      ]
     },
     "execution_count": 34,
     "metadata": {},
     "output_type": "execute_result"
    }
   ],
   "source": [
    "df['description']"
   ]
  },
  {
   "cell_type": "code",
   "execution_count": 35,
   "metadata": {},
   "outputs": [],
   "source": [
    "# fairly sophisticated methods are also available for mapping and filling values:\n",
    "size_mapper = {'SMALL':1, \n",
    "               'MEDIUM':2}\n",
    "df['num_size'] = df['ship_size'].map(size_mapper)"
   ]
  },
  {
   "cell_type": "code",
   "execution_count": 127,
   "metadata": {},
   "outputs": [
    {
     "data": {
      "text/plain": [
       "1.0    465456\n",
       "2.0    259552\n",
       "Name: num_size, dtype: int64"
      ]
     },
     "execution_count": 127,
     "metadata": {},
     "output_type": "execute_result"
    }
   ],
   "source": [
    "df['num_size'].value_counts()"
   ]
  },
  {
   "cell_type": "code",
   "execution_count": 131,
   "metadata": {},
   "outputs": [
    {
     "data": {
      "text/plain": [
       "0         False\n",
       "1         False\n",
       "2         False\n",
       "3         False\n",
       "4         False\n",
       "          ...  \n",
       "792121    False\n",
       "792122    False\n",
       "792123    False\n",
       "792124    False\n",
       "792125    False\n",
       "Name: num_size, Length: 792126, dtype: bool"
      ]
     },
     "execution_count": 131,
     "metadata": {},
     "output_type": "execute_result"
    }
   ],
   "source": [
    "df['num_size'].isnull()"
   ]
  },
  {
   "cell_type": "code",
   "execution_count": 132,
   "metadata": {},
   "outputs": [
    {
     "data": {
      "text/plain": [
       "False    725008\n",
       "True      67118\n",
       "Name: num_size, dtype: int64"
      ]
     },
     "execution_count": 132,
     "metadata": {},
     "output_type": "execute_result"
    }
   ],
   "source": [
    "df['num_size'].isnull().value_counts()"
   ]
  },
  {
   "cell_type": "code",
   "execution_count": 134,
   "metadata": {},
   "outputs": [],
   "source": [
    "df['num_size'] = df['num_size'].fillna(3)"
   ]
  },
  {
   "cell_type": "code",
   "execution_count": 135,
   "metadata": {},
   "outputs": [
    {
     "data": {
      "text/plain": [
       "False    792126\n",
       "Name: num_size, dtype: int64"
      ]
     },
     "execution_count": 135,
     "metadata": {},
     "output_type": "execute_result"
    }
   ],
   "source": [
    "df['num_size'].isnull().value_counts()"
   ]
  },
  {
   "cell_type": "code",
   "execution_count": 136,
   "metadata": {},
   "outputs": [
    {
     "data": {
      "text/plain": [
       "1.0    465456\n",
       "2.0    259552\n",
       "3.0     67118\n",
       "Name: num_size, dtype: int64"
      ]
     },
     "execution_count": 136,
     "metadata": {},
     "output_type": "execute_result"
    }
   ],
   "source": [
    "df['num_size'].value_counts()"
   ]
  },
  {
   "cell_type": "code",
   "execution_count": null,
   "metadata": {},
   "outputs": [],
   "source": [
    "# we can also fill forward with ffill() and fill back with bfill() if we need to"
   ]
  },
  {
   "cell_type": "code",
   "execution_count": 154,
   "metadata": {},
   "outputs": [],
   "source": [
    "# final function of interest is joining to create a new DataFrame:\n",
    "a = df[df.columns[:-2]]\n",
    "b = df[['description','num_size']]"
   ]
  },
  {
   "cell_type": "code",
   "execution_count": 155,
   "metadata": {},
   "outputs": [
    {
     "data": {
      "text/html": [
       "<div>\n",
       "<style scoped>\n",
       "    .dataframe tbody tr th:only-of-type {\n",
       "        vertical-align: middle;\n",
       "    }\n",
       "\n",
       "    .dataframe tbody tr th {\n",
       "        vertical-align: top;\n",
       "    }\n",
       "\n",
       "    .dataframe thead th {\n",
       "        text-align: right;\n",
       "    }\n",
       "</style>\n",
       "<table border=\"1\" class=\"dataframe\">\n",
       "  <thead>\n",
       "    <tr style=\"text-align: right;\">\n",
       "      <th></th>\n",
       "      <th>ship_size</th>\n",
       "      <th>frequency</th>\n",
       "      <th>period_ending</th>\n",
       "      <th>ship_type</th>\n",
       "      <th>port_name</th>\n",
       "      <th>port_country</th>\n",
       "      <th>region_corridor</th>\n",
       "      <th>metric</th>\n",
       "      <th>draft</th>\n",
       "      <th>ship_count</th>\n",
       "      <th>dwt</th>\n",
       "      <th>modified_dwt</th>\n",
       "      <th>avg_time_spent_mins</th>\n",
       "      <th>year</th>\n",
       "      <th>average_dwt</th>\n",
       "    </tr>\n",
       "  </thead>\n",
       "  <tbody>\n",
       "    <tr>\n",
       "      <th>0</th>\n",
       "      <td>MEDIUM</td>\n",
       "      <td>MONTHLY</td>\n",
       "      <td>2018-01-31</td>\n",
       "      <td>BULKER</td>\n",
       "      <td>Durban</td>\n",
       "      <td>South Africa</td>\n",
       "      <td>Africa</td>\n",
       "      <td>Entries</td>\n",
       "      <td>EMPTY</td>\n",
       "      <td>25</td>\n",
       "      <td>1518305</td>\n",
       "      <td>0</td>\n",
       "      <td>NaN</td>\n",
       "      <td>2018</td>\n",
       "      <td>60732.200000</td>\n",
       "    </tr>\n",
       "    <tr>\n",
       "      <th>1</th>\n",
       "      <td>SMALL</td>\n",
       "      <td>MONTHLY</td>\n",
       "      <td>2018-01-31</td>\n",
       "      <td>BULKER</td>\n",
       "      <td>Abidjan</td>\n",
       "      <td>Cote D'ivoire</td>\n",
       "      <td>Africa</td>\n",
       "      <td>Entries</td>\n",
       "      <td>EMPTY</td>\n",
       "      <td>4</td>\n",
       "      <td>123016</td>\n",
       "      <td>0</td>\n",
       "      <td>NaN</td>\n",
       "      <td>2018</td>\n",
       "      <td>30754.000000</td>\n",
       "    </tr>\n",
       "    <tr>\n",
       "      <th>2</th>\n",
       "      <td>MEDIUM</td>\n",
       "      <td>MONTHLY</td>\n",
       "      <td>2018-01-31</td>\n",
       "      <td>BULKER</td>\n",
       "      <td>Arzew El-Djedid</td>\n",
       "      <td>Algeria</td>\n",
       "      <td>Africa</td>\n",
       "      <td>Entries</td>\n",
       "      <td>EMPTY</td>\n",
       "      <td>3</td>\n",
       "      <td>166488</td>\n",
       "      <td>0</td>\n",
       "      <td>NaN</td>\n",
       "      <td>2018</td>\n",
       "      <td>55496.000000</td>\n",
       "    </tr>\n",
       "    <tr>\n",
       "      <th>3</th>\n",
       "      <td>SMALL</td>\n",
       "      <td>MONTHLY</td>\n",
       "      <td>2018-01-31</td>\n",
       "      <td>BULKER</td>\n",
       "      <td>Moma</td>\n",
       "      <td>Mozambique</td>\n",
       "      <td>Africa</td>\n",
       "      <td>Entries</td>\n",
       "      <td>EMPTY</td>\n",
       "      <td>1</td>\n",
       "      <td>28392</td>\n",
       "      <td>0</td>\n",
       "      <td>NaN</td>\n",
       "      <td>2018</td>\n",
       "      <td>28392.000000</td>\n",
       "    </tr>\n",
       "    <tr>\n",
       "      <th>4</th>\n",
       "      <td>SMALL</td>\n",
       "      <td>MONTHLY</td>\n",
       "      <td>2018-01-31</td>\n",
       "      <td>BULKER</td>\n",
       "      <td>Lagos (Nigeria)</td>\n",
       "      <td>Nigeria</td>\n",
       "      <td>Africa</td>\n",
       "      <td>Entries</td>\n",
       "      <td>EMPTY</td>\n",
       "      <td>3</td>\n",
       "      <td>107440</td>\n",
       "      <td>0</td>\n",
       "      <td>NaN</td>\n",
       "      <td>2018</td>\n",
       "      <td>35813.333333</td>\n",
       "    </tr>\n",
       "    <tr>\n",
       "      <th>...</th>\n",
       "      <td>...</td>\n",
       "      <td>...</td>\n",
       "      <td>...</td>\n",
       "      <td>...</td>\n",
       "      <td>...</td>\n",
       "      <td>...</td>\n",
       "      <td>...</td>\n",
       "      <td>...</td>\n",
       "      <td>...</td>\n",
       "      <td>...</td>\n",
       "      <td>...</td>\n",
       "      <td>...</td>\n",
       "      <td>...</td>\n",
       "      <td>...</td>\n",
       "      <td>...</td>\n",
       "    </tr>\n",
       "    <tr>\n",
       "      <th>792121</th>\n",
       "      <td>MEDIUM</td>\n",
       "      <td>WEEKLY</td>\n",
       "      <td>2018-12-29</td>\n",
       "      <td>TANKER</td>\n",
       "      <td>Fortaleza</td>\n",
       "      <td>Brazil</td>\n",
       "      <td>South America</td>\n",
       "      <td>Exits</td>\n",
       "      <td>PARTIAL</td>\n",
       "      <td>1</td>\n",
       "      <td>50082</td>\n",
       "      <td>179</td>\n",
       "      <td>3135.067</td>\n",
       "      <td>2018</td>\n",
       "      <td>50082.000000</td>\n",
       "    </tr>\n",
       "    <tr>\n",
       "      <th>792122</th>\n",
       "      <td>SMALL</td>\n",
       "      <td>WEEKLY</td>\n",
       "      <td>2018-12-29</td>\n",
       "      <td>TANKER</td>\n",
       "      <td>Paita</td>\n",
       "      <td>Peru</td>\n",
       "      <td>South America</td>\n",
       "      <td>Exits</td>\n",
       "      <td>PARTIAL</td>\n",
       "      <td>1</td>\n",
       "      <td>22354</td>\n",
       "      <td>4699</td>\n",
       "      <td>15622.017</td>\n",
       "      <td>2018</td>\n",
       "      <td>22354.000000</td>\n",
       "    </tr>\n",
       "    <tr>\n",
       "      <th>792123</th>\n",
       "      <td>SMALL</td>\n",
       "      <td>WEEKLY</td>\n",
       "      <td>2018-12-29</td>\n",
       "      <td>TANKER</td>\n",
       "      <td>Madre de Deus</td>\n",
       "      <td>Brazil</td>\n",
       "      <td>South America</td>\n",
       "      <td>Exits</td>\n",
       "      <td>PARTIAL</td>\n",
       "      <td>1</td>\n",
       "      <td>47221</td>\n",
       "      <td>3540</td>\n",
       "      <td>2052.150</td>\n",
       "      <td>2018</td>\n",
       "      <td>47221.000000</td>\n",
       "    </tr>\n",
       "    <tr>\n",
       "      <th>792124</th>\n",
       "      <td>MEDIUM</td>\n",
       "      <td>WEEKLY</td>\n",
       "      <td>2018-12-29</td>\n",
       "      <td>TANKER</td>\n",
       "      <td>Itaqui</td>\n",
       "      <td>Brazil</td>\n",
       "      <td>South America</td>\n",
       "      <td>Exits</td>\n",
       "      <td>PARTIAL</td>\n",
       "      <td>1</td>\n",
       "      <td>72910</td>\n",
       "      <td>4167</td>\n",
       "      <td>0.000</td>\n",
       "      <td>2018</td>\n",
       "      <td>72910.000000</td>\n",
       "    </tr>\n",
       "    <tr>\n",
       "      <th>792125</th>\n",
       "      <td>SMALL</td>\n",
       "      <td>WEEKLY</td>\n",
       "      <td>2018-12-29</td>\n",
       "      <td>TANKER</td>\n",
       "      <td>Guayacan</td>\n",
       "      <td>Chile</td>\n",
       "      <td>South America</td>\n",
       "      <td>Exits</td>\n",
       "      <td>PARTIAL</td>\n",
       "      <td>1</td>\n",
       "      <td>49996</td>\n",
       "      <td>11715</td>\n",
       "      <td>759.033</td>\n",
       "      <td>2018</td>\n",
       "      <td>49996.000000</td>\n",
       "    </tr>\n",
       "  </tbody>\n",
       "</table>\n",
       "<p>792126 rows × 15 columns</p>\n",
       "</div>"
      ],
      "text/plain": [
       "       ship_size frequency period_ending ship_type        port_name  \\\n",
       "0         MEDIUM   MONTHLY    2018-01-31    BULKER           Durban   \n",
       "1          SMALL   MONTHLY    2018-01-31    BULKER          Abidjan   \n",
       "2         MEDIUM   MONTHLY    2018-01-31    BULKER  Arzew El-Djedid   \n",
       "3          SMALL   MONTHLY    2018-01-31    BULKER             Moma   \n",
       "4          SMALL   MONTHLY    2018-01-31    BULKER  Lagos (Nigeria)   \n",
       "...          ...       ...           ...       ...              ...   \n",
       "792121    MEDIUM    WEEKLY    2018-12-29    TANKER        Fortaleza   \n",
       "792122     SMALL    WEEKLY    2018-12-29    TANKER            Paita   \n",
       "792123     SMALL    WEEKLY    2018-12-29    TANKER    Madre de Deus   \n",
       "792124    MEDIUM    WEEKLY    2018-12-29    TANKER           Itaqui   \n",
       "792125     SMALL    WEEKLY    2018-12-29    TANKER         Guayacan   \n",
       "\n",
       "         port_country region_corridor   metric    draft  ship_count      dwt  \\\n",
       "0        South Africa          Africa  Entries    EMPTY          25  1518305   \n",
       "1       Cote D'ivoire          Africa  Entries    EMPTY           4   123016   \n",
       "2             Algeria          Africa  Entries    EMPTY           3   166488   \n",
       "3          Mozambique          Africa  Entries    EMPTY           1    28392   \n",
       "4             Nigeria          Africa  Entries    EMPTY           3   107440   \n",
       "...               ...             ...      ...      ...         ...      ...   \n",
       "792121         Brazil   South America    Exits  PARTIAL           1    50082   \n",
       "792122           Peru   South America    Exits  PARTIAL           1    22354   \n",
       "792123         Brazil   South America    Exits  PARTIAL           1    47221   \n",
       "792124         Brazil   South America    Exits  PARTIAL           1    72910   \n",
       "792125          Chile   South America    Exits  PARTIAL           1    49996   \n",
       "\n",
       "        modified_dwt  avg_time_spent_mins  year   average_dwt  \n",
       "0                  0                  NaN  2018  60732.200000  \n",
       "1                  0                  NaN  2018  30754.000000  \n",
       "2                  0                  NaN  2018  55496.000000  \n",
       "3                  0                  NaN  2018  28392.000000  \n",
       "4                  0                  NaN  2018  35813.333333  \n",
       "...              ...                  ...   ...           ...  \n",
       "792121           179             3135.067  2018  50082.000000  \n",
       "792122          4699            15622.017  2018  22354.000000  \n",
       "792123          3540             2052.150  2018  47221.000000  \n",
       "792124          4167                0.000  2018  72910.000000  \n",
       "792125         11715              759.033  2018  49996.000000  \n",
       "\n",
       "[792126 rows x 15 columns]"
      ]
     },
     "execution_count": 155,
     "metadata": {},
     "output_type": "execute_result"
    }
   ],
   "source": [
    "a"
   ]
  },
  {
   "cell_type": "code",
   "execution_count": 156,
   "metadata": {},
   "outputs": [
    {
     "data": {
      "text/html": [
       "<div>\n",
       "<style scoped>\n",
       "    .dataframe tbody tr th:only-of-type {\n",
       "        vertical-align: middle;\n",
       "    }\n",
       "\n",
       "    .dataframe tbody tr th {\n",
       "        vertical-align: top;\n",
       "    }\n",
       "\n",
       "    .dataframe thead th {\n",
       "        text-align: right;\n",
       "    }\n",
       "</style>\n",
       "<table border=\"1\" class=\"dataframe\">\n",
       "  <thead>\n",
       "    <tr style=\"text-align: right;\">\n",
       "      <th></th>\n",
       "      <th>description</th>\n",
       "      <th>num_size</th>\n",
       "    </tr>\n",
       "  </thead>\n",
       "  <tbody>\n",
       "    <tr>\n",
       "      <th>0</th>\n",
       "      <td>MEDIUM BULKER - EMPTY</td>\n",
       "      <td>2.0</td>\n",
       "    </tr>\n",
       "    <tr>\n",
       "      <th>1</th>\n",
       "      <td>SMALL BULKER - EMPTY</td>\n",
       "      <td>1.0</td>\n",
       "    </tr>\n",
       "    <tr>\n",
       "      <th>2</th>\n",
       "      <td>MEDIUM BULKER - EMPTY</td>\n",
       "      <td>2.0</td>\n",
       "    </tr>\n",
       "    <tr>\n",
       "      <th>3</th>\n",
       "      <td>SMALL BULKER - EMPTY</td>\n",
       "      <td>1.0</td>\n",
       "    </tr>\n",
       "    <tr>\n",
       "      <th>4</th>\n",
       "      <td>SMALL BULKER - EMPTY</td>\n",
       "      <td>1.0</td>\n",
       "    </tr>\n",
       "    <tr>\n",
       "      <th>...</th>\n",
       "      <td>...</td>\n",
       "      <td>...</td>\n",
       "    </tr>\n",
       "    <tr>\n",
       "      <th>792121</th>\n",
       "      <td>MEDIUM TANKER - PARTIAL</td>\n",
       "      <td>2.0</td>\n",
       "    </tr>\n",
       "    <tr>\n",
       "      <th>792122</th>\n",
       "      <td>SMALL TANKER - PARTIAL</td>\n",
       "      <td>1.0</td>\n",
       "    </tr>\n",
       "    <tr>\n",
       "      <th>792123</th>\n",
       "      <td>SMALL TANKER - PARTIAL</td>\n",
       "      <td>1.0</td>\n",
       "    </tr>\n",
       "    <tr>\n",
       "      <th>792124</th>\n",
       "      <td>MEDIUM TANKER - PARTIAL</td>\n",
       "      <td>2.0</td>\n",
       "    </tr>\n",
       "    <tr>\n",
       "      <th>792125</th>\n",
       "      <td>SMALL TANKER - PARTIAL</td>\n",
       "      <td>1.0</td>\n",
       "    </tr>\n",
       "  </tbody>\n",
       "</table>\n",
       "<p>792126 rows × 2 columns</p>\n",
       "</div>"
      ],
      "text/plain": [
       "                    description  num_size\n",
       "0         MEDIUM BULKER - EMPTY       2.0\n",
       "1          SMALL BULKER - EMPTY       1.0\n",
       "2         MEDIUM BULKER - EMPTY       2.0\n",
       "3          SMALL BULKER - EMPTY       1.0\n",
       "4          SMALL BULKER - EMPTY       1.0\n",
       "...                         ...       ...\n",
       "792121  MEDIUM TANKER - PARTIAL       2.0\n",
       "792122   SMALL TANKER - PARTIAL       1.0\n",
       "792123   SMALL TANKER - PARTIAL       1.0\n",
       "792124  MEDIUM TANKER - PARTIAL       2.0\n",
       "792125   SMALL TANKER - PARTIAL       1.0\n",
       "\n",
       "[792126 rows x 2 columns]"
      ]
     },
     "execution_count": 156,
     "metadata": {},
     "output_type": "execute_result"
    }
   ],
   "source": [
    "b"
   ]
  },
  {
   "cell_type": "code",
   "execution_count": 158,
   "metadata": {},
   "outputs": [],
   "source": [
    "# implicit left join on index, but that can changed with various options - \n",
    "# see https://pandas.pydata.org/docs/reference/api/pandas.DataFrame.join.html\n",
    "c = a.join(b)"
   ]
  },
  {
   "cell_type": "code",
   "execution_count": 160,
   "metadata": {
    "scrolled": true
   },
   "outputs": [
    {
     "data": {
      "text/html": [
       "<div>\n",
       "<style scoped>\n",
       "    .dataframe tbody tr th:only-of-type {\n",
       "        vertical-align: middle;\n",
       "    }\n",
       "\n",
       "    .dataframe tbody tr th {\n",
       "        vertical-align: top;\n",
       "    }\n",
       "\n",
       "    .dataframe thead th {\n",
       "        text-align: right;\n",
       "    }\n",
       "</style>\n",
       "<table border=\"1\" class=\"dataframe\">\n",
       "  <thead>\n",
       "    <tr style=\"text-align: right;\">\n",
       "      <th></th>\n",
       "      <th>ship_size</th>\n",
       "      <th>frequency</th>\n",
       "      <th>period_ending</th>\n",
       "      <th>ship_type</th>\n",
       "      <th>port_name</th>\n",
       "      <th>port_country</th>\n",
       "      <th>region_corridor</th>\n",
       "      <th>metric</th>\n",
       "      <th>draft</th>\n",
       "      <th>ship_count</th>\n",
       "      <th>dwt</th>\n",
       "      <th>modified_dwt</th>\n",
       "      <th>avg_time_spent_mins</th>\n",
       "      <th>year</th>\n",
       "      <th>average_dwt</th>\n",
       "      <th>description</th>\n",
       "      <th>num_size</th>\n",
       "    </tr>\n",
       "  </thead>\n",
       "  <tbody>\n",
       "    <tr>\n",
       "      <th>0</th>\n",
       "      <td>MEDIUM</td>\n",
       "      <td>MONTHLY</td>\n",
       "      <td>2018-01-31</td>\n",
       "      <td>BULKER</td>\n",
       "      <td>Durban</td>\n",
       "      <td>South Africa</td>\n",
       "      <td>Africa</td>\n",
       "      <td>Entries</td>\n",
       "      <td>EMPTY</td>\n",
       "      <td>25</td>\n",
       "      <td>1518305</td>\n",
       "      <td>0</td>\n",
       "      <td>NaN</td>\n",
       "      <td>2018</td>\n",
       "      <td>60732.200000</td>\n",
       "      <td>MEDIUM BULKER - EMPTY</td>\n",
       "      <td>2.0</td>\n",
       "    </tr>\n",
       "    <tr>\n",
       "      <th>1</th>\n",
       "      <td>SMALL</td>\n",
       "      <td>MONTHLY</td>\n",
       "      <td>2018-01-31</td>\n",
       "      <td>BULKER</td>\n",
       "      <td>Abidjan</td>\n",
       "      <td>Cote D'ivoire</td>\n",
       "      <td>Africa</td>\n",
       "      <td>Entries</td>\n",
       "      <td>EMPTY</td>\n",
       "      <td>4</td>\n",
       "      <td>123016</td>\n",
       "      <td>0</td>\n",
       "      <td>NaN</td>\n",
       "      <td>2018</td>\n",
       "      <td>30754.000000</td>\n",
       "      <td>SMALL BULKER - EMPTY</td>\n",
       "      <td>1.0</td>\n",
       "    </tr>\n",
       "    <tr>\n",
       "      <th>2</th>\n",
       "      <td>MEDIUM</td>\n",
       "      <td>MONTHLY</td>\n",
       "      <td>2018-01-31</td>\n",
       "      <td>BULKER</td>\n",
       "      <td>Arzew El-Djedid</td>\n",
       "      <td>Algeria</td>\n",
       "      <td>Africa</td>\n",
       "      <td>Entries</td>\n",
       "      <td>EMPTY</td>\n",
       "      <td>3</td>\n",
       "      <td>166488</td>\n",
       "      <td>0</td>\n",
       "      <td>NaN</td>\n",
       "      <td>2018</td>\n",
       "      <td>55496.000000</td>\n",
       "      <td>MEDIUM BULKER - EMPTY</td>\n",
       "      <td>2.0</td>\n",
       "    </tr>\n",
       "    <tr>\n",
       "      <th>3</th>\n",
       "      <td>SMALL</td>\n",
       "      <td>MONTHLY</td>\n",
       "      <td>2018-01-31</td>\n",
       "      <td>BULKER</td>\n",
       "      <td>Moma</td>\n",
       "      <td>Mozambique</td>\n",
       "      <td>Africa</td>\n",
       "      <td>Entries</td>\n",
       "      <td>EMPTY</td>\n",
       "      <td>1</td>\n",
       "      <td>28392</td>\n",
       "      <td>0</td>\n",
       "      <td>NaN</td>\n",
       "      <td>2018</td>\n",
       "      <td>28392.000000</td>\n",
       "      <td>SMALL BULKER - EMPTY</td>\n",
       "      <td>1.0</td>\n",
       "    </tr>\n",
       "    <tr>\n",
       "      <th>4</th>\n",
       "      <td>SMALL</td>\n",
       "      <td>MONTHLY</td>\n",
       "      <td>2018-01-31</td>\n",
       "      <td>BULKER</td>\n",
       "      <td>Lagos (Nigeria)</td>\n",
       "      <td>Nigeria</td>\n",
       "      <td>Africa</td>\n",
       "      <td>Entries</td>\n",
       "      <td>EMPTY</td>\n",
       "      <td>3</td>\n",
       "      <td>107440</td>\n",
       "      <td>0</td>\n",
       "      <td>NaN</td>\n",
       "      <td>2018</td>\n",
       "      <td>35813.333333</td>\n",
       "      <td>SMALL BULKER - EMPTY</td>\n",
       "      <td>1.0</td>\n",
       "    </tr>\n",
       "    <tr>\n",
       "      <th>...</th>\n",
       "      <td>...</td>\n",
       "      <td>...</td>\n",
       "      <td>...</td>\n",
       "      <td>...</td>\n",
       "      <td>...</td>\n",
       "      <td>...</td>\n",
       "      <td>...</td>\n",
       "      <td>...</td>\n",
       "      <td>...</td>\n",
       "      <td>...</td>\n",
       "      <td>...</td>\n",
       "      <td>...</td>\n",
       "      <td>...</td>\n",
       "      <td>...</td>\n",
       "      <td>...</td>\n",
       "      <td>...</td>\n",
       "      <td>...</td>\n",
       "    </tr>\n",
       "    <tr>\n",
       "      <th>792121</th>\n",
       "      <td>MEDIUM</td>\n",
       "      <td>WEEKLY</td>\n",
       "      <td>2018-12-29</td>\n",
       "      <td>TANKER</td>\n",
       "      <td>Fortaleza</td>\n",
       "      <td>Brazil</td>\n",
       "      <td>South America</td>\n",
       "      <td>Exits</td>\n",
       "      <td>PARTIAL</td>\n",
       "      <td>1</td>\n",
       "      <td>50082</td>\n",
       "      <td>179</td>\n",
       "      <td>3135.067</td>\n",
       "      <td>2018</td>\n",
       "      <td>50082.000000</td>\n",
       "      <td>MEDIUM TANKER - PARTIAL</td>\n",
       "      <td>2.0</td>\n",
       "    </tr>\n",
       "    <tr>\n",
       "      <th>792122</th>\n",
       "      <td>SMALL</td>\n",
       "      <td>WEEKLY</td>\n",
       "      <td>2018-12-29</td>\n",
       "      <td>TANKER</td>\n",
       "      <td>Paita</td>\n",
       "      <td>Peru</td>\n",
       "      <td>South America</td>\n",
       "      <td>Exits</td>\n",
       "      <td>PARTIAL</td>\n",
       "      <td>1</td>\n",
       "      <td>22354</td>\n",
       "      <td>4699</td>\n",
       "      <td>15622.017</td>\n",
       "      <td>2018</td>\n",
       "      <td>22354.000000</td>\n",
       "      <td>SMALL TANKER - PARTIAL</td>\n",
       "      <td>1.0</td>\n",
       "    </tr>\n",
       "    <tr>\n",
       "      <th>792123</th>\n",
       "      <td>SMALL</td>\n",
       "      <td>WEEKLY</td>\n",
       "      <td>2018-12-29</td>\n",
       "      <td>TANKER</td>\n",
       "      <td>Madre de Deus</td>\n",
       "      <td>Brazil</td>\n",
       "      <td>South America</td>\n",
       "      <td>Exits</td>\n",
       "      <td>PARTIAL</td>\n",
       "      <td>1</td>\n",
       "      <td>47221</td>\n",
       "      <td>3540</td>\n",
       "      <td>2052.150</td>\n",
       "      <td>2018</td>\n",
       "      <td>47221.000000</td>\n",
       "      <td>SMALL TANKER - PARTIAL</td>\n",
       "      <td>1.0</td>\n",
       "    </tr>\n",
       "    <tr>\n",
       "      <th>792124</th>\n",
       "      <td>MEDIUM</td>\n",
       "      <td>WEEKLY</td>\n",
       "      <td>2018-12-29</td>\n",
       "      <td>TANKER</td>\n",
       "      <td>Itaqui</td>\n",
       "      <td>Brazil</td>\n",
       "      <td>South America</td>\n",
       "      <td>Exits</td>\n",
       "      <td>PARTIAL</td>\n",
       "      <td>1</td>\n",
       "      <td>72910</td>\n",
       "      <td>4167</td>\n",
       "      <td>0.000</td>\n",
       "      <td>2018</td>\n",
       "      <td>72910.000000</td>\n",
       "      <td>MEDIUM TANKER - PARTIAL</td>\n",
       "      <td>2.0</td>\n",
       "    </tr>\n",
       "    <tr>\n",
       "      <th>792125</th>\n",
       "      <td>SMALL</td>\n",
       "      <td>WEEKLY</td>\n",
       "      <td>2018-12-29</td>\n",
       "      <td>TANKER</td>\n",
       "      <td>Guayacan</td>\n",
       "      <td>Chile</td>\n",
       "      <td>South America</td>\n",
       "      <td>Exits</td>\n",
       "      <td>PARTIAL</td>\n",
       "      <td>1</td>\n",
       "      <td>49996</td>\n",
       "      <td>11715</td>\n",
       "      <td>759.033</td>\n",
       "      <td>2018</td>\n",
       "      <td>49996.000000</td>\n",
       "      <td>SMALL TANKER - PARTIAL</td>\n",
       "      <td>1.0</td>\n",
       "    </tr>\n",
       "  </tbody>\n",
       "</table>\n",
       "<p>792126 rows × 17 columns</p>\n",
       "</div>"
      ],
      "text/plain": [
       "       ship_size frequency period_ending ship_type        port_name  \\\n",
       "0         MEDIUM   MONTHLY    2018-01-31    BULKER           Durban   \n",
       "1          SMALL   MONTHLY    2018-01-31    BULKER          Abidjan   \n",
       "2         MEDIUM   MONTHLY    2018-01-31    BULKER  Arzew El-Djedid   \n",
       "3          SMALL   MONTHLY    2018-01-31    BULKER             Moma   \n",
       "4          SMALL   MONTHLY    2018-01-31    BULKER  Lagos (Nigeria)   \n",
       "...          ...       ...           ...       ...              ...   \n",
       "792121    MEDIUM    WEEKLY    2018-12-29    TANKER        Fortaleza   \n",
       "792122     SMALL    WEEKLY    2018-12-29    TANKER            Paita   \n",
       "792123     SMALL    WEEKLY    2018-12-29    TANKER    Madre de Deus   \n",
       "792124    MEDIUM    WEEKLY    2018-12-29    TANKER           Itaqui   \n",
       "792125     SMALL    WEEKLY    2018-12-29    TANKER         Guayacan   \n",
       "\n",
       "         port_country region_corridor   metric    draft  ship_count      dwt  \\\n",
       "0        South Africa          Africa  Entries    EMPTY          25  1518305   \n",
       "1       Cote D'ivoire          Africa  Entries    EMPTY           4   123016   \n",
       "2             Algeria          Africa  Entries    EMPTY           3   166488   \n",
       "3          Mozambique          Africa  Entries    EMPTY           1    28392   \n",
       "4             Nigeria          Africa  Entries    EMPTY           3   107440   \n",
       "...               ...             ...      ...      ...         ...      ...   \n",
       "792121         Brazil   South America    Exits  PARTIAL           1    50082   \n",
       "792122           Peru   South America    Exits  PARTIAL           1    22354   \n",
       "792123         Brazil   South America    Exits  PARTIAL           1    47221   \n",
       "792124         Brazil   South America    Exits  PARTIAL           1    72910   \n",
       "792125          Chile   South America    Exits  PARTIAL           1    49996   \n",
       "\n",
       "        modified_dwt  avg_time_spent_mins  year   average_dwt  \\\n",
       "0                  0                  NaN  2018  60732.200000   \n",
       "1                  0                  NaN  2018  30754.000000   \n",
       "2                  0                  NaN  2018  55496.000000   \n",
       "3                  0                  NaN  2018  28392.000000   \n",
       "4                  0                  NaN  2018  35813.333333   \n",
       "...              ...                  ...   ...           ...   \n",
       "792121           179             3135.067  2018  50082.000000   \n",
       "792122          4699            15622.017  2018  22354.000000   \n",
       "792123          3540             2052.150  2018  47221.000000   \n",
       "792124          4167                0.000  2018  72910.000000   \n",
       "792125         11715              759.033  2018  49996.000000   \n",
       "\n",
       "                    description  num_size  \n",
       "0         MEDIUM BULKER - EMPTY       2.0  \n",
       "1          SMALL BULKER - EMPTY       1.0  \n",
       "2         MEDIUM BULKER - EMPTY       2.0  \n",
       "3          SMALL BULKER - EMPTY       1.0  \n",
       "4          SMALL BULKER - EMPTY       1.0  \n",
       "...                         ...       ...  \n",
       "792121  MEDIUM TANKER - PARTIAL       2.0  \n",
       "792122   SMALL TANKER - PARTIAL       1.0  \n",
       "792123   SMALL TANKER - PARTIAL       1.0  \n",
       "792124  MEDIUM TANKER - PARTIAL       2.0  \n",
       "792125   SMALL TANKER - PARTIAL       1.0  \n",
       "\n",
       "[792126 rows x 17 columns]"
      ]
     },
     "execution_count": 160,
     "metadata": {},
     "output_type": "execute_result"
    }
   ],
   "source": [
    "c"
   ]
  },
  {
   "cell_type": "markdown",
   "metadata": {},
   "source": [
    "### Let's Explore our dataset"
   ]
  },
  {
   "cell_type": "code",
   "execution_count": 40,
   "metadata": {},
   "outputs": [
    {
     "data": {
      "text/plain": [
       "Exits      117336\n",
       "Entries    111437\n",
       "Name: metric, dtype: int64"
      ]
     },
     "execution_count": 40,
     "metadata": {},
     "output_type": "execute_result"
    }
   ],
   "source": [
    "# looks like we have two different types of count - ships come in, ships go out\n",
    "df['metric'].value_counts()"
   ]
  },
  {
   "cell_type": "code",
   "execution_count": 57,
   "metadata": {},
   "outputs": [],
   "source": [
    "# let's focus on entries into port\n",
    "df = df[df.metric == 'Entries']"
   ]
  },
  {
   "cell_type": "code",
   "execution_count": 43,
   "metadata": {},
   "outputs": [],
   "source": [
    "df = df[df.metric == 'Entries'].sort_values(by = 'period_ending', ascending = True)"
   ]
  },
  {
   "cell_type": "code",
   "execution_count": null,
   "metadata": {},
   "outputs": [],
   "source": [
    "# Often we want to see the 'wood' (patterns) for the 'trees' (individual bits of data)\n",
    "# Data Scientists achieve that through summarisation or visualisation. \n",
    "# 'Groupby' can be used to group data that share a common field value.\n",
    "# An operation can then be applied (e.g. summing, averaging) to immediately get useful answers\n",
    "# On its own, groupby is more powerful than anything in Excel!"
   ]
  },
  {
   "cell_type": "code",
   "execution_count": 62,
   "metadata": {
    "scrolled": true
   },
   "outputs": [
    {
     "data": {
      "text/plain": [
       "port_country                 port_name               \n",
       "Singapore                    Singapore                   43858\n",
       "United States Of America     US Gulf Lightering Zones    23886\n",
       "Netherlands                  Rotterdam                   22069\n",
       "Korea, South                 Busan                       16730\n",
       "Japan                        Chiba                       14884\n",
       "China, People's Republic Of  Ningbo                      14800\n",
       "                             Shanghai                    14517\n",
       "Hong Kong                    Hong Kong                   14136\n",
       "Korea, South                 Ulsan                       14077\n",
       "Malaysia                     Port Klang                  13113\n",
       "Name: ship_count, dtype: int64"
      ]
     },
     "execution_count": 62,
     "metadata": {},
     "output_type": "execute_result"
    }
   ],
   "source": [
    "# what are the top 10 busiest ports by ship count over the year?\n",
    "df.groupby(['port_country','port_name'])['ship_count'].sum().sort_values(ascending = False).head(10)"
   ]
  },
  {
   "cell_type": "code",
   "execution_count": 64,
   "metadata": {},
   "outputs": [
    {
     "data": {
      "text/plain": [
       "port_country                 port_name               \n",
       "Singapore                    Singapore                   1609553525\n",
       "United States Of America     US Gulf Lightering Zones    1463930974\n",
       "China, People's Republic Of  Ningbo                       959245214\n",
       "Netherlands                  Rotterdam                    833804006\n",
       "Egypt                        Port Said                    648289820\n",
       "Hong Kong                    Hong Kong                    641499278\n",
       "China, People's Republic Of  Qingdao                      616986138\n",
       "Korea, South                 Busan                        616876220\n",
       "China, People's Republic Of  Shanghai                     585545964\n",
       "                             Zhoushan                     559235952\n",
       "Name: dwt, dtype: int64"
      ]
     },
     "execution_count": 64,
     "metadata": {},
     "output_type": "execute_result"
    }
   ],
   "source": [
    "# Does the answer change if we look at deadweight tonage?\n",
    "df.groupby(['port_country','port_name'])['dwt'].sum().sort_values(ascending = False).head(10)"
   ]
  },
  {
   "cell_type": "code",
   "execution_count": 48,
   "metadata": {},
   "outputs": [
    {
     "data": {
      "text/plain": [
       "port_country              port_name               \n",
       "United States Of America  US Gulf Lightering Zones    1168552173\n",
       "Singapore                 Singapore                    612217265\n",
       "Saudi Arabia              Ras Tanura                   436938669\n",
       "Iraq                      Basrah                       377587159\n",
       "Netherlands               Rotterdam                    340119763\n",
       "United States Of America  Houston                      271793383\n",
       "Korea, South              Ulsan                        238514749\n",
       "United Arab Emirates      Fujairah                     222287830\n",
       "Iraq                      Al Basra Oil Terminal        199094629\n",
       "Kuwait                    Mina Al Ahmadi               188050384\n",
       "Name: dwt, dtype: int64"
      ]
     },
     "execution_count": 48,
     "metadata": {},
     "output_type": "execute_result"
    }
   ],
   "source": [
    "# you can pre-filter as well - e.g. what are the 10 busiest \n",
    "# ports by dead weight tonnage for tanker-type ships?\n",
    "df[df.ship_type == 'TANKER'].groupby(\n",
    "    ['port_country','port_name'])['dwt'].sum().sort_values(ascending = False).head(10)"
   ]
  },
  {
   "cell_type": "code",
   "execution_count": 49,
   "metadata": {},
   "outputs": [],
   "source": [
    "# you will notice that these frames look different. that's because when you call \n",
    "# an aggregation on only one column, pandas gives you a pd.Series and not a pd.DataFrame:"
   ]
  },
  {
   "cell_type": "code",
   "execution_count": 50,
   "metadata": {},
   "outputs": [
    {
     "data": {
      "text/plain": [
       "pandas.core.series.Series"
      ]
     },
     "execution_count": 50,
     "metadata": {},
     "output_type": "execute_result"
    }
   ],
   "source": [
    "type(df[df.ship_type == 'TANKER'].groupby(\n",
    "    ['port_country','port_name'])['dwt'].sum().sort_values(ascending = False).head(10))"
   ]
  },
  {
   "cell_type": "code",
   "execution_count": 51,
   "metadata": {},
   "outputs": [
    {
     "data": {
      "text/html": [
       "<div>\n",
       "<style scoped>\n",
       "    .dataframe tbody tr th:only-of-type {\n",
       "        vertical-align: middle;\n",
       "    }\n",
       "\n",
       "    .dataframe tbody tr th {\n",
       "        vertical-align: top;\n",
       "    }\n",
       "\n",
       "    .dataframe thead th {\n",
       "        text-align: right;\n",
       "    }\n",
       "</style>\n",
       "<table border=\"1\" class=\"dataframe\">\n",
       "  <thead>\n",
       "    <tr style=\"text-align: right;\">\n",
       "      <th></th>\n",
       "      <th></th>\n",
       "      <th>dwt</th>\n",
       "    </tr>\n",
       "    <tr>\n",
       "      <th>port_country</th>\n",
       "      <th>port_name</th>\n",
       "      <th></th>\n",
       "    </tr>\n",
       "  </thead>\n",
       "  <tbody>\n",
       "    <tr>\n",
       "      <th>United States Of America</th>\n",
       "      <th>US Gulf Lightering Zones</th>\n",
       "      <td>1168552173</td>\n",
       "    </tr>\n",
       "    <tr>\n",
       "      <th>Singapore</th>\n",
       "      <th>Singapore</th>\n",
       "      <td>612217265</td>\n",
       "    </tr>\n",
       "    <tr>\n",
       "      <th>Saudi Arabia</th>\n",
       "      <th>Ras Tanura</th>\n",
       "      <td>436938669</td>\n",
       "    </tr>\n",
       "    <tr>\n",
       "      <th>Iraq</th>\n",
       "      <th>Basrah</th>\n",
       "      <td>377587159</td>\n",
       "    </tr>\n",
       "    <tr>\n",
       "      <th>Netherlands</th>\n",
       "      <th>Rotterdam</th>\n",
       "      <td>340119763</td>\n",
       "    </tr>\n",
       "    <tr>\n",
       "      <th>United States Of America</th>\n",
       "      <th>Houston</th>\n",
       "      <td>271793383</td>\n",
       "    </tr>\n",
       "    <tr>\n",
       "      <th>Korea, South</th>\n",
       "      <th>Ulsan</th>\n",
       "      <td>238514749</td>\n",
       "    </tr>\n",
       "    <tr>\n",
       "      <th>United Arab Emirates</th>\n",
       "      <th>Fujairah</th>\n",
       "      <td>222287830</td>\n",
       "    </tr>\n",
       "    <tr>\n",
       "      <th>Iraq</th>\n",
       "      <th>Al Basra Oil Terminal</th>\n",
       "      <td>199094629</td>\n",
       "    </tr>\n",
       "    <tr>\n",
       "      <th>Kuwait</th>\n",
       "      <th>Mina Al Ahmadi</th>\n",
       "      <td>188050384</td>\n",
       "    </tr>\n",
       "  </tbody>\n",
       "</table>\n",
       "</div>"
      ],
      "text/plain": [
       "                                                          dwt\n",
       "port_country             port_name                           \n",
       "United States Of America US Gulf Lightering Zones  1168552173\n",
       "Singapore                Singapore                  612217265\n",
       "Saudi Arabia             Ras Tanura                 436938669\n",
       "Iraq                     Basrah                     377587159\n",
       "Netherlands              Rotterdam                  340119763\n",
       "United States Of America Houston                    271793383\n",
       "Korea, South             Ulsan                      238514749\n",
       "United Arab Emirates     Fujairah                   222287830\n",
       "Iraq                     Al Basra Oil Terminal      199094629\n",
       "Kuwait                   Mina Al Ahmadi             188050384"
      ]
     },
     "execution_count": 51,
     "metadata": {},
     "output_type": "execute_result"
    }
   ],
   "source": [
    "# you can force it to return a DataFrame by asking for the column with double brackets:\n",
    "df[df.ship_type == 'TANKER'].groupby(\n",
    "    ['port_country','port_name'])[['dwt']].sum().sort_values(by = 'dwt', ascending = False).head(10)"
   ]
  },
  {
   "cell_type": "code",
   "execution_count": 52,
   "metadata": {},
   "outputs": [],
   "source": [
    "# the returned object can be assigned to a variable, e.g. sdf:\n",
    "sdf = df[df.ship_type == 'TANKER'].groupby(\n",
    "    ['port_country','port_name'])[['dwt']].sum().sort_values(\n",
    "        by = 'dwt', ascending = False).head(10)"
   ]
  },
  {
   "cell_type": "code",
   "execution_count": 53,
   "metadata": {},
   "outputs": [
    {
     "data": {
      "text/html": [
       "<div>\n",
       "<style scoped>\n",
       "    .dataframe tbody tr th:only-of-type {\n",
       "        vertical-align: middle;\n",
       "    }\n",
       "\n",
       "    .dataframe tbody tr th {\n",
       "        vertical-align: top;\n",
       "    }\n",
       "\n",
       "    .dataframe thead th {\n",
       "        text-align: right;\n",
       "    }\n",
       "</style>\n",
       "<table border=\"1\" class=\"dataframe\">\n",
       "  <thead>\n",
       "    <tr style=\"text-align: right;\">\n",
       "      <th></th>\n",
       "      <th></th>\n",
       "      <th>dwt</th>\n",
       "    </tr>\n",
       "    <tr>\n",
       "      <th>port_country</th>\n",
       "      <th>port_name</th>\n",
       "      <th></th>\n",
       "    </tr>\n",
       "  </thead>\n",
       "  <tbody>\n",
       "    <tr>\n",
       "      <th>United States Of America</th>\n",
       "      <th>US Gulf Lightering Zones</th>\n",
       "      <td>1168552173</td>\n",
       "    </tr>\n",
       "    <tr>\n",
       "      <th>Singapore</th>\n",
       "      <th>Singapore</th>\n",
       "      <td>612217265</td>\n",
       "    </tr>\n",
       "    <tr>\n",
       "      <th>Saudi Arabia</th>\n",
       "      <th>Ras Tanura</th>\n",
       "      <td>436938669</td>\n",
       "    </tr>\n",
       "    <tr>\n",
       "      <th>Iraq</th>\n",
       "      <th>Basrah</th>\n",
       "      <td>377587159</td>\n",
       "    </tr>\n",
       "    <tr>\n",
       "      <th>Netherlands</th>\n",
       "      <th>Rotterdam</th>\n",
       "      <td>340119763</td>\n",
       "    </tr>\n",
       "    <tr>\n",
       "      <th>United States Of America</th>\n",
       "      <th>Houston</th>\n",
       "      <td>271793383</td>\n",
       "    </tr>\n",
       "    <tr>\n",
       "      <th>Korea, South</th>\n",
       "      <th>Ulsan</th>\n",
       "      <td>238514749</td>\n",
       "    </tr>\n",
       "    <tr>\n",
       "      <th>United Arab Emirates</th>\n",
       "      <th>Fujairah</th>\n",
       "      <td>222287830</td>\n",
       "    </tr>\n",
       "    <tr>\n",
       "      <th>Iraq</th>\n",
       "      <th>Al Basra Oil Terminal</th>\n",
       "      <td>199094629</td>\n",
       "    </tr>\n",
       "    <tr>\n",
       "      <th>Kuwait</th>\n",
       "      <th>Mina Al Ahmadi</th>\n",
       "      <td>188050384</td>\n",
       "    </tr>\n",
       "  </tbody>\n",
       "</table>\n",
       "</div>"
      ],
      "text/plain": [
       "                                                          dwt\n",
       "port_country             port_name                           \n",
       "United States Of America US Gulf Lightering Zones  1168552173\n",
       "Singapore                Singapore                  612217265\n",
       "Saudi Arabia             Ras Tanura                 436938669\n",
       "Iraq                     Basrah                     377587159\n",
       "Netherlands              Rotterdam                  340119763\n",
       "United States Of America Houston                    271793383\n",
       "Korea, South             Ulsan                      238514749\n",
       "United Arab Emirates     Fujairah                   222287830\n",
       "Iraq                     Al Basra Oil Terminal      199094629\n",
       "Kuwait                   Mina Al Ahmadi             188050384"
      ]
     },
     "execution_count": 53,
     "metadata": {},
     "output_type": "execute_result"
    }
   ],
   "source": [
    "sdf"
   ]
  },
  {
   "cell_type": "code",
   "execution_count": 116,
   "metadata": {},
   "outputs": [
    {
     "data": {
      "text/plain": [
       "pandas.core.frame.DataFrame"
      ]
     },
     "execution_count": 116,
     "metadata": {},
     "output_type": "execute_result"
    }
   ],
   "source": [
    "type(sdf)"
   ]
  },
  {
   "cell_type": "code",
   "execution_count": 117,
   "metadata": {},
   "outputs": [
    {
     "data": {
      "text/plain": [
       "MultiIndex([('United States Of America', 'US Gulf Lightering Zones'),\n",
       "            (               'Singapore',                'Singapore'),\n",
       "            (            'Saudi Arabia',               'Ras Tanura'),\n",
       "            (                    'Iraq',                   'Basrah'),\n",
       "            (             'Netherlands',                'Rotterdam'),\n",
       "            ('United States Of America',                  'Houston'),\n",
       "            (            'Korea, South',                    'Ulsan'),\n",
       "            (    'United Arab Emirates',                 'Fujairah'),\n",
       "            (                    'Iraq',    'Al Basra Oil Terminal'),\n",
       "            (                  'Kuwait',           'Mina Al Ahmadi')],\n",
       "           names=['port_country', 'port_name'])"
      ]
     },
     "execution_count": 117,
     "metadata": {},
     "output_type": "execute_result"
    }
   ],
   "source": [
    "# here, because we are grouping by more than one column, we get a multi-index return\n",
    "sdf.index"
   ]
  },
  {
   "cell_type": "code",
   "execution_count": 120,
   "metadata": {},
   "outputs": [],
   "source": [
    "# we can return this to a standard df with reset_index()\n",
    "sdf = sdf.reset_index()"
   ]
  },
  {
   "cell_type": "code",
   "execution_count": 121,
   "metadata": {
    "scrolled": true
   },
   "outputs": [
    {
     "data": {
      "text/html": [
       "<div>\n",
       "<style scoped>\n",
       "    .dataframe tbody tr th:only-of-type {\n",
       "        vertical-align: middle;\n",
       "    }\n",
       "\n",
       "    .dataframe tbody tr th {\n",
       "        vertical-align: top;\n",
       "    }\n",
       "\n",
       "    .dataframe thead th {\n",
       "        text-align: right;\n",
       "    }\n",
       "</style>\n",
       "<table border=\"1\" class=\"dataframe\">\n",
       "  <thead>\n",
       "    <tr style=\"text-align: right;\">\n",
       "      <th></th>\n",
       "      <th>port_country</th>\n",
       "      <th>port_name</th>\n",
       "      <th>dwt</th>\n",
       "    </tr>\n",
       "  </thead>\n",
       "  <tbody>\n",
       "    <tr>\n",
       "      <th>0</th>\n",
       "      <td>United States Of America</td>\n",
       "      <td>US Gulf Lightering Zones</td>\n",
       "      <td>4650433492</td>\n",
       "    </tr>\n",
       "    <tr>\n",
       "      <th>1</th>\n",
       "      <td>Singapore</td>\n",
       "      <td>Singapore</td>\n",
       "      <td>2431838141</td>\n",
       "    </tr>\n",
       "    <tr>\n",
       "      <th>2</th>\n",
       "      <td>Saudi Arabia</td>\n",
       "      <td>Ras Tanura</td>\n",
       "      <td>1738161111</td>\n",
       "    </tr>\n",
       "    <tr>\n",
       "      <th>3</th>\n",
       "      <td>Iraq</td>\n",
       "      <td>Basrah</td>\n",
       "      <td>1502574759</td>\n",
       "    </tr>\n",
       "    <tr>\n",
       "      <th>4</th>\n",
       "      <td>Netherlands</td>\n",
       "      <td>Rotterdam</td>\n",
       "      <td>1353235752</td>\n",
       "    </tr>\n",
       "    <tr>\n",
       "      <th>5</th>\n",
       "      <td>United States Of America</td>\n",
       "      <td>Houston</td>\n",
       "      <td>1085050281</td>\n",
       "    </tr>\n",
       "    <tr>\n",
       "      <th>6</th>\n",
       "      <td>Korea, South</td>\n",
       "      <td>Ulsan</td>\n",
       "      <td>939529320</td>\n",
       "    </tr>\n",
       "    <tr>\n",
       "      <th>7</th>\n",
       "      <td>United Arab Emirates</td>\n",
       "      <td>Fujairah</td>\n",
       "      <td>883375609</td>\n",
       "    </tr>\n",
       "    <tr>\n",
       "      <th>8</th>\n",
       "      <td>Iraq</td>\n",
       "      <td>Al Basra Oil Terminal</td>\n",
       "      <td>797275963</td>\n",
       "    </tr>\n",
       "    <tr>\n",
       "      <th>9</th>\n",
       "      <td>Kuwait</td>\n",
       "      <td>Mina Al Ahmadi</td>\n",
       "      <td>740485566</td>\n",
       "    </tr>\n",
       "  </tbody>\n",
       "</table>\n",
       "</div>"
      ],
      "text/plain": [
       "               port_country                 port_name         dwt\n",
       "0  United States Of America  US Gulf Lightering Zones  4650433492\n",
       "1                 Singapore                 Singapore  2431838141\n",
       "2              Saudi Arabia                Ras Tanura  1738161111\n",
       "3                      Iraq                    Basrah  1502574759\n",
       "4               Netherlands                 Rotterdam  1353235752\n",
       "5  United States Of America                   Houston  1085050281\n",
       "6              Korea, South                     Ulsan   939529320\n",
       "7      United Arab Emirates                  Fujairah   883375609\n",
       "8                      Iraq     Al Basra Oil Terminal   797275963\n",
       "9                    Kuwait            Mina Al Ahmadi   740485566"
      ]
     },
     "execution_count": 121,
     "metadata": {},
     "output_type": "execute_result"
    }
   ],
   "source": [
    "sdf"
   ]
  },
  {
   "cell_type": "code",
   "execution_count": 123,
   "metadata": {},
   "outputs": [
    {
     "data": {
      "text/plain": [
       "<AxesSubplot: xlabel='port_name'>"
      ]
     },
     "execution_count": 123,
     "metadata": {},
     "output_type": "execute_result"
    },
    {
     "data": {
      "image/png": "[encoded data removed]",
      "text/plain": [
       "<Figure size 640x480 with 1 Axes>"
      ]
     },
     "metadata": {},
     "output_type": "display_data"
    }
   ],
   "source": [
    "# very basic visualisation is built in to pandas:\n",
    "sdf.set_index('port_name')['dwt'].plot.bar()"
   ]
  },
  {
   "cell_type": "code",
   "execution_count": 176,
   "metadata": {
    "scrolled": true
   },
   "outputs": [
    {
     "data": {
      "text/plain": [
       "count    792126.0\n",
       "mean      55570.0\n",
       "std       56927.0\n",
       "min         236.0\n",
       "50%       37830.0\n",
       "90%      114724.0\n",
       "95%      177940.0\n",
       "97.5%    207872.0\n",
       "99%      302650.0\n",
       "max      403880.0\n",
       "Name: average_dwt, dtype: float64"
      ]
     },
     "execution_count": 176,
     "metadata": {},
     "output_type": "execute_result"
    }
   ],
   "source": [
    "df['average_dwt'].describe([.9,.95,.975,.99]).round(0)"
   ]
  },
  {
   "cell_type": "code",
   "execution_count": 190,
   "metadata": {},
   "outputs": [
    {
     "data": {
      "text/plain": [
       "<AxesSubplot: title={'center': 'Average DWT'}, ylabel='Frequency'>"
      ]
     },
     "execution_count": 190,
     "metadata": {},
     "output_type": "execute_result"
    },
    {
     "data": {
      "image/png": "[encoded data removed]",
      "text/plain": [
       "<Figure size 640x480 with 1 Axes>"
      ]
     },
     "metadata": {},
     "output_type": "display_data"
    }
   ],
   "source": [
    "df['average_dwt'].plot.hist(by=None, bins=10, title = 'Average DWT')"
   ]
  },
  {
   "cell_type": "code",
   "execution_count": null,
   "metadata": {},
   "outputs": [],
   "source": []
  },
  {
   "cell_type": "code",
   "execution_count": 58,
   "metadata": {},
   "outputs": [],
   "source": [
    "df['month'] = pd.to_datetime(df['period_ending']).dt.month"
   ]
  },
  {
   "cell_type": "code",
   "execution_count": 63,
   "metadata": {
    "scrolled": true
   },
   "outputs": [
    {
     "data": {
      "text/plain": [
       "Asia               39334\n",
       "Europe             23003\n",
       "South America      11368\n",
       "Middle East         9970\n",
       "North America       9873\n",
       "Africa              7665\n",
       "Oceania             4954\n",
       "Central America     3410\n",
       "Caribbean           1860\n",
       "Name: region_corridor, dtype: int64"
      ]
     },
     "execution_count": 63,
     "metadata": {},
     "output_type": "execute_result"
    }
   ],
   "source": [
    "df['region_corridor'].value_counts()"
   ]
  },
  {
   "cell_type": "markdown",
   "metadata": {},
   "source": [
    "### Plotly Express\n",
    "- Make better looking plots with more flexibility in plotly"
   ]
  },
  {
   "cell_type": "code",
   "execution_count": 91,
   "metadata": {},
   "outputs": [
    {
     "data": {
      "application/vnd.plotly.v1+json": {
       "config": {
        "plotlyServerURL": "https://plot.ly"
       },
       "data": [
        {
         "hovertemplate": "Region Corridor=Africa<br>Month=%{x}<br>Dead Weight Tonnage (dwt)=%{y}<extra></extra>",
         "legendgroup": "Africa",
         "line": {
          "color": "#636efa",
          "dash": "solid",
          "shape": "spline"
         },
         "marker": {
          "symbol": "circle"
         },
         "mode": "lines",
         "name": "Africa",
         "orientation": "v",
         "showlegend": true,
         "type": "scatter",
         "x": [
          1,
          2,
          3,
          4,
          5,
          6,
          7,
          8,
          9,
          10,
          11,
          12
         ],
         "xaxis": "x",
         "y": [
          237123278,
          217691327,
          235067390,
          242498244,
          247306633,
          243786054,
          256592792,
          247870871,
          222480660,
          241452301,
          234958394,
          231238352
         ],
         "yaxis": "y"
        },
        {
         "hovertemplate": "Region Corridor=Asia<br>Month=%{x}<br>Dead Weight Tonnage (dwt)=%{y}<extra></extra>",
         "legendgroup": "Asia",
         "line": {
          "color": "#EF553B",
          "dash": "solid",
          "shape": "spline"
         },
         "marker": {
          "symbol": "circle"
         },
         "mode": "lines",
         "name": "Asia",
         "orientation": "v",
         "showlegend": true,
         "type": "scatter",
         "x": [
          1,
          2,
          3,
          4,
          5,
          6,
          7,
          8,
          9,
          10,
          11,
          12
         ],
         "xaxis": "x",
         "y": [
          1905963427,
          1703144596,
          1948703513,
          1997078502,
          2060003705,
          1990475820,
          2046028000,
          2007679995,
          1984187402,
          2014263882,
          1963723721,
          2001419093
         ],
         "yaxis": "y"
        },
        {
         "hovertemplate": "Region Corridor=Caribbean<br>Month=%{x}<br>Dead Weight Tonnage (dwt)=%{y}<extra></extra>",
         "legendgroup": "Caribbean",
         "line": {
          "color": "#00cc96",
          "dash": "solid",
          "shape": "spline"
         },
         "marker": {
          "symbol": "circle"
         },
         "mode": "lines",
         "name": "Caribbean",
         "orientation": "v",
         "showlegend": true,
         "type": "scatter",
         "x": [
          1,
          2,
          3,
          4,
          5,
          6,
          7,
          8,
          9,
          10,
          11,
          12
         ],
         "xaxis": "x",
         "y": [
          36440546,
          34380974,
          37673443,
          36492641,
          39700250,
          38930215,
          38383120,
          39884141,
          34155971,
          38076803,
          34361426,
          37744507
         ],
         "yaxis": "y"
        },
        {
         "hovertemplate": "Region Corridor=Central America<br>Month=%{x}<br>Dead Weight Tonnage (dwt)=%{y}<extra></extra>",
         "legendgroup": "Central America",
         "line": {
          "color": "#ab63fa",
          "dash": "solid",
          "shape": "spline"
         },
         "marker": {
          "symbol": "circle"
         },
         "mode": "lines",
         "name": "Central America",
         "orientation": "v",
         "showlegend": true,
         "type": "scatter",
         "x": [
          1,
          2,
          3,
          4,
          5,
          6,
          7,
          8,
          9,
          10,
          11,
          12
         ],
         "xaxis": "x",
         "y": [
          84438535,
          81285443,
          90335759,
          87162978,
          95842611,
          92883610,
          95556440,
          94111899,
          90477077,
          93979356,
          88541203,
          92203551
         ],
         "yaxis": "y"
        },
        {
         "hovertemplate": "Region Corridor=Europe<br>Month=%{x}<br>Dead Weight Tonnage (dwt)=%{y}<extra></extra>",
         "legendgroup": "Europe",
         "line": {
          "color": "#FFA15A",
          "dash": "solid",
          "shape": "spline"
         },
         "marker": {
          "symbol": "circle"
         },
         "mode": "lines",
         "name": "Europe",
         "orientation": "v",
         "showlegend": true,
         "type": "scatter",
         "x": [
          1,
          2,
          3,
          4,
          5,
          6,
          7,
          8,
          9,
          10,
          11,
          12
         ],
         "xaxis": "x",
         "y": [
          633936095,
          583592231,
          634105397,
          621807152,
          655124746,
          618456099,
          653957852,
          647473466,
          613500052,
          659254543,
          627606304,
          639342662
         ],
         "yaxis": "y"
        },
        {
         "hovertemplate": "Region Corridor=Middle East<br>Month=%{x}<br>Dead Weight Tonnage (dwt)=%{y}<extra></extra>",
         "legendgroup": "Middle East",
         "line": {
          "color": "#19d3f3",
          "dash": "solid",
          "shape": "spline"
         },
         "marker": {
          "symbol": "circle"
         },
         "mode": "lines",
         "name": "Middle East",
         "orientation": "v",
         "showlegend": true,
         "type": "scatter",
         "x": [
          1,
          2,
          3,
          4,
          5,
          6,
          7,
          8,
          9,
          10,
          11,
          12
         ],
         "xaxis": "x",
         "y": [
          392515749,
          399757936,
          439481541,
          434729359,
          455665961,
          446413496,
          457695832,
          455778307,
          447975305,
          406667664,
          364996844,
          361402850
         ],
         "yaxis": "y"
        },
        {
         "hovertemplate": "Region Corridor=North America<br>Month=%{x}<br>Dead Weight Tonnage (dwt)=%{y}<extra></extra>",
         "legendgroup": "North America",
         "line": {
          "color": "#FF6692",
          "dash": "solid",
          "shape": "spline"
         },
         "marker": {
          "symbol": "circle"
         },
         "mode": "lines",
         "name": "North America",
         "orientation": "v",
         "showlegend": true,
         "type": "scatter",
         "x": [
          1,
          2,
          3,
          4,
          5,
          6,
          7,
          8,
          9,
          10,
          11,
          12
         ],
         "xaxis": "x",
         "y": [
          446657094,
          424003336,
          477559080,
          484628781,
          490209234,
          475438591,
          502651116,
          453794079,
          461071318,
          486616913,
          438163597,
          504869302
         ],
         "yaxis": "y"
        },
        {
         "hovertemplate": "Region Corridor=Oceania<br>Month=%{x}<br>Dead Weight Tonnage (dwt)=%{y}<extra></extra>",
         "legendgroup": "Oceania",
         "line": {
          "color": "#B6E880",
          "dash": "solid",
          "shape": "spline"
         },
         "marker": {
          "symbol": "circle"
         },
         "mode": "lines",
         "name": "Oceania",
         "orientation": "v",
         "showlegend": true,
         "type": "scatter",
         "x": [
          1,
          2,
          3,
          4,
          5,
          6,
          7,
          8,
          9,
          10,
          11,
          12
         ],
         "xaxis": "x",
         "y": [
          190988498,
          183231680,
          198366412,
          199141304,
          204134415,
          209323291,
          202156101,
          201384508,
          198181172,
          202374528,
          198652440,
          214323085
         ],
         "yaxis": "y"
        },
        {
         "hovertemplate": "Region Corridor=South America<br>Month=%{x}<br>Dead Weight Tonnage (dwt)=%{y}<extra></extra>",
         "legendgroup": "South America",
         "line": {
          "color": "#FF97FF",
          "dash": "solid",
          "shape": "spline"
         },
         "marker": {
          "symbol": "circle"
         },
         "mode": "lines",
         "name": "South America",
         "orientation": "v",
         "showlegend": true,
         "type": "scatter",
         "x": [
          1,
          2,
          3,
          4,
          5,
          6,
          7,
          8,
          9,
          10,
          11,
          12
         ],
         "xaxis": "x",
         "y": [
          295535219,
          270497298,
          303541129,
          301363033,
          313022203,
          305030030,
          306597960,
          323061027,
          309773556,
          308281452,
          305163126,
          319128084
         ],
         "yaxis": "y"
        }
       ],
       "layout": {
        "height": 750,
        "legend": {
         "title": {
          "text": "Region Corridor"
         },
         "tracegroupgap": 0
        },
        "template": {
         "data": {
          "bar": [
           {
            "error_x": {
             "color": "#2a3f5f"
            },
            "error_y": {
             "color": "#2a3f5f"
            },
            "marker": {
             "line": {
              "color": "#E5ECF6",
              "width": 0.5
             },
             "pattern": {
              "fillmode": "overlay",
              "size": 10,
              "solidity": 0.2
             }
            },
            "type": "bar"
           }
          ],
          "barpolar": [
           {
            "marker": {
             "line": {
              "color": "#E5ECF6",
              "width": 0.5
             },
             "pattern": {
              "fillmode": "overlay",
              "size": 10,
              "solidity": 0.2
             }
            },
            "type": "barpolar"
           }
          ],
          "carpet": [
           {
            "aaxis": {
             "endlinecolor": "#2a3f5f",
             "gridcolor": "white",
             "linecolor": "white",
             "minorgridcolor": "white",
             "startlinecolor": "#2a3f5f"
            },
            "baxis": {
             "endlinecolor": "#2a3f5f",
             "gridcolor": "white",
             "linecolor": "white",
             "minorgridcolor": "white",
             "startlinecolor": "#2a3f5f"
            },
            "type": "carpet"
           }
          ],
          "choropleth": [
           {
            "colorbar": {
             "outlinewidth": 0,
             "ticks": ""
            },
            "type": "choropleth"
           }
          ],
          "contour": [
           {
            "colorbar": {
             "outlinewidth": 0,
             "ticks": ""
            },
            "colorscale": [
             [
              0,
              "#0d0887"
             ],
             [
              0.1111111111111111,
              "#46039f"
             ],
             [
              0.2222222222222222,
              "#7201a8"
             ],
             [
              0.3333333333333333,
              "#9c179e"
             ],
             [
              0.4444444444444444,
              "#bd3786"
             ],
             [
              0.5555555555555556,
              "#d8576b"
             ],
             [
              0.6666666666666666,
              "#ed7953"
             ],
             [
              0.7777777777777778,
              "#fb9f3a"
             ],
             [
              0.8888888888888888,
              "#fdca26"
             ],
             [
              1,
              "#f0f921"
             ]
            ],
            "type": "contour"
           }
          ],
          "contourcarpet": [
           {
            "colorbar": {
             "outlinewidth": 0,
             "ticks": ""
            },
            "type": "contourcarpet"
           }
          ],
          "heatmap": [
           {
            "colorbar": {
             "outlinewidth": 0,
             "ticks": ""
            },
            "colorscale": [
             [
              0,
              "#0d0887"
             ],
             [
              0.1111111111111111,
              "#46039f"
             ],
             [
              0.2222222222222222,
              "#7201a8"
             ],
             [
              0.3333333333333333,
              "#9c179e"
             ],
             [
              0.4444444444444444,
              "#bd3786"
             ],
             [
              0.5555555555555556,
              "#d8576b"
             ],
             [
              0.6666666666666666,
              "#ed7953"
             ],
             [
              0.7777777777777778,
              "#fb9f3a"
             ],
             [
              0.8888888888888888,
              "#fdca26"
             ],
             [
              1,
              "#f0f921"
             ]
            ],
            "type": "heatmap"
           }
          ],
          "heatmapgl": [
           {
            "colorbar": {
             "outlinewidth": 0,
             "ticks": ""
            },
            "colorscale": [
             [
              0,
              "#0d0887"
             ],
             [
              0.1111111111111111,
              "#46039f"
             ],
             [
              0.2222222222222222,
              "#7201a8"
             ],
             [
              0.3333333333333333,
              "#9c179e"
             ],
             [
              0.4444444444444444,
              "#bd3786"
             ],
             [
              0.5555555555555556,
              "#d8576b"
             ],
             [
              0.6666666666666666,
              "#ed7953"
             ],
             [
              0.7777777777777778,
              "#fb9f3a"
             ],
             [
              0.8888888888888888,
              "#fdca26"
             ],
             [
              1,
              "#f0f921"
             ]
            ],
            "type": "heatmapgl"
           }
          ],
          "histogram": [
           {
            "marker": {
             "pattern": {
              "fillmode": "overlay",
              "size": 10,
              "solidity": 0.2
             }
            },
            "type": "histogram"
           }
          ],
          "histogram2d": [
           {
            "colorbar": {
             "outlinewidth": 0,
             "ticks": ""
            },
            "colorscale": [
             [
              0,
              "#0d0887"
             ],
             [
              0.1111111111111111,
              "#46039f"
             ],
             [
              0.2222222222222222,
              "#7201a8"
             ],
             [
              0.3333333333333333,
              "#9c179e"
             ],
             [
              0.4444444444444444,
              "#bd3786"
             ],
             [
              0.5555555555555556,
              "#d8576b"
             ],
             [
              0.6666666666666666,
              "#ed7953"
             ],
             [
              0.7777777777777778,
              "#fb9f3a"
             ],
             [
              0.8888888888888888,
              "#fdca26"
             ],
             [
              1,
              "#f0f921"
             ]
            ],
            "type": "histogram2d"
           }
          ],
          "histogram2dcontour": [
           {
            "colorbar": {
             "outlinewidth": 0,
             "ticks": ""
            },
            "colorscale": [
             [
              0,
              "#0d0887"
             ],
             [
              0.1111111111111111,
              "#46039f"
             ],
             [
              0.2222222222222222,
              "#7201a8"
             ],
             [
              0.3333333333333333,
              "#9c179e"
             ],
             [
              0.4444444444444444,
              "#bd3786"
             ],
             [
              0.5555555555555556,
              "#d8576b"
             ],
             [
              0.6666666666666666,
              "#ed7953"
             ],
             [
              0.7777777777777778,
              "#fb9f3a"
             ],
             [
              0.8888888888888888,
              "#fdca26"
             ],
             [
              1,
              "#f0f921"
             ]
            ],
            "type": "histogram2dcontour"
           }
          ],
          "mesh3d": [
           {
            "colorbar": {
             "outlinewidth": 0,
             "ticks": ""
            },
            "type": "mesh3d"
           }
          ],
          "parcoords": [
           {
            "line": {
             "colorbar": {
              "outlinewidth": 0,
              "ticks": ""
             }
            },
            "type": "parcoords"
           }
          ],
          "pie": [
           {
            "automargin": true,
            "type": "pie"
           }
          ],
          "scatter": [
           {
            "fillpattern": {
             "fillmode": "overlay",
             "size": 10,
             "solidity": 0.2
            },
            "type": "scatter"
           }
          ],
          "scatter3d": [
           {
            "line": {
             "colorbar": {
              "outlinewidth": 0,
              "ticks": ""
             }
            },
            "marker": {
             "colorbar": {
              "outlinewidth": 0,
              "ticks": ""
             }
            },
            "type": "scatter3d"
           }
          ],
          "scattercarpet": [
           {
            "marker": {
             "colorbar": {
              "outlinewidth": 0,
              "ticks": ""
             }
            },
            "type": "scattercarpet"
           }
          ],
          "scattergeo": [
           {
            "marker": {
             "colorbar": {
              "outlinewidth": 0,
              "ticks": ""
             }
            },
            "type": "scattergeo"
           }
          ],
          "scattergl": [
           {
            "marker": {
             "colorbar": {
              "outlinewidth": 0,
              "ticks": ""
             }
            },
            "type": "scattergl"
           }
          ],
          "scattermapbox": [
           {
            "marker": {
             "colorbar": {
              "outlinewidth": 0,
              "ticks": ""
             }
            },
            "type": "scattermapbox"
           }
          ],
          "scatterpolar": [
           {
            "marker": {
             "colorbar": {
              "outlinewidth": 0,
              "ticks": ""
             }
            },
            "type": "scatterpolar"
           }
          ],
          "scatterpolargl": [
           {
            "marker": {
             "colorbar": {
              "outlinewidth": 0,
              "ticks": ""
             }
            },
            "type": "scatterpolargl"
           }
          ],
          "scatterternary": [
           {
            "marker": {
             "colorbar": {
              "outlinewidth": 0,
              "ticks": ""
             }
            },
            "type": "scatterternary"
           }
          ],
          "surface": [
           {
            "colorbar": {
             "outlinewidth": 0,
             "ticks": ""
            },
            "colorscale": [
             [
              0,
              "#0d0887"
             ],
             [
              0.1111111111111111,
              "#46039f"
             ],
             [
              0.2222222222222222,
              "#7201a8"
             ],
             [
              0.3333333333333333,
              "#9c179e"
             ],
             [
              0.4444444444444444,
              "#bd3786"
             ],
             [
              0.5555555555555556,
              "#d8576b"
             ],
             [
              0.6666666666666666,
              "#ed7953"
             ],
             [
              0.7777777777777778,
              "#fb9f3a"
             ],
             [
              0.8888888888888888,
              "#fdca26"
             ],
             [
              1,
              "#f0f921"
             ]
            ],
            "type": "surface"
           }
          ],
          "table": [
           {
            "cells": {
             "fill": {
              "color": "#EBF0F8"
             },
             "line": {
              "color": "white"
             }
            },
            "header": {
             "fill": {
              "color": "#C8D4E3"
             },
             "line": {
              "color": "white"
             }
            },
            "type": "table"
           }
          ]
         },
         "layout": {
          "annotationdefaults": {
           "arrowcolor": "#2a3f5f",
           "arrowhead": 0,
           "arrowwidth": 1
          },
          "autotypenumbers": "strict",
          "coloraxis": {
           "colorbar": {
            "outlinewidth": 0,
            "ticks": ""
           }
          },
          "colorscale": {
           "diverging": [
            [
             0,
             "#8e0152"
            ],
            [
             0.1,
             "#c51b7d"
            ],
            [
             0.2,
             "#de77ae"
            ],
            [
             0.3,
             "#f1b6da"
            ],
            [
             0.4,
             "#fde0ef"
            ],
            [
             0.5,
             "#f7f7f7"
            ],
            [
             0.6,
             "#e6f5d0"
            ],
            [
             0.7,
             "#b8e186"
            ],
            [
             0.8,
             "#7fbc41"
            ],
            [
             0.9,
             "#4d9221"
            ],
            [
             1,
             "#276419"
            ]
           ],
           "sequential": [
            [
             0,
             "#0d0887"
            ],
            [
             0.1111111111111111,
             "#46039f"
            ],
            [
             0.2222222222222222,
             "#7201a8"
            ],
            [
             0.3333333333333333,
             "#9c179e"
            ],
            [
             0.4444444444444444,
             "#bd3786"
            ],
            [
             0.5555555555555556,
             "#d8576b"
            ],
            [
             0.6666666666666666,
             "#ed7953"
            ],
            [
             0.7777777777777778,
             "#fb9f3a"
            ],
            [
             0.8888888888888888,
             "#fdca26"
            ],
            [
             1,
             "#f0f921"
            ]
           ],
           "sequentialminus": [
            [
             0,
             "#0d0887"
            ],
            [
             0.1111111111111111,
             "#46039f"
            ],
            [
             0.2222222222222222,
             "#7201a8"
            ],
            [
             0.3333333333333333,
             "#9c179e"
            ],
            [
             0.4444444444444444,
             "#bd3786"
            ],
            [
             0.5555555555555556,
             "#d8576b"
            ],
            [
             0.6666666666666666,
             "#ed7953"
            ],
            [
             0.7777777777777778,
             "#fb9f3a"
            ],
            [
             0.8888888888888888,
             "#fdca26"
            ],
            [
             1,
             "#f0f921"
            ]
           ]
          },
          "colorway": [
           "#636efa",
           "#EF553B",
           "#00cc96",
           "#ab63fa",
           "#FFA15A",
           "#19d3f3",
           "#FF6692",
           "#B6E880",
           "#FF97FF",
           "#FECB52"
          ],
          "font": {
           "color": "#2a3f5f"
          },
          "geo": {
           "bgcolor": "white",
           "lakecolor": "white",
           "landcolor": "#E5ECF6",
           "showlakes": true,
           "showland": true,
           "subunitcolor": "white"
          },
          "hoverlabel": {
           "align": "left"
          },
          "hovermode": "closest",
          "mapbox": {
           "style": "light"
          },
          "paper_bgcolor": "white",
          "plot_bgcolor": "#E5ECF6",
          "polar": {
           "angularaxis": {
            "gridcolor": "white",
            "linecolor": "white",
            "ticks": ""
           },
           "bgcolor": "#E5ECF6",
           "radialaxis": {
            "gridcolor": "white",
            "linecolor": "white",
            "ticks": ""
           }
          },
          "scene": {
           "xaxis": {
            "backgroundcolor": "#E5ECF6",
            "gridcolor": "white",
            "gridwidth": 2,
            "linecolor": "white",
            "showbackground": true,
            "ticks": "",
            "zerolinecolor": "white"
           },
           "yaxis": {
            "backgroundcolor": "#E5ECF6",
            "gridcolor": "white",
            "gridwidth": 2,
            "linecolor": "white",
            "showbackground": true,
            "ticks": "",
            "zerolinecolor": "white"
           },
           "zaxis": {
            "backgroundcolor": "#E5ECF6",
            "gridcolor": "white",
            "gridwidth": 2,
            "linecolor": "white",
            "showbackground": true,
            "ticks": "",
            "zerolinecolor": "white"
           }
          },
          "shapedefaults": {
           "line": {
            "color": "#2a3f5f"
           }
          },
          "ternary": {
           "aaxis": {
            "gridcolor": "white",
            "linecolor": "white",
            "ticks": ""
           },
           "baxis": {
            "gridcolor": "white",
            "linecolor": "white",
            "ticks": ""
           },
           "bgcolor": "#E5ECF6",
           "caxis": {
            "gridcolor": "white",
            "linecolor": "white",
            "ticks": ""
           }
          },
          "title": {
           "x": 0.05
          },
          "xaxis": {
           "automargin": true,
           "gridcolor": "white",
           "linecolor": "white",
           "ticks": "",
           "title": {
            "standoff": 15
           },
           "zerolinecolor": "white",
           "zerolinewidth": 2
          },
          "yaxis": {
           "automargin": true,
           "gridcolor": "white",
           "linecolor": "white",
           "ticks": "",
           "title": {
            "standoff": 15
           },
           "zerolinecolor": "white",
           "zerolinewidth": 2
          }
         }
        },
        "title": {
         "text": "Total Dead Weight Tonnage by Shipping Region Corridor"
        },
        "xaxis": {
         "anchor": "y",
         "domain": [
          0,
          1
         ],
         "title": {
          "text": "Month"
         }
        },
        "yaxis": {
         "anchor": "x",
         "domain": [
          0,
          1
         ],
         "title": {
          "text": "Dead Weight Tonnage (dwt)"
         }
        }
       }
      },
      "text/html": [
       "<div>                            <div id=\"2f60278a-905a-4326-9718-96b4f53a50b8\" class=\"plotly-graph-div\" style=\"height:750px; width:100%;\"></div>            <script type=\"text/javascript\">                require([\"plotly\"], function(Plotly) {                    window.PLOTLYENV=window.PLOTLYENV || {};                                    if (document.getElementById(\"2f60278a-905a-4326-9718-96b4f53a50b8\")) {                    Plotly.newPlot(                        \"2f60278a-905a-4326-9718-96b4f53a50b8\",                        [{\"hovertemplate\":\"Region Corridor=Africa<br>Month=%{x}<br>Dead Weight Tonnage (dwt)=%{y}<extra></extra>\",\"legendgroup\":\"Africa\",\"line\":{\"color\":\"#636efa\",\"dash\":\"solid\",\"shape\":\"spline\"},\"marker\":{\"symbol\":\"circle\"},\"mode\":\"lines\",\"name\":\"Africa\",\"orientation\":\"v\",\"showlegend\":true,\"x\":[1,2,3,4,5,6,7,8,9,10,11,12],\"xaxis\":\"x\",\"y\":[237123278,217691327,235067390,242498244,247306633,243786054,256592792,247870871,222480660,241452301,234958394,231238352],\"yaxis\":\"y\",\"type\":\"scatter\"},{\"hovertemplate\":\"Region Corridor=Asia<br>Month=%{x}<br>Dead Weight Tonnage (dwt)=%{y}<extra></extra>\",\"legendgroup\":\"Asia\",\"line\":{\"color\":\"#EF553B\",\"dash\":\"solid\",\"shape\":\"spline\"},\"marker\":{\"symbol\":\"circle\"},\"mode\":\"lines\",\"name\":\"Asia\",\"orientation\":\"v\",\"showlegend\":true,\"x\":[1,2,3,4,5,6,7,8,9,10,11,12],\"xaxis\":\"x\",\"y\":[1905963427,1703144596,1948703513,1997078502,2060003705,1990475820,2046028000,2007679995,1984187402,2014263882,1963723721,2001419093],\"yaxis\":\"y\",\"type\":\"scatter\"},{\"hovertemplate\":\"Region Corridor=Caribbean<br>Month=%{x}<br>Dead Weight Tonnage (dwt)=%{y}<extra></extra>\",\"legendgroup\":\"Caribbean\",\"line\":{\"color\":\"#00cc96\",\"dash\":\"solid\",\"shape\":\"spline\"},\"marker\":{\"symbol\":\"circle\"},\"mode\":\"lines\",\"name\":\"Caribbean\",\"orientation\":\"v\",\"showlegend\":true,\"x\":[1,2,3,4,5,6,7,8,9,10,11,12],\"xaxis\":\"x\",\"y\":[36440546,34380974,37673443,36492641,39700250,38930215,38383120,39884141,34155971,38076803,34361426,37744507],\"yaxis\":\"y\",\"type\":\"scatter\"},{\"hovertemplate\":\"Region Corridor=Central America<br>Month=%{x}<br>Dead Weight Tonnage (dwt)=%{y}<extra></extra>\",\"legendgroup\":\"Central America\",\"line\":{\"color\":\"#ab63fa\",\"dash\":\"solid\",\"shape\":\"spline\"},\"marker\":{\"symbol\":\"circle\"},\"mode\":\"lines\",\"name\":\"Central America\",\"orientation\":\"v\",\"showlegend\":true,\"x\":[1,2,3,4,5,6,7,8,9,10,11,12],\"xaxis\":\"x\",\"y\":[84438535,81285443,90335759,87162978,95842611,92883610,95556440,94111899,90477077,93979356,88541203,92203551],\"yaxis\":\"y\",\"type\":\"scatter\"},{\"hovertemplate\":\"Region Corridor=Europe<br>Month=%{x}<br>Dead Weight Tonnage (dwt)=%{y}<extra></extra>\",\"legendgroup\":\"Europe\",\"line\":{\"color\":\"#FFA15A\",\"dash\":\"solid\",\"shape\":\"spline\"},\"marker\":{\"symbol\":\"circle\"},\"mode\":\"lines\",\"name\":\"Europe\",\"orientation\":\"v\",\"showlegend\":true,\"x\":[1,2,3,4,5,6,7,8,9,10,11,12],\"xaxis\":\"x\",\"y\":[633936095,583592231,634105397,621807152,655124746,618456099,653957852,647473466,613500052,659254543,627606304,639342662],\"yaxis\":\"y\",\"type\":\"scatter\"},{\"hovertemplate\":\"Region Corridor=Middle East<br>Month=%{x}<br>Dead Weight Tonnage (dwt)=%{y}<extra></extra>\",\"legendgroup\":\"Middle East\",\"line\":{\"color\":\"#19d3f3\",\"dash\":\"solid\",\"shape\":\"spline\"},\"marker\":{\"symbol\":\"circle\"},\"mode\":\"lines\",\"name\":\"Middle East\",\"orientation\":\"v\",\"showlegend\":true,\"x\":[1,2,3,4,5,6,7,8,9,10,11,12],\"xaxis\":\"x\",\"y\":[392515749,399757936,439481541,434729359,455665961,446413496,457695832,455778307,447975305,406667664,364996844,361402850],\"yaxis\":\"y\",\"type\":\"scatter\"},{\"hovertemplate\":\"Region Corridor=North America<br>Month=%{x}<br>Dead Weight Tonnage (dwt)=%{y}<extra></extra>\",\"legendgroup\":\"North America\",\"line\":{\"color\":\"#FF6692\",\"dash\":\"solid\",\"shape\":\"spline\"},\"marker\":{\"symbol\":\"circle\"},\"mode\":\"lines\",\"name\":\"North America\",\"orientation\":\"v\",\"showlegend\":true,\"x\":[1,2,3,4,5,6,7,8,9,10,11,12],\"xaxis\":\"x\",\"y\":[446657094,424003336,477559080,484628781,490209234,475438591,502651116,453794079,461071318,486616913,438163597,504869302],\"yaxis\":\"y\",\"type\":\"scatter\"},{\"hovertemplate\":\"Region Corridor=Oceania<br>Month=%{x}<br>Dead Weight Tonnage (dwt)=%{y}<extra></extra>\",\"legendgroup\":\"Oceania\",\"line\":{\"color\":\"#B6E880\",\"dash\":\"solid\",\"shape\":\"spline\"},\"marker\":{\"symbol\":\"circle\"},\"mode\":\"lines\",\"name\":\"Oceania\",\"orientation\":\"v\",\"showlegend\":true,\"x\":[1,2,3,4,5,6,7,8,9,10,11,12],\"xaxis\":\"x\",\"y\":[190988498,183231680,198366412,199141304,204134415,209323291,202156101,201384508,198181172,202374528,198652440,214323085],\"yaxis\":\"y\",\"type\":\"scatter\"},{\"hovertemplate\":\"Region Corridor=South America<br>Month=%{x}<br>Dead Weight Tonnage (dwt)=%{y}<extra></extra>\",\"legendgroup\":\"South America\",\"line\":{\"color\":\"#FF97FF\",\"dash\":\"solid\",\"shape\":\"spline\"},\"marker\":{\"symbol\":\"circle\"},\"mode\":\"lines\",\"name\":\"South America\",\"orientation\":\"v\",\"showlegend\":true,\"x\":[1,2,3,4,5,6,7,8,9,10,11,12],\"xaxis\":\"x\",\"y\":[295535219,270497298,303541129,301363033,313022203,305030030,306597960,323061027,309773556,308281452,305163126,319128084],\"yaxis\":\"y\",\"type\":\"scatter\"}],                        {\"template\":{\"data\":{\"histogram2dcontour\":[{\"type\":\"histogram2dcontour\",\"colorbar\":{\"outlinewidth\":0,\"ticks\":\"\"},\"colorscale\":[[0.0,\"#0d0887\"],[0.1111111111111111,\"#46039f\"],[0.2222222222222222,\"#7201a8\"],[0.3333333333333333,\"#9c179e\"],[0.4444444444444444,\"#bd3786\"],[0.5555555555555556,\"#d8576b\"],[0.6666666666666666,\"#ed7953\"],[0.7777777777777778,\"#fb9f3a\"],[0.8888888888888888,\"#fdca26\"],[1.0,\"#f0f921\"]]}],\"choropleth\":[{\"type\":\"choropleth\",\"colorbar\":{\"outlinewidth\":0,\"ticks\":\"\"}}],\"histogram2d\":[{\"type\":\"histogram2d\",\"colorbar\":{\"outlinewidth\":0,\"ticks\":\"\"},\"colorscale\":[[0.0,\"#0d0887\"],[0.1111111111111111,\"#46039f\"],[0.2222222222222222,\"#7201a8\"],[0.3333333333333333,\"#9c179e\"],[0.4444444444444444,\"#bd3786\"],[0.5555555555555556,\"#d8576b\"],[0.6666666666666666,\"#ed7953\"],[0.7777777777777778,\"#fb9f3a\"],[0.8888888888888888,\"#fdca26\"],[1.0,\"#f0f921\"]]}],\"heatmap\":[{\"type\":\"heatmap\",\"colorbar\":{\"outlinewidth\":0,\"ticks\":\"\"},\"colorscale\":[[0.0,\"#0d0887\"],[0.1111111111111111,\"#46039f\"],[0.2222222222222222,\"#7201a8\"],[0.3333333333333333,\"#9c179e\"],[0.4444444444444444,\"#bd3786\"],[0.5555555555555556,\"#d8576b\"],[0.6666666666666666,\"#ed7953\"],[0.7777777777777778,\"#fb9f3a\"],[0.8888888888888888,\"#fdca26\"],[1.0,\"#f0f921\"]]}],\"heatmapgl\":[{\"type\":\"heatmapgl\",\"colorbar\":{\"outlinewidth\":0,\"ticks\":\"\"},\"colorscale\":[[0.0,\"#0d0887\"],[0.1111111111111111,\"#46039f\"],[0.2222222222222222,\"#7201a8\"],[0.3333333333333333,\"#9c179e\"],[0.4444444444444444,\"#bd3786\"],[0.5555555555555556,\"#d8576b\"],[0.6666666666666666,\"#ed7953\"],[0.7777777777777778,\"#fb9f3a\"],[0.8888888888888888,\"#fdca26\"],[1.0,\"#f0f921\"]]}],\"contourcarpet\":[{\"type\":\"contourcarpet\",\"colorbar\":{\"outlinewidth\":0,\"ticks\":\"\"}}],\"contour\":[{\"type\":\"contour\",\"colorbar\":{\"outlinewidth\":0,\"ticks\":\"\"},\"colorscale\":[[0.0,\"#0d0887\"],[0.1111111111111111,\"#46039f\"],[0.2222222222222222,\"#7201a8\"],[0.3333333333333333,\"#9c179e\"],[0.4444444444444444,\"#bd3786\"],[0.5555555555555556,\"#d8576b\"],[0.6666666666666666,\"#ed7953\"],[0.7777777777777778,\"#fb9f3a\"],[0.8888888888888888,\"#fdca26\"],[1.0,\"#f0f921\"]]}],\"surface\":[{\"type\":\"surface\",\"colorbar\":{\"outlinewidth\":0,\"ticks\":\"\"},\"colorscale\":[[0.0,\"#0d0887\"],[0.1111111111111111,\"#46039f\"],[0.2222222222222222,\"#7201a8\"],[0.3333333333333333,\"#9c179e\"],[0.4444444444444444,\"#bd3786\"],[0.5555555555555556,\"#d8576b\"],[0.6666666666666666,\"#ed7953\"],[0.7777777777777778,\"#fb9f3a\"],[0.8888888888888888,\"#fdca26\"],[1.0,\"#f0f921\"]]}],\"mesh3d\":[{\"type\":\"mesh3d\",\"colorbar\":{\"outlinewidth\":0,\"ticks\":\"\"}}],\"scatter\":[{\"fillpattern\":{\"fillmode\":\"overlay\",\"size\":10,\"solidity\":0.2},\"type\":\"scatter\"}],\"parcoords\":[{\"type\":\"parcoords\",\"line\":{\"colorbar\":{\"outlinewidth\":0,\"ticks\":\"\"}}}],\"scatterpolargl\":[{\"type\":\"scatterpolargl\",\"marker\":{\"colorbar\":{\"outlinewidth\":0,\"ticks\":\"\"}}}],\"bar\":[{\"error_x\":{\"color\":\"#2a3f5f\"},\"error_y\":{\"color\":\"#2a3f5f\"},\"marker\":{\"line\":{\"color\":\"#E5ECF6\",\"width\":0.5},\"pattern\":{\"fillmode\":\"overlay\",\"size\":10,\"solidity\":0.2}},\"type\":\"bar\"}],\"scattergeo\":[{\"type\":\"scattergeo\",\"marker\":{\"colorbar\":{\"outlinewidth\":0,\"ticks\":\"\"}}}],\"scatterpolar\":[{\"type\":\"scatterpolar\",\"marker\":{\"colorbar\":{\"outlinewidth\":0,\"ticks\":\"\"}}}],\"histogram\":[{\"marker\":{\"pattern\":{\"fillmode\":\"overlay\",\"size\":10,\"solidity\":0.2}},\"type\":\"histogram\"}],\"scattergl\":[{\"type\":\"scattergl\",\"marker\":{\"colorbar\":{\"outlinewidth\":0,\"ticks\":\"\"}}}],\"scatter3d\":[{\"type\":\"scatter3d\",\"line\":{\"colorbar\":{\"outlinewidth\":0,\"ticks\":\"\"}},\"marker\":{\"colorbar\":{\"outlinewidth\":0,\"ticks\":\"\"}}}],\"scattermapbox\":[{\"type\":\"scattermapbox\",\"marker\":{\"colorbar\":{\"outlinewidth\":0,\"ticks\":\"\"}}}],\"scatterternary\":[{\"type\":\"scatterternary\",\"marker\":{\"colorbar\":{\"outlinewidth\":0,\"ticks\":\"\"}}}],\"scattercarpet\":[{\"type\":\"scattercarpet\",\"marker\":{\"colorbar\":{\"outlinewidth\":0,\"ticks\":\"\"}}}],\"carpet\":[{\"aaxis\":{\"endlinecolor\":\"#2a3f5f\",\"gridcolor\":\"white\",\"linecolor\":\"white\",\"minorgridcolor\":\"white\",\"startlinecolor\":\"#2a3f5f\"},\"baxis\":{\"endlinecolor\":\"#2a3f5f\",\"gridcolor\":\"white\",\"linecolor\":\"white\",\"minorgridcolor\":\"white\",\"startlinecolor\":\"#2a3f5f\"},\"type\":\"carpet\"}],\"table\":[{\"cells\":{\"fill\":{\"color\":\"#EBF0F8\"},\"line\":{\"color\":\"white\"}},\"header\":{\"fill\":{\"color\":\"#C8D4E3\"},\"line\":{\"color\":\"white\"}},\"type\":\"table\"}],\"barpolar\":[{\"marker\":{\"line\":{\"color\":\"#E5ECF6\",\"width\":0.5},\"pattern\":{\"fillmode\":\"overlay\",\"size\":10,\"solidity\":0.2}},\"type\":\"barpolar\"}],\"pie\":[{\"automargin\":true,\"type\":\"pie\"}]},\"layout\":{\"autotypenumbers\":\"strict\",\"colorway\":[\"#636efa\",\"#EF553B\",\"#00cc96\",\"#ab63fa\",\"#FFA15A\",\"#19d3f3\",\"#FF6692\",\"#B6E880\",\"#FF97FF\",\"#FECB52\"],\"font\":{\"color\":\"#2a3f5f\"},\"hovermode\":\"closest\",\"hoverlabel\":{\"align\":\"left\"},\"paper_bgcolor\":\"white\",\"plot_bgcolor\":\"#E5ECF6\",\"polar\":{\"bgcolor\":\"#E5ECF6\",\"angularaxis\":{\"gridcolor\":\"white\",\"linecolor\":\"white\",\"ticks\":\"\"},\"radialaxis\":{\"gridcolor\":\"white\",\"linecolor\":\"white\",\"ticks\":\"\"}},\"ternary\":{\"bgcolor\":\"#E5ECF6\",\"aaxis\":{\"gridcolor\":\"white\",\"linecolor\":\"white\",\"ticks\":\"\"},\"baxis\":{\"gridcolor\":\"white\",\"linecolor\":\"white\",\"ticks\":\"\"},\"caxis\":{\"gridcolor\":\"white\",\"linecolor\":\"white\",\"ticks\":\"\"}},\"coloraxis\":{\"colorbar\":{\"outlinewidth\":0,\"ticks\":\"\"}},\"colorscale\":{\"sequential\":[[0.0,\"#0d0887\"],[0.1111111111111111,\"#46039f\"],[0.2222222222222222,\"#7201a8\"],[0.3333333333333333,\"#9c179e\"],[0.4444444444444444,\"#bd3786\"],[0.5555555555555556,\"#d8576b\"],[0.6666666666666666,\"#ed7953\"],[0.7777777777777778,\"#fb9f3a\"],[0.8888888888888888,\"#fdca26\"],[1.0,\"#f0f921\"]],\"sequentialminus\":[[0.0,\"#0d0887\"],[0.1111111111111111,\"#46039f\"],[0.2222222222222222,\"#7201a8\"],[0.3333333333333333,\"#9c179e\"],[0.4444444444444444,\"#bd3786\"],[0.5555555555555556,\"#d8576b\"],[0.6666666666666666,\"#ed7953\"],[0.7777777777777778,\"#fb9f3a\"],[0.8888888888888888,\"#fdca26\"],[1.0,\"#f0f921\"]],\"diverging\":[[0,\"#8e0152\"],[0.1,\"#c51b7d\"],[0.2,\"#de77ae\"],[0.3,\"#f1b6da\"],[0.4,\"#fde0ef\"],[0.5,\"#f7f7f7\"],[0.6,\"#e6f5d0\"],[0.7,\"#b8e186\"],[0.8,\"#7fbc41\"],[0.9,\"#4d9221\"],[1,\"#276419\"]]},\"xaxis\":{\"gridcolor\":\"white\",\"linecolor\":\"white\",\"ticks\":\"\",\"title\":{\"standoff\":15},\"zerolinecolor\":\"white\",\"automargin\":true,\"zerolinewidth\":2},\"yaxis\":{\"gridcolor\":\"white\",\"linecolor\":\"white\",\"ticks\":\"\",\"title\":{\"standoff\":15},\"zerolinecolor\":\"white\",\"automargin\":true,\"zerolinewidth\":2},\"scene\":{\"xaxis\":{\"backgroundcolor\":\"#E5ECF6\",\"gridcolor\":\"white\",\"linecolor\":\"white\",\"showbackground\":true,\"ticks\":\"\",\"zerolinecolor\":\"white\",\"gridwidth\":2},\"yaxis\":{\"backgroundcolor\":\"#E5ECF6\",\"gridcolor\":\"white\",\"linecolor\":\"white\",\"showbackground\":true,\"ticks\":\"\",\"zerolinecolor\":\"white\",\"gridwidth\":2},\"zaxis\":{\"backgroundcolor\":\"#E5ECF6\",\"gridcolor\":\"white\",\"linecolor\":\"white\",\"showbackground\":true,\"ticks\":\"\",\"zerolinecolor\":\"white\",\"gridwidth\":2}},\"shapedefaults\":{\"line\":{\"color\":\"#2a3f5f\"}},\"annotationdefaults\":{\"arrowcolor\":\"#2a3f5f\",\"arrowhead\":0,\"arrowwidth\":1},\"geo\":{\"bgcolor\":\"white\",\"landcolor\":\"#E5ECF6\",\"subunitcolor\":\"white\",\"showland\":true,\"showlakes\":true,\"lakecolor\":\"white\"},\"title\":{\"x\":0.05},\"mapbox\":{\"style\":\"light\"}}},\"xaxis\":{\"anchor\":\"y\",\"domain\":[0.0,1.0],\"title\":{\"text\":\"Month\"}},\"yaxis\":{\"anchor\":\"x\",\"domain\":[0.0,1.0],\"title\":{\"text\":\"Dead Weight Tonnage (dwt)\"}},\"legend\":{\"title\":{\"text\":\"Region Corridor\"},\"tracegroupgap\":0},\"title\":{\"text\":\"Total Dead Weight Tonnage by Shipping Region Corridor\"},\"height\":750},                        {\"responsive\": true}                    ).then(function(){\n",
       "                            \n",
       "var gd = document.getElementById('2f60278a-905a-4326-9718-96b4f53a50b8');\n",
       "var x = new MutationObserver(function (mutations, observer) {{\n",
       "        var display = window.getComputedStyle(gd).display;\n",
       "        if (!display || display === 'none') {{\n",
       "            console.log([gd, 'removed!']);\n",
       "            Plotly.purge(gd);\n",
       "            observer.disconnect();\n",
       "        }}\n",
       "}});\n",
       "\n",
       "// Listen for the removal of the full notebook cells\n",
       "var notebookContainer = gd.closest('#notebook-container');\n",
       "if (notebookContainer) {{\n",
       "    x.observe(notebookContainer, {childList: true});\n",
       "}}\n",
       "\n",
       "// Listen for the clearing of the current output cell\n",
       "var outputEl = gd.closest('.output');\n",
       "if (outputEl) {{\n",
       "    x.observe(outputEl, {childList: true});\n",
       "}}\n",
       "\n",
       "                        })                };                });            </script>        </div>"
      ]
     },
     "metadata": {},
     "output_type": "display_data"
    }
   ],
   "source": [
    "import plotly.express as px\n",
    "\n",
    "d = df.copy()\n",
    "d = d[['region_corridor','month','dwt']] # pick out 3 columns\n",
    "# sum dwt of ship exits by month by corridor\n",
    "d = d.groupby(['region_corridor', 'month'])['modified_dwt'].sum().reset_index() \n",
    "\n",
    "fig = px.line(d, # pass the dataframe to plotly express\n",
    "              x=\"month\", # define x \n",
    "              y=\"dwt\", # define y\n",
    "              color=\"region_corridor\", # define variable to color lines by \n",
    "              line_shape=\"spline\", # fit a spline between points\n",
    "              title = 'Total Dead Weight Tonnage by Shipping Region Corridor',\n",
    "              labels = {'month':'Month',\n",
    "                        'dwt':'Dead Weight Tonnage (dwt)',\n",
    "                        'region_corridor':'Region Corridor'},\n",
    "              height = 750\n",
    "             )\n",
    "\n",
    "\n",
    "fig.show()"
   ]
  },
  {
   "cell_type": "code",
   "execution_count": 124,
   "metadata": {
    "scrolled": false
   },
   "outputs": [],
   "source": [
    "d = df.copy() # copy the dataset\n",
    "d = d[d.port_name == 'Hong Kong'] # look only at ships entering Hong Kong port\n",
    "d['Ship Description'] = d['ship_type']+' - '+d['ship_size'] # make a new composite column \n",
    "d = d.groupby(['month','Ship Description'])['modified_dwt'].sum().reset_index() # groupby new column\n",
    "\n",
    "d = d.sort_values(by = 'Ship Description')\n",
    "\n",
    "fig = px.bar(d, # pass the dataframe to plotly express\n",
    "              x=\"month\", # define x \n",
    "              y=\"modified_dwt\", # define y\n",
    "              color=\"Ship Description\", # define variable to color lines by \n",
    "              title = 'Modified Dead Weight Tonnage by Ship Type Arriving to Hong Kong',\n",
    "              labels = {'month':'Month',\n",
    "                        'modified_dwt':'Dead Weight Tonnage (dwt)'},\n",
    "              color_discrete_map = {\n",
    "                 'BULKER - LARGE':'#0A2F51',\n",
    "                 'BULKER - MEDIUM':'#137177',\n",
    "                 'BULKER - SMALL':'#1D9A6C',\n",
    "                 'CONTAINER - LARGE':'#98397E',\n",
    "                 'CONTAINER - MEDIUM':'#C54F65',\n",
    "                 'CONTAINER - SMALL':'#D67693',\n",
    "                 'TANKER - LARGE':'#486E86',\n",
    "                 'TANKER - MEDIUM':'#6E9ABC',\n",
    "                 'TANKER - SMALL':'#97C4EF'\n",
    "                 },\n",
    "              height = 750\n",
    "             )\n",
    "fig.show()"
   ]
  },
  {
   "cell_type": "code",
   "execution_count": null,
   "metadata": {},
   "outputs": [],
   "source": []
  },
  {
   "cell_type": "code",
   "execution_count": null,
   "metadata": {},
   "outputs": [],
   "source": []
  },
  {
   "cell_type": "code",
   "execution_count": null,
   "metadata": {},
   "outputs": [],
   "source": []
  },
  {
   "cell_type": "code",
   "execution_count": null,
   "metadata": {},
   "outputs": [],
   "source": [
    "import plotly.express as px\n",
    "import numpy as np\n",
    "df = px.data.gapminder().query(\"year == 2007\")\n",
    "fig = px.treemap(df, path=[px.Constant('world'), 'continent', 'country'], values='pop',\n",
    "                  color='lifeExp', hover_data=['iso_alpha'])\n",
    "fig.show()"
   ]
  }
 ],
 "metadata": {
  "kernelspec": {
   "display_name": "Python (Concrete 3.9)",
   "language": "python",
   "name": "concrete_39"
  },
  "language_info": {
   "codemirror_mode": {
    "name": "ipython",
    "version": 3
   },
   "file_extension": ".py",
   "mimetype": "text/x-python",
   "name": "python",
   "nbconvert_exporter": "python",
   "pygments_lexer": "ipython3",
   "version": "3.9.12"
  }
 },
 "nbformat": 4,
 "nbformat_minor": 4
}

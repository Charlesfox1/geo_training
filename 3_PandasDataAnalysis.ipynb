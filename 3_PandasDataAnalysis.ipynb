{
 "cells": [
  {
   "cell_type": "code",
   "execution_count": null,
   "metadata": {},
   "outputs": [],
   "source": [
    "import pandas as pd"
   ]
  },
  {
   "cell_type": "code",
   "execution_count": null,
   "metadata": {},
   "outputs": [],
   "source": [
    "!git clone https://github.com/Charlesfox1/geo_training"
   ]
  },
  {
   "cell_type": "code",
   "execution_count": null,
   "metadata": {},
   "outputs": [],
   "source": [
    "# Pick up your data from a .csv, .xlsx, database, or other format with the wide range of import functions\n",
    "df = pd.read_csv('geo_training/data-sample.csv')"
   ]
  },
  {
   "cell_type": "code",
   "execution_count": null,
   "metadata": {},
   "outputs": [],
   "source": [
    "# inspect your dataframe by just calling its variable name in the notebook\n",
    "df"
   ]
  },
  {
   "cell_type": "code",
   "execution_count": null,
   "metadata": {},
   "outputs": [],
   "source": [
    "# a dataset of this size would already be pushing it in Excel!\n",
    "df.shape"
   ]
  },
  {
   "cell_type": "code",
   "execution_count": null,
   "metadata": {},
   "outputs": [],
   "source": [
    "# a DataFrame is composed of columns and rows, and a special 3rd thing - an index"
   ]
  },
  {
   "cell_type": "code",
   "execution_count": null,
   "metadata": {},
   "outputs": [],
   "source": [
    "df.columns"
   ]
  },
  {
   "cell_type": "code",
   "execution_count": null,
   "metadata": {},
   "outputs": [],
   "source": [
    "df.index"
   ]
  },
  {
   "cell_type": "code",
   "execution_count": null,
   "metadata": {},
   "outputs": [],
   "source": [
    "# we select a column by using its name in square brackets:\n",
    "df['ship_size']"
   ]
  },
  {
   "cell_type": "code",
   "execution_count": null,
   "metadata": {},
   "outputs": [],
   "source": [
    "# we can select rows by their index position or the \n",
    "# value of the index - these aren't the same thing!\n",
    "df.iloc[0]"
   ]
  },
  {
   "cell_type": "code",
   "execution_count": null,
   "metadata": {},
   "outputs": [],
   "source": [
    "# we can select rows by their index position or the value of the index - these aren't always the same thing!\n",
    "df.loc[0]"
   ]
  },
  {
   "cell_type": "code",
   "execution_count": null,
   "metadata": {},
   "outputs": [],
   "source": [
    "# you can choose what data item(s) act as the index:\n",
    "df = df.set_index('ship_size')\n",
    "df"
   ]
  },
  {
   "cell_type": "code",
   "execution_count": null,
   "metadata": {},
   "outputs": [],
   "source": [
    "# let's try .loc again:\n",
    "df.loc['SMALL']"
   ]
  },
  {
   "cell_type": "code",
   "execution_count": null,
   "metadata": {},
   "outputs": [],
   "source": [
    "# first argument of loc is the index, second can be the columns:\n",
    "df.loc['SMALL','ship_type']"
   ]
  },
  {
   "cell_type": "code",
   "execution_count": null,
   "metadata": {},
   "outputs": [],
   "source": [
    "# you can select multiple columns at once:\n",
    "df.loc[:,['frequency','period_ending','ship_type']]"
   ]
  },
  {
   "cell_type": "code",
   "execution_count": null,
   "metadata": {},
   "outputs": [],
   "source": [
    "# ...which is the same as (the : at the front can be ignored - means 'all rows')\n",
    "df[['frequency','period_ending','ship_type']]"
   ]
  },
  {
   "cell_type": "code",
   "execution_count": null,
   "metadata": {
    "scrolled": true
   },
   "outputs": [],
   "source": [
    "# ...also handy if you want to filter the index\n",
    "df.loc['SMALL', ['frequency','period_ending','ship_type']]"
   ]
  },
  {
   "cell_type": "code",
   "execution_count": null,
   "metadata": {
    "scrolled": false
   },
   "outputs": [],
   "source": [
    "# if you want a certain number of rows, you can index a dataframe like a list:\n",
    "df[['frequency','period_ending','ship_type']][4:10]"
   ]
  },
  {
   "cell_type": "code",
   "execution_count": null,
   "metadata": {
    "scrolled": true
   },
   "outputs": [],
   "source": [
    "# define a new column by choosing a new column name as so:\n",
    "df['average_dwt'] = df['dwt'] / df['ship_count']\n",
    "\n",
    "# new columns are always added on the end:\n",
    "df"
   ]
  },
  {
   "cell_type": "code",
   "execution_count": null,
   "metadata": {},
   "outputs": [],
   "source": [
    "# easiest to do operations in the column direction - but nothing stops you from transposing the table:\n",
    "df.T"
   ]
  },
  {
   "cell_type": "code",
   "execution_count": null,
   "metadata": {},
   "outputs": [],
   "source": [
    "# if you want to return the index to a standard numerical one, it's:\n",
    "df = df.reset_index()"
   ]
  },
  {
   "cell_type": "code",
   "execution_count": null,
   "metadata": {},
   "outputs": [],
   "source": [
    "# text columns can be added as you'd expect\n",
    "df['description'] = df['ship_size']+' '+df['ship_type']+' - '+df['draft']"
   ]
  },
  {
   "cell_type": "code",
   "execution_count": null,
   "metadata": {
    "scrolled": true
   },
   "outputs": [],
   "source": [
    "df['description']"
   ]
  },
  {
   "cell_type": "code",
   "execution_count": null,
   "metadata": {},
   "outputs": [],
   "source": [
    "# fairly sophisticated methods are also available for mapping and filling values:\n",
    "size_mapper = {'SMALL':1, \n",
    "               'MEDIUM':2}\n",
    "df['num_size'] = df['ship_size'].map(size_mapper)"
   ]
  },
  {
   "cell_type": "code",
   "execution_count": null,
   "metadata": {},
   "outputs": [],
   "source": [
    "df['num_size'].value_counts()"
   ]
  },
  {
   "cell_type": "code",
   "execution_count": null,
   "metadata": {},
   "outputs": [],
   "source": [
    "df['num_size'].isnull()"
   ]
  },
  {
   "cell_type": "code",
   "execution_count": null,
   "metadata": {},
   "outputs": [],
   "source": [
    "df['num_size'].isnull().value_counts()"
   ]
  },
  {
   "cell_type": "code",
   "execution_count": null,
   "metadata": {},
   "outputs": [],
   "source": [
    "df['num_size'] = df['num_size'].fillna(3)"
   ]
  },
  {
   "cell_type": "code",
   "execution_count": null,
   "metadata": {},
   "outputs": [],
   "source": [
    "df['num_size'].isnull().value_counts()"
   ]
  },
  {
   "cell_type": "code",
   "execution_count": null,
   "metadata": {},
   "outputs": [],
   "source": [
    "df['num_size'].value_counts()"
   ]
  },
  {
   "cell_type": "code",
   "execution_count": null,
   "metadata": {},
   "outputs": [],
   "source": [
    "# we can also fill forward with ffill() and fill back with bfill() if we need to"
   ]
  },
  {
   "cell_type": "code",
   "execution_count": null,
   "metadata": {},
   "outputs": [],
   "source": [
    "# final function of interest is joining to create a new DataFrame:\n",
    "a = df[df.columns[:-2]]\n",
    "b = df[['description','num_size']]"
   ]
  },
  {
   "cell_type": "code",
   "execution_count": null,
   "metadata": {},
   "outputs": [],
   "source": [
    "a"
   ]
  },
  {
   "cell_type": "code",
   "execution_count": null,
   "metadata": {},
   "outputs": [],
   "source": [
    "b"
   ]
  },
  {
   "cell_type": "code",
   "execution_count": null,
   "metadata": {},
   "outputs": [],
   "source": [
    "# implicit left join on index, but that can changed with various options - \n",
    "# see https://pandas.pydata.org/docs/reference/api/pandas.DataFrame.join.html\n",
    "c = a.join(b)"
   ]
  },
  {
   "cell_type": "code",
   "execution_count": null,
   "metadata": {
    "scrolled": true
   },
   "outputs": [],
   "source": [
    "c"
   ]
  },
  {
   "cell_type": "markdown",
   "metadata": {},
   "source": [
    "### Let's Explore our dataset"
   ]
  },
  {
   "cell_type": "code",
   "execution_count": null,
   "metadata": {},
   "outputs": [],
   "source": [
    "# looks like we have two different types of count - ships come in, ships go out\n",
    "df['metric'].value_counts()"
   ]
  },
  {
   "cell_type": "code",
   "execution_count": null,
   "metadata": {},
   "outputs": [],
   "source": [
    "# let's focus on entries into port\n",
    "df = df[df.metric == 'Entries']"
   ]
  },
  {
   "cell_type": "code",
   "execution_count": null,
   "metadata": {},
   "outputs": [],
   "source": [
    "df = df[df.metric == 'Entries'].sort_values(by = 'period_ending', ascending = True)"
   ]
  },
  {
   "cell_type": "code",
   "execution_count": null,
   "metadata": {},
   "outputs": [],
   "source": [
    "# Often we want to see the 'wood' (patterns) for the 'trees' (individual bits of data)\n",
    "# Data Scientists achieve that through summarisation or visualisation. \n",
    "# 'Groupby' can be used to group data that share a common field value.\n",
    "# An operation can then be applied (e.g. summing, averaging) to immediately get useful answers\n",
    "# On its own, groupby is more powerful than anything in Excel!"
   ]
  },
  {
   "cell_type": "code",
   "execution_count": null,
   "metadata": {
    "scrolled": true
   },
   "outputs": [],
   "source": [
    "# what are the top 10 busiest ports by ship count over the year?\n",
    "df.groupby(['port_country','port_name'])['ship_count'].sum().sort_values(ascending = False).head(10)"
   ]
  },
  {
   "cell_type": "code",
   "execution_count": null,
   "metadata": {},
   "outputs": [],
   "source": [
    "# Does the answer change if we look at deadweight tonage?\n",
    "df.groupby(['port_country','port_name'])['dwt'].sum().sort_values(ascending = False).head(10)"
   ]
  },
  {
   "cell_type": "code",
   "execution_count": null,
   "metadata": {},
   "outputs": [],
   "source": [
    "# you can pre-filter as well - e.g. what are the 10 busiest \n",
    "# ports by dead weight tonnage for tanker-type ships?\n",
    "df[df.ship_type == 'TANKER'].groupby(\n",
    "    ['port_country','port_name'])['dwt'].sum().sort_values(ascending = False).head(10)"
   ]
  },
  {
   "cell_type": "code",
   "execution_count": null,
   "metadata": {},
   "outputs": [],
   "source": [
    "# you will notice that these frames look different. that's because when you call \n",
    "# an aggregation on only one column, pandas gives you a pd.Series and not a pd.DataFrame:"
   ]
  },
  {
   "cell_type": "code",
   "execution_count": null,
   "metadata": {},
   "outputs": [],
   "source": [
    "type(df[df.ship_type == 'TANKER'].groupby(\n",
    "    ['port_country','port_name'])['dwt'].sum().sort_values(ascending = False).head(10))"
   ]
  },
  {
   "cell_type": "code",
   "execution_count": null,
   "metadata": {},
   "outputs": [],
   "source": [
    "# you can force it to return a DataFrame by asking for the column with double brackets:\n",
    "df[df.ship_type == 'TANKER'].groupby(\n",
    "    ['port_country','port_name'])[['dwt']].sum().sort_values(by = 'dwt', ascending = False).head(10)"
   ]
  },
  {
   "cell_type": "code",
   "execution_count": null,
   "metadata": {},
   "outputs": [],
   "source": [
    "# the returned object can be assigned to a variable, e.g. sdf:\n",
    "sdf = df[df.ship_type == 'TANKER'].groupby(\n",
    "    ['port_country','port_name'])[['dwt']].sum().sort_values(\n",
    "        by = 'dwt', ascending = False).head(10)"
   ]
  },
  {
   "cell_type": "code",
   "execution_count": null,
   "metadata": {},
   "outputs": [],
   "source": [
    "sdf"
   ]
  },
  {
   "cell_type": "code",
   "execution_count": null,
   "metadata": {},
   "outputs": [],
   "source": [
    "type(sdf)"
   ]
  },
  {
   "cell_type": "code",
   "execution_count": null,
   "metadata": {},
   "outputs": [],
   "source": [
    "# here, because we are grouping by more than one column, we get a multi-index return\n",
    "sdf.index"
   ]
  },
  {
   "cell_type": "code",
   "execution_count": null,
   "metadata": {},
   "outputs": [],
   "source": [
    "# we can return this to a standard df with reset_index()\n",
    "sdf = sdf.reset_index()"
   ]
  },
  {
   "cell_type": "code",
   "execution_count": null,
   "metadata": {
    "scrolled": true
   },
   "outputs": [],
   "source": [
    "sdf"
   ]
  },
  {
   "cell_type": "code",
   "execution_count": null,
   "metadata": {},
   "outputs": [],
   "source": [
    "# very basic visualisation is built in to pandas:\n",
    "sdf.set_index('port_name')['dwt'].plot.bar()"
   ]
  },
  {
   "cell_type": "code",
   "execution_count": null,
   "metadata": {
    "scrolled": true
   },
   "outputs": [],
   "source": [
    "df['average_dwt'].describe([.9,.95,.975,.99]).round(0)"
   ]
  },
  {
   "cell_type": "code",
   "execution_count": null,
   "metadata": {},
   "outputs": [],
   "source": [
    "df['average_dwt'].plot.hist(by=None, bins=10, title = 'Average DWT')"
   ]
  },
  {
   "cell_type": "code",
   "execution_count": null,
   "metadata": {},
   "outputs": [],
   "source": []
  },
  {
   "cell_type": "code",
   "execution_count": null,
   "metadata": {},
   "outputs": [],
   "source": [
    "df['month'] = pd.to_datetime(df['period_ending']).dt.month"
   ]
  },
  {
   "cell_type": "code",
   "execution_count": null,
   "metadata": {
    "scrolled": true
   },
   "outputs": [],
   "source": [
    "df['region_corridor'].value_counts()"
   ]
  },
  {
   "cell_type": "markdown",
   "metadata": {},
   "source": [
    "### Plotly Express\n",
    "- Make better looking plots with more flexibility in plotly"
   ]
  },
  {
   "cell_type": "code",
   "execution_count": null,
   "metadata": {},
   "outputs": [],
   "source": [
    "pip install plotly"
   ]
  },
  {
   "cell_type": "code",
   "execution_count": null,
   "metadata": {},
   "outputs": [],
   "source": [
    "import plotly.express as px\n",
    "\n",
    "d = df.copy()\n",
    "d = d[['region_corridor','month','dwt']] # pick out 3 columns\n",
    "# sum dwt of ship exits by month by corridor\n",
    "d = d.groupby(['region_corridor', 'month'])['modified_dwt'].sum().reset_index() \n",
    "\n",
    "fig = px.line(d, # pass the dataframe to plotly express\n",
    "              x=\"month\", # define x \n",
    "              y=\"dwt\", # define y\n",
    "              color=\"region_corridor\", # define variable to color lines by \n",
    "              line_shape=\"spline\", # fit a spline between points\n",
    "              title = 'Total Dead Weight Tonnage by Shipping Region Corridor',\n",
    "              labels = {'month':'Month',\n",
    "                        'dwt':'Dead Weight Tonnage (dwt)',\n",
    "                        'region_corridor':'Region Corridor'},\n",
    "              height = 750\n",
    "             )\n",
    "\n",
    "\n",
    "fig.show()"
   ]
  },
  {
   "cell_type": "code",
   "execution_count": null,
   "metadata": {
    "scrolled": false
   },
   "outputs": [],
   "source": [
    "d = df.copy() # copy the dataset\n",
    "d = d[d.port_name == 'Hong Kong'] # look only at ships entering Hong Kong port\n",
    "d['Ship Description'] = d['ship_type']+' - '+d['ship_size'] # make a new composite column \n",
    "d = d.groupby(['month','Ship Description'])['modified_dwt'].sum().reset_index() # groupby new column\n",
    "\n",
    "d = d.sort_values(by = 'Ship Description')\n",
    "\n",
    "fig = px.bar(d, # pass the dataframe to plotly express\n",
    "              x=\"month\", # define x \n",
    "              y=\"modified_dwt\", # define y\n",
    "              color=\"Ship Description\", # define variable to color lines by \n",
    "              title = 'Modified Dead Weight Tonnage by Ship Type Arriving to Hong Kong',\n",
    "              labels = {'month':'Month',\n",
    "                        'modified_dwt':'Dead Weight Tonnage (dwt)'},\n",
    "              color_discrete_map = {\n",
    "                 'BULKER - LARGE':'#0A2F51',\n",
    "                 'BULKER - MEDIUM':'#137177',\n",
    "                 'BULKER - SMALL':'#1D9A6C',\n",
    "                 'CONTAINER - LARGE':'#98397E',\n",
    "                 'CONTAINER - MEDIUM':'#C54F65',\n",
    "                 'CONTAINER - SMALL':'#D67693',\n",
    "                 'TANKER - LARGE':'#486E86',\n",
    "                 'TANKER - MEDIUM':'#6E9ABC',\n",
    "                 'TANKER - SMALL':'#97C4EF'\n",
    "                 },\n",
    "              height = 750\n",
    "             )\n",
    "fig.show()"
   ]
  },
  {
   "cell_type": "code",
   "execution_count": null,
   "metadata": {},
   "outputs": [],
   "source": []
  },
  {
   "cell_type": "code",
   "execution_count": null,
   "metadata": {},
   "outputs": [],
   "source": []
  },
  {
   "cell_type": "code",
   "execution_count": null,
   "metadata": {},
   "outputs": [],
   "source": []
  }
 ],
 "metadata": {
  "kernelspec": {
   "display_name": "Python (Concrete 3.9)",
   "language": "python",
   "name": "concrete_39"
  },
  "language_info": {
   "codemirror_mode": {
    "name": "ipython",
    "version": 3
   },
   "file_extension": ".py",
   "mimetype": "text/x-python",
   "name": "python",
   "nbconvert_exporter": "python",
   "pygments_lexer": "ipython3",
   "version": "3.9.12"
  }
 },
 "nbformat": 4,
 "nbformat_minor": 4
}

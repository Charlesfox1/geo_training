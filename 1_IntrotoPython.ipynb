{
 "cells": [
  {
   "cell_type": "markdown",
   "metadata": {},
   "source": [
    "### Welcome Everyone!\n",
    "This is going to be a hands-on run through of the basics of the programming language Python. \n",
    "- It won't assume any prior knowledge - if you have programmed in python before, this is not the notebook for you!\n",
    "- All examples will be for the Python 3 version of the language. Python 2.x versions are now considered seriously out of date, and won't be covered here."
   ]
  },
  {
   "cell_type": "markdown",
   "metadata": {},
   "source": [
    "### The Basics: Objects and Types\n",
    "- Python is \"OOP\" - or an object-oriented programming language\n",
    "- Everything is an \"Object\"\n",
    "- Everything has a \"Type\" - that determines how the objects interact\n",
    "- To the left of the equal sign you have the variable name, and to the right, its value. Variables can be overwritten at any time. "
   ]
  },
  {
   "cell_type": "code",
   "execution_count": null,
   "metadata": {},
   "outputs": [],
   "source": [
    "my_string = \"Hello there\"\n",
    "my_int = 7\n",
    "my_float = 7.0\n",
    "my_string = \"Good morning\"\n",
    "print(my_string)"
   ]
  },
  {
   "cell_type": "markdown",
   "metadata": {},
   "source": [
    "### Strings\n",
    "- Basic alpha-numeric class for text data built in to python. You will always have access to string methods. "
   ]
  },
  {
   "cell_type": "code",
   "execution_count": null,
   "metadata": {},
   "outputs": [],
   "source": [
    "print(my_string)"
   ]
  },
  {
   "cell_type": "code",
   "execution_count": null,
   "metadata": {},
   "outputs": [],
   "source": [
    "type(my_string)"
   ]
  },
  {
   "cell_type": "code",
   "execution_count": null,
   "metadata": {},
   "outputs": [],
   "source": [
    "type(my_int)"
   ]
  },
  {
   "cell_type": "code",
   "execution_count": null,
   "metadata": {},
   "outputs": [],
   "source": [
    "type(my_float)"
   ]
  },
  {
   "cell_type": "code",
   "execution_count": null,
   "metadata": {},
   "outputs": [],
   "source": [
    "# Strings can be added\n",
    "string_2 = \" everyone!\"\n",
    "new_string = my_string + string_2\n",
    "print(new_string)"
   ]
  },
  {
   "cell_type": "code",
   "execution_count": null,
   "metadata": {},
   "outputs": [],
   "source": [
    "# Strings can be sliced by an indexer\n",
    "print(\"first four letters:\")\n",
    "print(new_string[:3])"
   ]
  },
  {
   "cell_type": "code",
   "execution_count": null,
   "metadata": {},
   "outputs": [],
   "source": [
    "# everything counts from 0 in python \n",
    "new_string[0]"
   ]
  },
  {
   "cell_type": "code",
   "execution_count": null,
   "metadata": {},
   "outputs": [],
   "source": [
    "# everything counts from 0 in python \n",
    "new_string[1]"
   ]
  },
  {
   "cell_type": "code",
   "execution_count": null,
   "metadata": {},
   "outputs": [],
   "source": [
    "# ...and numerical ranges EXCLUDE the final value:\n",
    "new_string[2]"
   ]
  },
  {
   "cell_type": "code",
   "execution_count": null,
   "metadata": {},
   "outputs": [],
   "source": [
    "new_string[3]"
   ]
  },
  {
   "cell_type": "code",
   "execution_count": null,
   "metadata": {},
   "outputs": [],
   "source": [
    "# so new_string[:3] delivers sub-strings \"g\" (0), \"o\" (1) and \"o\" (2) and stops before returning \"d\" (3)"
   ]
  },
  {
   "cell_type": "code",
   "execution_count": null,
   "metadata": {},
   "outputs": [],
   "source": [
    "# Slicing can also extract from the middle of a string:\n",
    "new_string[5:12]"
   ]
  },
  {
   "cell_type": "code",
   "execution_count": null,
   "metadata": {},
   "outputs": [],
   "source": [
    "# Or work backwards from the end (right to left) with negative notation\n",
    "print(new_string[-1])\n",
    "print(new_string[-9:])\n",
    "print(new_string[-4:-1])"
   ]
  },
  {
   "cell_type": "code",
   "execution_count": null,
   "metadata": {},
   "outputs": [],
   "source": [
    "# Strings can be force-capitalised\n",
    "shout_good_morning = new_string.upper()\n",
    "print(shout_good_morning)"
   ]
  },
  {
   "cell_type": "code",
   "execution_count": null,
   "metadata": {},
   "outputs": [],
   "source": [
    "# ...or force-lowered (which comes in very useful for standardising column headings)\n",
    "quiet_good_morning = '...' + shout_good_morning.lower()\n",
    "print(quiet_good_morning)"
   ]
  },
  {
   "cell_type": "code",
   "execution_count": null,
   "metadata": {},
   "outputs": [],
   "source": [
    "# replacement methods are also helpful\n",
    "whisper_good_morning = quiet_good_morning.replace('!','...')\n",
    "print(whisper_good_morning)"
   ]
  },
  {
   "cell_type": "code",
   "execution_count": null,
   "metadata": {},
   "outputs": [],
   "source": [
    "# you will often want to inject multiple variables into a string. \n",
    "# Use F-strings to populate a template string:\n",
    "var_1 = \"Foo\"\n",
    "var_2 = \"Bar\"\n",
    "combo = f\"{var_1} / {var_2}! {var_1} {var_1} {var_1} {var_2}!\"\n",
    "combo"
   ]
  },
  {
   "cell_type": "markdown",
   "metadata": {},
   "source": [
    "N.B. - there are lots of ways of doing string formatting in python, but I really recommend learning and mastering f-strings rather than any of the alternatives"
   ]
  },
  {
   "cell_type": "code",
   "execution_count": null,
   "metadata": {},
   "outputs": [],
   "source": [
    "# String concatenation - often goes wrong\n",
    "\"the beginning, \"+var_1+\", the end\""
   ]
  },
  {
   "cell_type": "code",
   "execution_count": null,
   "metadata": {},
   "outputs": [],
   "source": [
    "var_3 = 1\n",
    "\"the beginning, \"+var_3+\", the end\""
   ]
  },
  {
   "cell_type": "code",
   "execution_count": null,
   "metadata": {},
   "outputs": [],
   "source": [
    "# Positional formatting - fine, but you will forget at some point the right variable order!\n",
    "'The order goes: {}, {}, {}, {}'.format(var_1, var_2, var_1, var_3)"
   ]
  },
  {
   "cell_type": "markdown",
   "metadata": {},
   "source": [
    "### DIR\n",
    "- There are lots of different methods for strings. How are you supposed to know where to find them all? \n",
    "- You could read the documentation: https://docs.python.org/3/library/stdtypes.html#text-sequence-type-str\n",
    "- Or, if you too hate reading instruction manuals, call dir() on the object"
   ]
  },
  {
   "cell_type": "code",
   "execution_count": null,
   "metadata": {
    "scrolled": true
   },
   "outputs": [],
   "source": [
    "dir(my_string)"
   ]
  },
  {
   "cell_type": "code",
   "execution_count": null,
   "metadata": {},
   "outputs": [],
   "source": [
    "# split a string with the \"split\" method\n",
    "string_bits = my_string.split(' ')\n",
    "string_bits"
   ]
  },
  {
   "cell_type": "markdown",
   "metadata": {},
   "source": [
    "### Lists\n",
    "- Another fundamental data type to python, they are the simplest way of assigning multiple objects to a single variable name\n",
    "- You can put *anything* in a list\n",
    "- Lists remember the order of elements as they are put into the list\n",
    "- They have their own useful methods as well"
   ]
  },
  {
   "cell_type": "code",
   "execution_count": null,
   "metadata": {},
   "outputs": [],
   "source": [
    "type(string_bits)"
   ]
  },
  {
   "cell_type": "code",
   "execution_count": null,
   "metadata": {},
   "outputs": [],
   "source": [
    "# objects can be grabbed by their index position\n",
    "string_bits[0]"
   ]
  },
  {
   "cell_type": "code",
   "execution_count": null,
   "metadata": {},
   "outputs": [],
   "source": [
    "string_bits[1]"
   ]
  },
  {
   "cell_type": "code",
   "execution_count": null,
   "metadata": {},
   "outputs": [],
   "source": [
    "# these objects can then be sub-referenced:\n",
    "string_bits[1][:4]"
   ]
  },
  {
   "cell_type": "code",
   "execution_count": null,
   "metadata": {},
   "outputs": [],
   "source": [
    "# there are other special methods that lists can do\n",
    "# this is our first encounter with iteration, which is very powerful \n",
    "for i in string_bits:\n",
    "    print(i)"
   ]
  },
  {
   "cell_type": "code",
   "execution_count": null,
   "metadata": {},
   "outputs": [],
   "source": [
    "# you can add new objects to a list:\n",
    "string_bits.append('Hong Kong')"
   ]
  },
  {
   "cell_type": "code",
   "execution_count": null,
   "metadata": {},
   "outputs": [],
   "source": [
    "string_bits"
   ]
  },
  {
   "cell_type": "code",
   "execution_count": null,
   "metadata": {},
   "outputs": [],
   "source": [
    "# and you can remove items too (pop removes last item):\n",
    "string_bits.pop()"
   ]
  },
  {
   "cell_type": "code",
   "execution_count": null,
   "metadata": {},
   "outputs": [],
   "source": [
    "string_bits"
   ]
  },
  {
   "cell_type": "code",
   "execution_count": null,
   "metadata": {},
   "outputs": [],
   "source": [
    "# How do I remove the first item?\n",
    "string_bits.remove(0)"
   ]
  },
  {
   "cell_type": "code",
   "execution_count": null,
   "metadata": {},
   "outputs": [],
   "source": [
    "string_bits = string_bits[1:]"
   ]
  },
  {
   "cell_type": "code",
   "execution_count": null,
   "metadata": {},
   "outputs": [],
   "source": [
    "string_bits"
   ]
  },
  {
   "cell_type": "code",
   "execution_count": null,
   "metadata": {},
   "outputs": [],
   "source": [
    "# lists don't need to contain objects of the same type (though, they often do):\n",
    "l = [1, 2, 3, \"four\", 5.0]\n",
    "for i in l:\n",
    "    print(type(i))"
   ]
  },
  {
   "cell_type": "markdown",
   "metadata": {},
   "source": [
    "### Numerical Types\n",
    "- Though there are quite a few, most of the time you will only end up using \"int\" and \"float\""
   ]
  },
  {
   "cell_type": "code",
   "execution_count": null,
   "metadata": {},
   "outputs": [],
   "source": [
    "# you distinguish between an int and a float with a decimal point\n",
    "type(6)"
   ]
  },
  {
   "cell_type": "code",
   "execution_count": null,
   "metadata": {},
   "outputs": [],
   "source": [
    "type(6.0)"
   ]
  },
  {
   "cell_type": "code",
   "execution_count": null,
   "metadata": {},
   "outputs": [],
   "source": [
    "# integer division will return a float (it didn't used to!)\n",
    "type(int(6) / int(3))"
   ]
  },
  {
   "cell_type": "code",
   "execution_count": null,
   "metadata": {},
   "outputs": [],
   "source": [
    "# integer multiplication will return an int\n",
    "type(6 * 4)"
   ]
  },
  {
   "cell_type": "code",
   "execution_count": null,
   "metadata": {},
   "outputs": [],
   "source": [
    "# power operations - e.g. cubing\n",
    "6**2"
   ]
  },
  {
   "cell_type": "code",
   "execution_count": null,
   "metadata": {},
   "outputs": [],
   "source": [
    "# inverse works for cube rooting...or does it?\n",
    "36**(1/2)"
   ]
  },
  {
   "cell_type": "code",
   "execution_count": null,
   "metadata": {},
   "outputs": [],
   "source": [
    "36**(1/2) == 6"
   ]
  },
  {
   "cell_type": "markdown",
   "metadata": {},
   "source": [
    "### Dictionaries\n",
    "- A fundamental, core concept in python - non-organised key:value pairs\n",
    "- Can contain any base-types, lists, dictionaries, or lists of dicts.. no restrictions on content"
   ]
  },
  {
   "cell_type": "code",
   "execution_count": null,
   "metadata": {},
   "outputs": [],
   "source": [
    "my_dict = {\n",
    "            'Name':'Charles',\n",
    "            'Age':25,\n",
    "            'Real_age':32,\n",
    "            'Nationality':'Brit',\n",
    "            'Preferred_sports':['Rugby','Cricket','Squash'],\n",
    "            'Attributes':{'Height':178,\n",
    "                          'Weight':84,\n",
    "                          'Eye_color':'Brown'},\n",
    "            'Jobs':[\n",
    "                {'Name':'Analyst',\n",
    "                 'Priority':1,\n",
    "                 'Team':'Investment'},\n",
    "                {'Name':'Tutor',\n",
    "                 'Priority':2,\n",
    "                 'Team':'Official Institutions'}\n",
    "            ]\n",
    "          }"
   ]
  },
  {
   "cell_type": "code",
   "execution_count": null,
   "metadata": {},
   "outputs": [],
   "source": [
    "my_dict.keys()"
   ]
  },
  {
   "cell_type": "code",
   "execution_count": null,
   "metadata": {},
   "outputs": [],
   "source": [
    "# keys accessed via square brackets (like a list)\n",
    "my_dict['Age']"
   ]
  },
  {
   "cell_type": "code",
   "execution_count": null,
   "metadata": {},
   "outputs": [],
   "source": [
    "# return the object... if that's a list, then list methods can be used on it!\n",
    "my_dict['Jobs'][0]"
   ]
  },
  {
   "cell_type": "code",
   "execution_count": null,
   "metadata": {},
   "outputs": [],
   "source": [
    "# can go deeper and deeper - as long as conventions appropriate for the object type\n",
    "# (e.g. dicts needs to be accessed via their keys, list items by their numerical index)\n",
    "my_dict['Jobs'][1]['Team']"
   ]
  },
  {
   "cell_type": "code",
   "execution_count": null,
   "metadata": {},
   "outputs": [],
   "source": [
    "# use the \".get\" method for when a key may or may not exist\n",
    "# can also be used to supply a default value, thereby preventing a KeyError\n",
    "my_dict['Birthplace']"
   ]
  },
  {
   "cell_type": "code",
   "execution_count": null,
   "metadata": {},
   "outputs": [],
   "source": [
    "{['A','B']:1}"
   ]
  },
  {
   "cell_type": "code",
   "execution_count": null,
   "metadata": {},
   "outputs": [],
   "source": [
    "my_dict.get(\"Birthplace\", \"Unknown\")"
   ]
  },
  {
   "cell_type": "code",
   "execution_count": null,
   "metadata": {},
   "outputs": [],
   "source": [
    "for v in my_dict.values():\n",
    "    print(v)"
   ]
  },
  {
   "cell_type": "code",
   "execution_count": null,
   "metadata": {
    "scrolled": false
   },
   "outputs": [],
   "source": [
    "# The keys, the values, and the (key value) pairs can be iterated over:\n",
    "for k in my_dict.keys():\n",
    "    print(k)"
   ]
  },
  {
   "cell_type": "code",
   "execution_count": null,
   "metadata": {},
   "outputs": [],
   "source": [
    "# not all iterable methods return a single item...\n",
    "for k, v in my_dict.items():\n",
    "    print(k,\":\", v)"
   ]
  },
  {
   "cell_type": "markdown",
   "metadata": {},
   "source": [
    "### Honourable Mentions\n",
    "Less commony seen data formats, but still useful"
   ]
  },
  {
   "cell_type": "markdown",
   "metadata": {},
   "source": [
    "#### Sets\n",
    "- All objects in a set must be unique "
   ]
  },
  {
   "cell_type": "code",
   "execution_count": null,
   "metadata": {},
   "outputs": [],
   "source": [
    "my_set = {1, 1, 2, 3, 4, 4, 5, 6, 6, 6}\n",
    "my_set"
   ]
  },
  {
   "cell_type": "code",
   "execution_count": null,
   "metadata": {},
   "outputs": [],
   "source": [
    "# sets can be made lists with list() operator\n",
    "# useful for sorting duplicates from data\n",
    "list(my_set)"
   ]
  },
  {
   "cell_type": "markdown",
   "metadata": {},
   "source": [
    "#### Tuples\n",
    "- \"Immutable\" - once instantiated, they cannot be edited\n",
    "- can be any length BUT no flags / helpers for what data is inside - should be restricted to memorable length\n",
    "- use with caution / in circumstances where you know the data order"
   ]
  },
  {
   "cell_type": "code",
   "execution_count": null,
   "metadata": {},
   "outputs": [],
   "source": [
    "my_tuple = (\"Car\",\"Mitsubishi\",14)"
   ]
  },
  {
   "cell_type": "code",
   "execution_count": null,
   "metadata": {},
   "outputs": [],
   "source": [
    "my_tuple[1]"
   ]
  },
  {
   "cell_type": "code",
   "execution_count": null,
   "metadata": {},
   "outputs": [],
   "source": [
    "my_tuple[1] = \"Hyundai\""
   ]
  },
  {
   "cell_type": "code",
   "execution_count": null,
   "metadata": {},
   "outputs": [],
   "source": [
    "my_tuple.append(\"1700 miles\")"
   ]
  },
  {
   "cell_type": "markdown",
   "metadata": {},
   "source": [
    "#### Named Tuples\n",
    "- Bit of a historical oddity. Does have its uses. Combines elements of dictionaries and tuples!"
   ]
  },
  {
   "cell_type": "code",
   "execution_count": null,
   "metadata": {},
   "outputs": [],
   "source": [
    "from collections import namedtuple\n",
    " \n",
    "# Declaring namedtuple()\n",
    "Car = namedtuple('Car', ['make', 'age', 'mileage'])\n",
    " \n",
    "# Adding values\n",
    "my_car = Car('Mitsubishi', 14, 70000)"
   ]
  },
  {
   "cell_type": "code",
   "execution_count": null,
   "metadata": {},
   "outputs": [],
   "source": [
    "my_car.age"
   ]
  },
  {
   "cell_type": "code",
   "execution_count": null,
   "metadata": {},
   "outputs": [],
   "source": [
    "my_car.make"
   ]
  },
  {
   "cell_type": "code",
   "execution_count": null,
   "metadata": {},
   "outputs": [],
   "source": []
  }
 ],
 "metadata": {
  "kernelspec": {
   "display_name": "Python (Concrete 3.9)",
   "language": "python",
   "name": "concrete_39"
  },
  "language_info": {
   "codemirror_mode": {
    "name": "ipython",
    "version": 3
   },
   "file_extension": ".py",
   "mimetype": "text/x-python",
   "name": "python",
   "nbconvert_exporter": "python",
   "pygments_lexer": "ipython3",
   "version": "3.9.12"
  }
 },
 "nbformat": 4,
 "nbformat_minor": 4
}

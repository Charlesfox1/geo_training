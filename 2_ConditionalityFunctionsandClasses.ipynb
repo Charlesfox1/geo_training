{
 "cells": [
  {
   "cell_type": "code",
   "execution_count": null,
   "metadata": {},
   "outputs": [],
   "source": [
    "# import statements allow us to make use of other's code when it is organised into libraries\n",
    "import numpy as np\n",
    "import pandas as pd"
   ]
  },
  {
   "cell_type": "markdown",
   "metadata": {},
   "source": [
    "### Conditionality, Functions, Classes\n",
    "- If / else allows us to control which bits of code get executed\n",
    "- Functions allow us to routinise operations on objects\n",
    "- Classes are \"factories\" that produce objects with user-defined attributes and methods"
   ]
  },
  {
   "cell_type": "markdown",
   "metadata": {},
   "source": [
    "### Conditionality \n",
    "- The If / elif / else pattern is the best introduction to conditonality\n",
    "- Other options include dictionary-based execution\n",
    "- Try / except is a special case which works around errors"
   ]
  },
  {
   "cell_type": "code",
   "execution_count": null,
   "metadata": {},
   "outputs": [],
   "source": [
    "# the code below the if statement only executes if the \"condition\" is TRUE\n",
    "if True:\n",
    "    print(\"executed!\")"
   ]
  },
  {
   "cell_type": "code",
   "execution_count": null,
   "metadata": {},
   "outputs": [],
   "source": [
    "# '==' tests for equality"
   ]
  },
  {
   "cell_type": "code",
   "execution_count": null,
   "metadata": {},
   "outputs": [],
   "source": [
    "3 == 3"
   ]
  },
  {
   "cell_type": "code",
   "execution_count": null,
   "metadata": {},
   "outputs": [],
   "source": [
    "type(3 == 3)"
   ]
  },
  {
   "cell_type": "code",
   "execution_count": null,
   "metadata": {},
   "outputs": [],
   "source": [
    "(3 == 3) == True"
   ]
  },
  {
   "cell_type": "code",
   "execution_count": null,
   "metadata": {},
   "outputs": [],
   "source": [
    "if 3 == 3:\n",
    "    print('executed')"
   ]
  },
  {
   "cell_type": "code",
   "execution_count": null,
   "metadata": {},
   "outputs": [],
   "source": [
    "if \"true\":\n",
    "    print(\"executed\")"
   ]
  },
  {
   "cell_type": "code",
   "execution_count": null,
   "metadata": {},
   "outputs": [],
   "source": [
    "\"true\" == True"
   ]
  },
  {
   "cell_type": "code",
   "execution_count": null,
   "metadata": {},
   "outputs": [],
   "source": [
    "if \"false\":\n",
    "    print('executed')"
   ]
  },
  {
   "cell_type": "code",
   "execution_count": null,
   "metadata": {},
   "outputs": [],
   "source": [
    "if \"bananas, apples, pears\":\n",
    "    print('executed')"
   ]
  },
  {
   "cell_type": "code",
   "execution_count": null,
   "metadata": {},
   "outputs": [],
   "source": [
    "# what's going on? string statements, regardless of content, evaluate to boolean True\n",
    "bool(\"tr\")"
   ]
  },
  {
   "cell_type": "code",
   "execution_count": null,
   "metadata": {},
   "outputs": [],
   "source": [
    "# Same with ints! They exist therefore True...\n",
    "if 4:\n",
    "    print('executed')"
   ]
  },
  {
   "cell_type": "code",
   "execution_count": null,
   "metadata": {},
   "outputs": [],
   "source": [
    "bool(4)"
   ]
  },
  {
   "cell_type": "code",
   "execution_count": null,
   "metadata": {},
   "outputs": [],
   "source": [
    "# can do this with variables too: \n",
    "x = 4\n",
    "if x == 4:\n",
    "    print(\"executed!\")"
   ]
  },
  {
   "cell_type": "code",
   "execution_count": null,
   "metadata": {},
   "outputs": [],
   "source": [
    "# can do this with variables too: \n",
    "x = 4\n",
    "if x == 4:\n",
    "    print(\"executed!\")"
   ]
  },
  {
   "cell_type": "code",
   "execution_count": null,
   "metadata": {},
   "outputs": [],
   "source": [
    "# what happens if the conditon is False?\n",
    "if x == 7:\n",
    "    print(\"executed\")"
   ]
  },
  {
   "cell_type": "code",
   "execution_count": null,
   "metadata": {},
   "outputs": [],
   "source": [
    "# we can pass the false condition to \"else\"\n",
    "# \"else\" operator cannot have any condition to test\n",
    "x = 1\n",
    "if x == 4:\n",
    "    print(\"Conditional code line 1 executed\")\n",
    "else:\n",
    "    print(\"Conditional code line 2 executed\")"
   ]
  },
  {
   "cell_type": "code",
   "execution_count": null,
   "metadata": {},
   "outputs": [],
   "source": [
    "# \"elif\" allows us to test some more conditions before we end up at \"else\" - and exit the execution there\n",
    "x = 7\n",
    "if x == 5:\n",
    "    print(\"Conditional code line 1 executed\")\n",
    "elif x == 6:\n",
    "    print(\"Conditional code line 2 executed\")\n",
    "elif x == 7:\n",
    "    print(\"Conditional code line 3 executed\")    \n",
    "else:\n",
    "    print(\"Conditional code line 4 executed\")"
   ]
  },
  {
   "cell_type": "code",
   "execution_count": null,
   "metadata": {},
   "outputs": [],
   "source": [
    "# We don't need to always test for equality - can use < > != operators\n",
    "x = 14\n",
    "if x > 10:\n",
    "    print(\"Big number\")\n",
    "elif x > 5:\n",
    "    print(\"Medium number\")\n",
    "elif x > 0:\n",
    "    print(\"Small number\")\n",
    "else:\n",
    "    print(\"Negative number\")"
   ]
  },
  {
   "cell_type": "markdown",
   "metadata": {},
   "source": [
    "### Functions"
   ]
  },
  {
   "cell_type": "code",
   "execution_count": null,
   "metadata": {},
   "outputs": [],
   "source": [
    "# Functions can be spotted by the use of the \"def\" keyword \n",
    "def my_first_function(my_input):\n",
    "    add_amount = 5\n",
    "    new_value = my_input + add_amount\n",
    "    return new_value"
   ]
  },
  {
   "cell_type": "code",
   "execution_count": null,
   "metadata": {},
   "outputs": [],
   "source": [
    "my_first_function"
   ]
  },
  {
   "cell_type": "code",
   "execution_count": null,
   "metadata": {},
   "outputs": [],
   "source": [
    "# functions are called when brackets \"()\" are used, and an input is passed (maybe)\n",
    "my_first_function(7)"
   ]
  },
  {
   "cell_type": "code",
   "execution_count": null,
   "metadata": {},
   "outputs": [],
   "source": [
    "# the output of functions can be assigned to variables same as any other value\n",
    "my_output = my_first_function(7)\n",
    "print(my_output)"
   ]
  },
  {
   "cell_type": "code",
   "execution_count": null,
   "metadata": {},
   "outputs": [],
   "source": [
    "# IMPORTANT - time to introduce name scope. Variable \"add_amount\" only exists inside the function:\n",
    "type(add_amount)"
   ]
  },
  {
   "cell_type": "code",
   "execution_count": null,
   "metadata": {},
   "outputs": [],
   "source": [
    "def my_first_function(my_input):\n",
    "    add_amount = 5\n",
    "    print(type(add_amount))\n",
    "    return my_input + add_amount"
   ]
  },
  {
   "cell_type": "code",
   "execution_count": null,
   "metadata": {},
   "outputs": [],
   "source": [
    "my_output = my_first_function(7)\n",
    "print(my_output)"
   ]
  },
  {
   "cell_type": "code",
   "execution_count": null,
   "metadata": {},
   "outputs": [],
   "source": [
    "# once the function name is called with appropriate number + type of inputs, \n",
    "# python execution moves \"inside\" the function code until a \"return\" statement\n",
    "# moves execution back to the previous (top) level"
   ]
  },
  {
   "cell_type": "code",
   "execution_count": null,
   "metadata": {},
   "outputs": [],
   "source": [
    "# this function only exists in the scope of my_nested_function\n",
    "def add_val(y): \n",
    "    # the variable add_amount only exists in the scope of function add_val\n",
    "    add_amount = 5\n",
    "    print(\"add_val function triggered!\")\n",
    "    return y + add_amount\n",
    "\n",
    "# this function only exists in the scope of my_nested_function\n",
    "def sub_val(y): \n",
    "    # the variable sub_amount only exists in the scope of function sub_val\n",
    "    sub_amount = 7\n",
    "    print(\"sub_val function triggered!\")\n",
    "    return y + sub_amount\n",
    "\n",
    "def my_nested_function(x:int):\n",
    "        \n",
    "    # conditionally choose what to do based on input value\n",
    "    if x > 10: \n",
    "        return sub_val(x)\n",
    "    elif x > 5:\n",
    "        return add_val(x)\n",
    "    else:\n",
    "        print(\"value too small - you get a 4\")\n",
    "        return 4"
   ]
  },
  {
   "cell_type": "code",
   "execution_count": null,
   "metadata": {},
   "outputs": [],
   "source": [
    "my_nested_function(11)"
   ]
  },
  {
   "cell_type": "code",
   "execution_count": null,
   "metadata": {
    "scrolled": true
   },
   "outputs": [],
   "source": [
    "my_nested_function(6)"
   ]
  },
  {
   "cell_type": "code",
   "execution_count": null,
   "metadata": {},
   "outputs": [],
   "source": [
    "my_nested_function(3)"
   ]
  },
  {
   "cell_type": "code",
   "execution_count": null,
   "metadata": {},
   "outputs": [],
   "source": [
    "# proof of scope - add_val doesn't exist outside parent function\n",
    "add_val(5)"
   ]
  },
  {
   "cell_type": "code",
   "execution_count": null,
   "metadata": {},
   "outputs": [],
   "source": [
    "# ...neither does add_amount\n",
    "add_amount"
   ]
  },
  {
   "cell_type": "markdown",
   "metadata": {},
   "source": [
    "### Function - Inputs"
   ]
  },
  {
   "cell_type": "code",
   "execution_count": null,
   "metadata": {},
   "outputs": [],
   "source": [
    "# functions can take an unlimited number of inputs, and also return any number of outputs\n",
    "def my_second_function(x, y):\n",
    "    return x + y, x - y, x**y,"
   ]
  },
  {
   "cell_type": "code",
   "execution_count": null,
   "metadata": {},
   "outputs": [],
   "source": [
    "my_second_function(2, 3)"
   ]
  },
  {
   "cell_type": "code",
   "execution_count": null,
   "metadata": {},
   "outputs": [],
   "source": [
    "# You can see immediately how this can be useful:\n",
    "def statistical_summary(array: list):\n",
    "        \n",
    "    mean = np.mean(array)\n",
    "    lower_quartile = np.quantile(array, 0.25)\n",
    "    median = np.median(array)\n",
    "    upper_quartile = np.quantile(array, 0.75)\n",
    "    \n",
    "    return mean, lower_quartile, median, upper_quartile"
   ]
  },
  {
   "cell_type": "code",
   "execution_count": null,
   "metadata": {},
   "outputs": [],
   "source": [
    "statistical_summary([1,2,3,4,5,5,6,7,8])"
   ]
  },
  {
   "cell_type": "code",
   "execution_count": null,
   "metadata": {},
   "outputs": [],
   "source": [
    "# ...though perhaps a different output format would be more helpful?\n",
    "def statistical_summary(array: list):\n",
    "    \n",
    "    summary = {\n",
    "    'mean' : np.mean(array),\n",
    "    'lower_quartile' : np.quantile(array, 0.25),\n",
    "    'median' : np.median(array),\n",
    "    'upper_quartile' : np.quantile(array, 0.75)\n",
    "    }\n",
    "    \n",
    "    return summary"
   ]
  },
  {
   "cell_type": "code",
   "execution_count": null,
   "metadata": {},
   "outputs": [],
   "source": [
    "statistical_summary([1,2,3,4,5,5,6,7,8])"
   ]
  },
  {
   "cell_type": "code",
   "execution_count": null,
   "metadata": {},
   "outputs": [],
   "source": [
    "# you can type-hint these functions to tell others what sort of input they expect:\n",
    "def my_third_function(x: int, y: int):\n",
    "    return x**y"
   ]
  },
  {
   "cell_type": "code",
   "execution_count": null,
   "metadata": {},
   "outputs": [],
   "source": [
    "my_third_function(2, 3)"
   ]
  },
  {
   "cell_type": "code",
   "execution_count": null,
   "metadata": {},
   "outputs": [],
   "source": [
    "# ...but it won't stop you from passing the wrong type of input!\n",
    "my_third_function(2, \"potato\")"
   ]
  },
  {
   "cell_type": "code",
   "execution_count": null,
   "metadata": {},
   "outputs": [],
   "source": [
    "# function inputs can also be given default values for arguments:\n",
    "def my_fourth_function(a:int=1,\n",
    "                       b:int=2, \n",
    "                       c:int=3, \n",
    "                       d:int=4, \n",
    "                       e:int=5, \n",
    "                       f:int=6):\n",
    "    \n",
    "    return a + b + c + d + e + f\n",
    "\n",
    "my_fourth_function()"
   ]
  },
  {
   "cell_type": "code",
   "execution_count": null,
   "metadata": {},
   "outputs": [],
   "source": [
    "# can be useful when formatting financial values!\n",
    "def currency_format(value, currency_code = 'HKD'):\n",
    "    \n",
    "    # f-strings allow you to inject values\n",
    "    formatted_string = f\"{currency_code} {value:.2f}\"\n",
    "    \n",
    "    return formatted_string"
   ]
  },
  {
   "cell_type": "code",
   "execution_count": null,
   "metadata": {},
   "outputs": [],
   "source": [
    "currency_format(4)"
   ]
  },
  {
   "cell_type": "code",
   "execution_count": null,
   "metadata": {},
   "outputs": [],
   "source": [
    "# * notation can \"unload\" dictionaries into a function\n",
    "# ** double-star notation unloads dictionaries into a function\n",
    "args = [10,20,30]\n",
    "kwargs = {'e':50, 'f':60, 'd':40}\n",
    "\n",
    "my_fourth_function(*args, **kwargs)"
   ]
  },
  {
   "cell_type": "markdown",
   "metadata": {},
   "source": [
    "### Functions Are First Class Citizens\n",
    "- arguments can be passed through functions to functions a leayer down\n",
    "- functions can be passed as arguments to other functions\n",
    "- functions are objects, just like anything else"
   ]
  },
  {
   "cell_type": "code",
   "execution_count": null,
   "metadata": {},
   "outputs": [],
   "source": [
    "def my_logging_wrapper(args = [], \n",
    "                       kwargs = {}\n",
    "                      ):\n",
    "    print(\"I am the wrapper function\")\n",
    "    print(\"Code can be executed by me!\")\n",
    "    output = my_fourth_function(*args, **kwargs)\n",
    "    return output"
   ]
  },
  {
   "cell_type": "code",
   "execution_count": null,
   "metadata": {},
   "outputs": [],
   "source": [
    "top_level_output = my_logging_wrapper()\n",
    "top_level_output"
   ]
  },
  {
   "cell_type": "code",
   "execution_count": null,
   "metadata": {},
   "outputs": [],
   "source": [
    "my_logging_wrapper([10,20,30])"
   ]
  },
  {
   "cell_type": "code",
   "execution_count": null,
   "metadata": {},
   "outputs": [],
   "source": [
    "my_logging_wrapper([], {'e':70, 'f':70, 'a':70, 'b':70, 'c':70, 'd':70})"
   ]
  },
  {
   "cell_type": "code",
   "execution_count": null,
   "metadata": {},
   "outputs": [],
   "source": [
    "# make use of the ability to pass one function to another\n",
    "# this time, we will pass a function to a lower level"
   ]
  },
  {
   "cell_type": "code",
   "execution_count": null,
   "metadata": {},
   "outputs": [],
   "source": [
    "def my_logging_decorator(func):\n",
    "    def wrapper(*args, **kwargs):\n",
    "        print(\"I am the wrapper function; Code could be executed here\")\n",
    "        result = func(*args, **kwargs)\n",
    "        # could do something after result is returned if we wanted to\n",
    "        return result\n",
    "    # this is crucial - we are returning \"wrapper\" NOT the output of wrapper!\n",
    "    # wrapper hasn't been called anywhere with ()\n",
    "    return wrapper"
   ]
  },
  {
   "cell_type": "code",
   "execution_count": null,
   "metadata": {},
   "outputs": [],
   "source": [
    "logged_fourth_function = my_logging_decorator(my_fourth_function)"
   ]
  },
  {
   "cell_type": "code",
   "execution_count": null,
   "metadata": {},
   "outputs": [],
   "source": [
    "logged_fourth_function"
   ]
  },
  {
   "cell_type": "code",
   "execution_count": null,
   "metadata": {},
   "outputs": [],
   "source": [
    "logged_fourth_function()"
   ]
  },
  {
   "cell_type": "code",
   "execution_count": null,
   "metadata": {},
   "outputs": [],
   "source": [
    "@my_logging_decorator\n",
    "def decorator_logged_fourth_function(a:int=1,\n",
    "                                     b:int=2, \n",
    "                                     c:int=3, \n",
    "                                     d:int=4, \n",
    "                                     e:int=5, \n",
    "                                     f:int=6):\n",
    "    \n",
    "    return a + b + c + d + e + f"
   ]
  },
  {
   "cell_type": "code",
   "execution_count": null,
   "metadata": {},
   "outputs": [],
   "source": [
    "decorator_logged_fourth_function"
   ]
  },
  {
   "cell_type": "code",
   "execution_count": null,
   "metadata": {},
   "outputs": [],
   "source": [
    "decorator_logged_fourth_function()"
   ]
  },
  {
   "cell_type": "markdown",
   "metadata": {},
   "source": [
    "### Scope"
   ]
  },
  {
   "cell_type": "code",
   "execution_count": null,
   "metadata": {},
   "outputs": [],
   "source": [
    "varGlobal = 70\n",
    "\n",
    "def example_function(x):\n",
    "    \n",
    "    varLocal = 10\n",
    "    \n",
    "    return x + varGlobal + varLocal\n",
    "\n",
    "answer = example_function(20)\n",
    "print(answer)"
   ]
  },
  {
   "cell_type": "code",
   "execution_count": null,
   "metadata": {},
   "outputs": [],
   "source": [
    "varGlobal"
   ]
  },
  {
   "cell_type": "code",
   "execution_count": null,
   "metadata": {},
   "outputs": [],
   "source": [
    "varLocal"
   ]
  },
  {
   "cell_type": "code",
   "execution_count": null,
   "metadata": {},
   "outputs": [],
   "source": [
    "varGlobal = 70\n",
    "\n",
    "def example_function(x):\n",
    "    \n",
    "    varLocal = 10\n",
    "    varGlobal = 5 # overwriting varGlobal in local scope\n",
    "    \n",
    "    return x + varGlobal + varLocal\n",
    "\n",
    "answer = example_function(20)\n",
    "print(answer)"
   ]
  },
  {
   "cell_type": "code",
   "execution_count": null,
   "metadata": {},
   "outputs": [],
   "source": [
    "# overwritten variable DOES NOT propogate back up to global scope\n",
    "varGlobal"
   ]
  },
  {
   "cell_type": "code",
   "execution_count": null,
   "metadata": {},
   "outputs": [],
   "source": []
  },
  {
   "cell_type": "code",
   "execution_count": null,
   "metadata": {},
   "outputs": [],
   "source": []
  },
  {
   "cell_type": "code",
   "execution_count": null,
   "metadata": {},
   "outputs": [],
   "source": []
  },
  {
   "cell_type": "code",
   "execution_count": null,
   "metadata": {},
   "outputs": [],
   "source": []
  },
  {
   "cell_type": "markdown",
   "metadata": {},
   "source": [
    "### Classes\n",
    "- Understanding even the basics of classes will be immensely helpful in harnessing the more powerful elements of Python\n",
    "- Classes are factories. They produce instances. The class definition is the \"blueprint\" of what to make"
   ]
  },
  {
   "cell_type": "code",
   "execution_count": null,
   "metadata": {},
   "outputs": [],
   "source": [
    "class Car():\n",
    "    \n",
    "    # special dunder \"init\" method called upon instance construction\n",
    "    def __init__(self, # ALWAYS exists for each instance\n",
    "                 make, # a required positional argument for making a Car instance\n",
    "                 mileage, # a required positional argument for making a Car instance\n",
    "                 wheels = 4 # a default positional argument - not required to make an instance\n",
    "                ):\n",
    "        \n",
    "        self.make = make\n",
    "        self.mileage = mileage\n",
    "        self.wheels = wheels"
   ]
  },
  {
   "cell_type": "code",
   "execution_count": null,
   "metadata": {},
   "outputs": [],
   "source": [
    "Car()"
   ]
  },
  {
   "cell_type": "code",
   "execution_count": null,
   "metadata": {},
   "outputs": [],
   "source": [
    "my_car = Car(\"Ford\", 100000)"
   ]
  },
  {
   "cell_type": "code",
   "execution_count": null,
   "metadata": {},
   "outputs": [],
   "source": [
    "my_car.mileage"
   ]
  },
  {
   "cell_type": "code",
   "execution_count": null,
   "metadata": {},
   "outputs": [],
   "source": [
    "my_car.make"
   ]
  },
  {
   "cell_type": "code",
   "execution_count": null,
   "metadata": {},
   "outputs": [],
   "source": [
    "my_car.wheels"
   ]
  },
  {
   "cell_type": "code",
   "execution_count": null,
   "metadata": {},
   "outputs": [],
   "source": [
    "my_car"
   ]
  },
  {
   "cell_type": "code",
   "execution_count": null,
   "metadata": {},
   "outputs": [],
   "source": [
    "class Car():\n",
    "    \n",
    "    wheels = 4\n",
    "    \n",
    "    # special dunder \"init\" method called upon instance construction\n",
    "    def __init__(self, # ALWAYS exists for each instance\n",
    "                 make, # a required positional argument for making a Car instance\n",
    "                 mileage, # a required positional argument for making a Car instance\n",
    "                ):\n",
    "        \n",
    "        self.make = make\n",
    "        self.mileage = mileage\n",
    "        \n",
    "    # Special dunder method which controls how Car is printed to the interpreter when called\n",
    "    def __repr__(self):\n",
    "        return f\"An instance of Car, with make {self.make} and mileage {self.mileage}\""
   ]
  },
  {
   "cell_type": "code",
   "execution_count": null,
   "metadata": {},
   "outputs": [],
   "source": [
    "my_car = Car(\"Ford\", 100000)"
   ]
  },
  {
   "cell_type": "code",
   "execution_count": null,
   "metadata": {},
   "outputs": [],
   "source": [
    "my_car"
   ]
  },
  {
   "cell_type": "code",
   "execution_count": null,
   "metadata": {},
   "outputs": [],
   "source": [
    "# Class variables and instance variables - if we change Class variables, \n",
    "# they change the values for ALL instances of the class currently in existence!\n",
    "my_car = Car(\"Ford\", 100000)"
   ]
  },
  {
   "cell_type": "code",
   "execution_count": null,
   "metadata": {},
   "outputs": [],
   "source": [
    "my_car.wheels"
   ]
  },
  {
   "cell_type": "code",
   "execution_count": null,
   "metadata": {},
   "outputs": [],
   "source": [
    "Rob_car.wheels"
   ]
  },
  {
   "cell_type": "code",
   "execution_count": null,
   "metadata": {},
   "outputs": [],
   "source": [
    "# So far, so good. Let's change the class definition!\n",
    "Car.wheels = 6"
   ]
  },
  {
   "cell_type": "code",
   "execution_count": null,
   "metadata": {},
   "outputs": [],
   "source": [
    "Rob_car = Car(\"Audi\", 3000)"
   ]
  },
  {
   "cell_type": "code",
   "execution_count": null,
   "metadata": {},
   "outputs": [],
   "source": [
    "Rob_car.wheels"
   ]
  },
  {
   "cell_type": "code",
   "execution_count": null,
   "metadata": {},
   "outputs": [],
   "source": [
    "# Ok, that scans... that makes sense... \n",
    "# we change the class variable and the newly created Rob_car inherits the new value\n",
    "# what about my_car?"
   ]
  },
  {
   "cell_type": "code",
   "execution_count": null,
   "metadata": {},
   "outputs": [],
   "source": [
    "my_car.wheels"
   ]
  },
  {
   "cell_type": "code",
   "execution_count": null,
   "metadata": {},
   "outputs": [],
   "source": [
    "# WOW! it retro-actively adjusted an instance created prior to the change. Why?\n",
    "# Class variables are shared across all instances of the class that are currently active\n",
    "# they \"point\" to a single, underlying variable which is shared / inherited by all objects \n",
    "# thus we can \"update\" all class instances currently operative by changing class variables. Neat!"
   ]
  },
  {
   "cell_type": "code",
   "execution_count": null,
   "metadata": {},
   "outputs": [],
   "source": [
    "Car.wheels = 4"
   ]
  },
  {
   "cell_type": "code",
   "execution_count": null,
   "metadata": {},
   "outputs": [],
   "source": [
    "Rob_car.wheels"
   ]
  },
  {
   "cell_type": "code",
   "execution_count": null,
   "metadata": {},
   "outputs": [],
   "source": [
    "my_car.wheels"
   ]
  },
  {
   "cell_type": "code",
   "execution_count": null,
   "metadata": {},
   "outputs": [],
   "source": [
    "# It is therefore worth thinking about what variables you want to be common to all instances of the class, \n",
    "# and which need to vary from instance to instance like mileage and make"
   ]
  },
  {
   "cell_type": "markdown",
   "metadata": {},
   "source": [
    "### Class Methods\n",
    "- Class 'methods' are functions that can be called from the instance"
   ]
  },
  {
   "cell_type": "code",
   "execution_count": null,
   "metadata": {},
   "outputs": [],
   "source": [
    "class Car():\n",
    "    \n",
    "    wheels = 4\n",
    "    \n",
    "    # special dunder \"init\" method called upon instance construction\n",
    "    def __init__(self, # ALWAYS exists for each instance\n",
    "                 make, # a required positional argument for making a Car instance\n",
    "                 mileage, # a required positional argument for making a Car instance\n",
    "                 distance = 0,\n",
    "                 time = 0):\n",
    "        \n",
    "        self.make = make\n",
    "        self.mileage = mileage\n",
    "        self.distance = distance\n",
    "        self.time = time\n",
    "        self.average_speed = self.distance / self.time if self.distance > 0 else 0\n",
    "        \n",
    "    # Special dunder method which controls how Car is printed to the interpreter when called\n",
    "    def __repr__(self):\n",
    "        return f\"An instance of Car, with make {self.make} and mileage {self.mileage}\"\n",
    "    \n",
    "    def add_section(self,\n",
    "                    distance, \n",
    "                    time):\n",
    "        self.distance += distance\n",
    "        self.time += time"
   ]
  },
  {
   "cell_type": "code",
   "execution_count": null,
   "metadata": {},
   "outputs": [],
   "source": [
    "my_car = Car(\"Ferrari\", 100)\n",
    "\n",
    "my_car.add_section(100, 20)"
   ]
  },
  {
   "cell_type": "code",
   "execution_count": null,
   "metadata": {},
   "outputs": [],
   "source": [
    "my_car.distance"
   ]
  },
  {
   "cell_type": "code",
   "execution_count": null,
   "metadata": {},
   "outputs": [],
   "source": [
    "my_car.time"
   ]
  },
  {
   "cell_type": "code",
   "execution_count": null,
   "metadata": {},
   "outputs": [],
   "source": [
    "my_car.average_speed"
   ]
  },
  {
   "cell_type": "code",
   "execution_count": null,
   "metadata": {},
   "outputs": [],
   "source": [
    "# Looks like average_Speed has been set on instantiation, \n",
    "# and doesn't update when its underlying attributes update! Let's make it a method:"
   ]
  },
  {
   "cell_type": "code",
   "execution_count": null,
   "metadata": {},
   "outputs": [],
   "source": [
    "class Car():\n",
    "    \n",
    "    wheels = 4\n",
    "    \n",
    "    # special dunder \"init\" method called upon instance construction\n",
    "    def __init__(self, # ALWAYS exists for each instance\n",
    "                 make, # a required positional argument for making a Car instance\n",
    "                 mileage, # a required positional argument for making a Car instance\n",
    "                 distance = 0,\n",
    "                 time = 0):\n",
    "        \n",
    "        self.make = make\n",
    "        self.mileage = mileage\n",
    "        self.distance = distance\n",
    "        self.time = time\n",
    "        self.sections = []\n",
    "        \n",
    "    # Special dunder method which controls how Car is printed to the interpreter when called\n",
    "    def __repr__(self):\n",
    "        return f\"An instance of Car, with make {self.make} and mileage {self.mileage}\"\n",
    "    \n",
    "    def add_section(self,\n",
    "                    distance, \n",
    "                    time):\n",
    "        self.distance += distance\n",
    "        self.time += time\n",
    "        self.sections.append((distance, time))\n",
    "        \n",
    "    def calculate_average_speed(self):\n",
    "        self.average_speed = self.distance / self.time if self.distance > 0 else 0\n",
    "        return self.average_speed"
   ]
  },
  {
   "cell_type": "code",
   "execution_count": null,
   "metadata": {},
   "outputs": [],
   "source": [
    "my_car = Car(\"Ferrari\", 100)\n",
    "my_car.add_section(100, 20)"
   ]
  },
  {
   "cell_type": "code",
   "execution_count": null,
   "metadata": {},
   "outputs": [],
   "source": [
    "my_car.calculate_average_speed()"
   ]
  },
  {
   "cell_type": "code",
   "execution_count": null,
   "metadata": {},
   "outputs": [],
   "source": [
    "# the function also set the answer as an instance variable which we access here:\n",
    "my_car.average_speed"
   ]
  },
  {
   "cell_type": "code",
   "execution_count": null,
   "metadata": {},
   "outputs": [],
   "source": [
    "# let's speed up a bit:\n",
    "my_car.add_section(100, 18)\n",
    "my_car.add_section(100, 14)\n",
    "my_car.add_section(100, 11)\n",
    "my_car.add_section(100, 7)"
   ]
  },
  {
   "cell_type": "code",
   "execution_count": null,
   "metadata": {},
   "outputs": [],
   "source": [
    "# remember, it won't automatically recalculate...\n",
    "my_car.average_speed"
   ]
  },
  {
   "cell_type": "code",
   "execution_count": null,
   "metadata": {},
   "outputs": [],
   "source": [
    "# until we call the class method again!\n",
    "my_car.calculate_average_speed()"
   ]
  },
  {
   "cell_type": "code",
   "execution_count": null,
   "metadata": {},
   "outputs": [],
   "source": [
    "my_car.average_speed"
   ]
  },
  {
   "cell_type": "code",
   "execution_count": null,
   "metadata": {},
   "outputs": [],
   "source": [
    "# We can use our \"sections\" attribute to pull out a history of our driving:\n",
    "my_car.sections"
   ]
  },
  {
   "cell_type": "code",
   "execution_count": null,
   "metadata": {},
   "outputs": [],
   "source": [
    "# And if we fancied it we could even turn that into a graph!\n",
    "df = pd.DataFrame(my_car.sections, columns = ['distance','time'])"
   ]
  },
  {
   "cell_type": "code",
   "execution_count": null,
   "metadata": {},
   "outputs": [],
   "source": [
    "df['speed'] = df['distance'] / df['time']"
   ]
  },
  {
   "cell_type": "code",
   "execution_count": null,
   "metadata": {},
   "outputs": [],
   "source": [
    "df['speed'].plot()"
   ]
  },
  {
   "cell_type": "code",
   "execution_count": null,
   "metadata": {},
   "outputs": [],
   "source": [
    "# In fact, we could even load that in as a method to our class"
   ]
  },
  {
   "cell_type": "code",
   "execution_count": null,
   "metadata": {},
   "outputs": [],
   "source": [
    "class Car():\n",
    "    \n",
    "    wheels = 4\n",
    "    \n",
    "    # special dunder \"init\" method called upon instance construction\n",
    "    def __init__(self, # ALWAYS exists for each instance\n",
    "                 make, # a required positional argument for making a Car instance\n",
    "                 mileage, # a required positional argument for making a Car instance\n",
    "                 distance = 0,\n",
    "                 time = 0):\n",
    "        \n",
    "        self.make = make\n",
    "        self.mileage = mileage\n",
    "        self.distance = distance\n",
    "        self.time = time\n",
    "        self.sections = []\n",
    "        \n",
    "    # Special dunder method which controls how Car is printed to the interpreter when called\n",
    "    def __repr__(self):\n",
    "        return f\"An instance of Car, with make {self.make} and mileage {self.mileage}\"\n",
    "    \n",
    "    def add_section(self,\n",
    "                    distance, \n",
    "                    time):\n",
    "        self.distance += distance\n",
    "        self.time += time\n",
    "        self.sections.append((distance, time))\n",
    "        \n",
    "    def calculate_average_speed(self):\n",
    "        self.average_speed = self.distance / self.time if self.distance > 0 else 0\n",
    "        return self.average_speed\n",
    "    \n",
    "    def plot_speed(self):\n",
    "        df = pd.DataFrame(my_car.sections, columns = ['distance','time'])\n",
    "        df['speed'] = df['distance'] / df['time']\n",
    "        return df['speed'].plot()"
   ]
  },
  {
   "cell_type": "code",
   "execution_count": null,
   "metadata": {},
   "outputs": [],
   "source": [
    "my_car = Car(\"Ferrari\", 100)\n",
    "\n",
    "# come off the start line...\n",
    "my_car.add_section(100, 20)\n",
    "\n",
    "# let's speed up a bit:\n",
    "my_car.add_section(100, 18)\n",
    "my_car.add_section(100, 14)\n",
    "my_car.add_section(100, 11)\n",
    "my_car.add_section(100, 7)\n",
    "\n",
    "# brake into the corner:\n",
    "my_car.add_section(50, 12)\n",
    "my_car.add_section(50, 18)\n",
    "my_car.add_section(50, 19)\n",
    "my_car.add_section(50, 18)\n",
    "\n",
    "# accelerate off:\n",
    "my_car.add_section(100, 16)\n",
    "my_car.add_section(100, 13)\n",
    "my_car.add_section(100, 10)\n",
    "my_car.add_section(100, 8)"
   ]
  },
  {
   "cell_type": "code",
   "execution_count": null,
   "metadata": {},
   "outputs": [],
   "source": [
    "{('A','B'):1}"
   ]
  },
  {
   "cell_type": "code",
   "execution_count": null,
   "metadata": {},
   "outputs": [],
   "source": [
    "my_car.plot_speed()"
   ]
  },
  {
   "cell_type": "code",
   "execution_count": null,
   "metadata": {},
   "outputs": [],
   "source": []
  }
 ],
 "metadata": {
  "kernelspec": {
   "display_name": "Python (Concrete 3.9)",
   "language": "python",
   "name": "concrete_39"
  },
  "language_info": {
   "codemirror_mode": {
    "name": "ipython",
    "version": 3
   },
   "file_extension": ".py",
   "mimetype": "text/x-python",
   "name": "python",
   "nbconvert_exporter": "python",
   "pygments_lexer": "ipython3",
   "version": "3.9.12"
  }
 },
 "nbformat": 4,
 "nbformat_minor": 4
}
